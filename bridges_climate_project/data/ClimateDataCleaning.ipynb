{
 "cells": [
  {
   "cell_type": "code",
   "execution_count": 1,
   "id": "e03201da-006d-4a67-a98b-b443c053a52c",
   "metadata": {},
   "outputs": [],
   "source": [
    "import os\n",
    "import numpy as np\n",
    "import pandas as pd"
   ]
  },
  {
   "cell_type": "code",
   "execution_count": 3,
   "id": "5d6c8b2e-76b0-4715-9db1-f13dcab169fc",
   "metadata": {},
   "outputs": [],
   "source": [
    "# load data into pandas df\n",
    "file_path = \"D:/Scripts/bridges_project/climate_data.csv\"\n",
    "\n",
    "mylist = []\n",
    "\n",
    "for chunk in pd.read_csv(file_path, chunksize=1000):\n",
    "    mylist.append(chunk)\n",
    "\n",
    "climate_df = pd.concat(mylist, axis= 0)\n",
    "del mylist"
   ]
  },
  {
   "cell_type": "code",
   "execution_count": null,
   "id": "4689f831-88f4-4227-9eb3-5bb3bb422fc7",
   "metadata": {},
   "outputs": [],
   "source": [
    "climate_df.head()"
   ]
  },
  {
   "cell_type": "code",
   "execution_count": 5,
   "id": "f2bd1536-05f1-4cde-a198-29bc95731ee9",
   "metadata": {},
   "outputs": [
    {
     "name": "stdout",
     "output_type": "stream",
     "text": [
      "<class 'pandas.core.frame.DataFrame'>\n",
      "RangeIndex: 1048575 entries, 0 to 1048574\n",
      "Data columns (total 18 columns):\n",
      " #   Column                                        Non-Null Count    Dtype  \n",
      "---  ------                                        --------------    -----  \n",
      " 0   Year                                          1048575 non-null  int64  \n",
      " 1   1 - State Code                                1048575 non-null  int64  \n",
      " 2   1 - State Name                                1048575 non-null  object \n",
      " 3   8 - Structure Number                          1048575 non-null  object \n",
      " 4   2024 NBI Structure Number                     1048575 non-null  object \n",
      " 5   22 - Owner Agency                             1048575 non-null  object \n",
      " 6   Average Relative Humidity                     1031017 non-null  float64\n",
      " 7   Average Temperature                           1031017 non-null  float64\n",
      " 8   Maximum Temperature                           1031017 non-null  float64\n",
      " 9   Mean Wind Speed                               1031017 non-null  float64\n",
      " 10  Minimum Temperature                           1031017 non-null  float64\n",
      " 11  Number of Freeze-Thaw Cycles                  1046756 non-null  float64\n",
      " 12  Number of Snowfall Days                       1046756 non-null  float64\n",
      " 13  Number of Days with Measurable Precipitation  1031017 non-null  float64\n",
      " 14  Number of Days with Temperature Below 0?C     1031017 non-null  float64\n",
      " 15  Prevailing Wind Direction                     1031017 non-null  float64\n",
      " 16  Time of Wetness                               1031017 non-null  float64\n",
      " 17  Total Precipitation                           1031017 non-null  float64\n",
      "dtypes: float64(12), int64(2), object(4)\n",
      "memory usage: 144.0+ MB\n"
     ]
    }
   ],
   "source": [
    "climate_df.info()"
   ]
  },
  {
   "cell_type": "code",
   "execution_count": 15,
   "id": "16e47736-78e7-4984-9c55-a93d713735f2",
   "metadata": {},
   "outputs": [
    {
     "data": {
      "text/plain": [
       "8 - Structure Number\n",
       "000000000007210    20\n",
       "000000000007191    18\n",
       "000000000006514    18\n",
       "000000000007128    18\n",
       "000000000007193    17\n",
       "                   ..\n",
       "874544              1\n",
       "874542              1\n",
       "874541              1\n",
       "871075              1\n",
       "36J17               1\n",
       "Name: count, Length: 286813, dtype: int64"
      ]
     },
     "execution_count": 15,
     "metadata": {},
     "output_type": "execute_result"
    }
   ],
   "source": [
    "climate_df['8 - Structure Number'].value_counts()"
   ]
  },
  {
   "cell_type": "code",
   "execution_count": 6,
   "id": "76abe990-7044-4d11-aa09-750c170ce890",
   "metadata": {},
   "outputs": [
    {
     "data": {
      "text/plain": [
       "Year                                                0\n",
       "1 - State Code                                      0\n",
       "1 - State Name                                      0\n",
       "8 - Structure Number                                0\n",
       "2024 NBI Structure Number                           0\n",
       "22 - Owner Agency                                   0\n",
       "Average Relative Humidity                       17558\n",
       "Average Temperature                             17558\n",
       "Maximum Temperature                             17558\n",
       "Mean Wind Speed                                 17558\n",
       "Minimum Temperature                             17558\n",
       "Number of Freeze-Thaw Cycles                     1819\n",
       "Number of Snowfall Days                          1819\n",
       "Number of Days with Measurable Precipitation    17558\n",
       "Number of Days with Temperature Below 0?C       17558\n",
       "Prevailing Wind Direction                       17558\n",
       "Time of Wetness                                 17558\n",
       "Total Precipitation                             17558\n",
       "dtype: int64"
      ]
     },
     "execution_count": 6,
     "metadata": {},
     "output_type": "execute_result"
    }
   ],
   "source": [
    "climate_df.isna().sum()"
   ]
  },
  {
   "cell_type": "code",
   "execution_count": 16,
   "id": "f3a63734-239e-4237-af41-533f78eb5a33",
   "metadata": {},
   "outputs": [],
   "source": [
    "# drop unneed cols\n",
    "climate_df = climate_df.drop(columns= ['1 - State Name', '2024 NBI Structure Number', '22 - Owner Agency'])"
   ]
  },
  {
   "cell_type": "code",
   "execution_count": 17,
   "id": "4fc2e552-82f1-438a-8d54-8e032c53145f",
   "metadata": {},
   "outputs": [],
   "source": [
    "# drop rows with all nulls\n",
    "climate_df = climate_df.dropna(axis= 0, thresh= 12)"
   ]
  },
  {
   "cell_type": "code",
   "execution_count": 18,
   "id": "4e034c63-e828-41c3-ab52-888aca7467ed",
   "metadata": {},
   "outputs": [
    {
     "name": "stdout",
     "output_type": "stream",
     "text": [
      "<class 'pandas.core.frame.DataFrame'>\n",
      "Index: 1031017 entries, 0 to 1048574\n",
      "Data columns (total 15 columns):\n",
      " #   Column                                        Non-Null Count    Dtype  \n",
      "---  ------                                        --------------    -----  \n",
      " 0   Year                                          1031017 non-null  int64  \n",
      " 1   1 - State Code                                1031017 non-null  int64  \n",
      " 2   8 - Structure Number                          1031017 non-null  object \n",
      " 3   Average Relative Humidity                     1031017 non-null  float64\n",
      " 4   Average Temperature                           1031017 non-null  float64\n",
      " 5   Maximum Temperature                           1031017 non-null  float64\n",
      " 6   Mean Wind Speed                               1031017 non-null  float64\n",
      " 7   Minimum Temperature                           1031017 non-null  float64\n",
      " 8   Number of Freeze-Thaw Cycles                  1031017 non-null  float64\n",
      " 9   Number of Snowfall Days                       1031017 non-null  float64\n",
      " 10  Number of Days with Measurable Precipitation  1031017 non-null  float64\n",
      " 11  Number of Days with Temperature Below 0?C     1031017 non-null  float64\n",
      " 12  Prevailing Wind Direction                     1031017 non-null  float64\n",
      " 13  Time of Wetness                               1031017 non-null  float64\n",
      " 14  Total Precipitation                           1031017 non-null  float64\n",
      "dtypes: float64(12), int64(2), object(1)\n",
      "memory usage: 125.9+ MB\n"
     ]
    }
   ],
   "source": [
    "climate_df.info()"
   ]
  },
  {
   "cell_type": "code",
   "execution_count": 19,
   "id": "656645cf-9603-4aa3-9973-6a64fafceea2",
   "metadata": {},
   "outputs": [
    {
     "data": {
      "text/plain": [
       "Year                                            0\n",
       "1 - State Code                                  0\n",
       "8 - Structure Number                            0\n",
       "Average Relative Humidity                       0\n",
       "Average Temperature                             0\n",
       "Maximum Temperature                             0\n",
       "Mean Wind Speed                                 0\n",
       "Minimum Temperature                             0\n",
       "Number of Freeze-Thaw Cycles                    0\n",
       "Number of Snowfall Days                         0\n",
       "Number of Days with Measurable Precipitation    0\n",
       "Number of Days with Temperature Below 0?C       0\n",
       "Prevailing Wind Direction                       0\n",
       "Time of Wetness                                 0\n",
       "Total Precipitation                             0\n",
       "dtype: int64"
      ]
     },
     "execution_count": 19,
     "metadata": {},
     "output_type": "execute_result"
    }
   ],
   "source": [
    "climate_df.isna().sum()"
   ]
  },
  {
   "cell_type": "code",
   "execution_count": 21,
   "id": "6a1523aa-af0f-45ab-b25c-9321dbae4b60",
   "metadata": {},
   "outputs": [],
   "source": [
    "#save new df as csv, just in case\n",
    "save_dir = \"D:/Scripts/bridges_project/data\"\n",
    "save_name = \"climate_clean.csv\"\n",
    "save_path = os.path.join(save_dir, save_name)\n",
    "climate_df.to_csv(save_path, index= False)"
   ]
  },
  {
   "cell_type": "code",
   "execution_count": 22,
   "id": "419d271f-3ef3-4a37-ac0f-d5d312d697f2",
   "metadata": {},
   "outputs": [],
   "source": [
    "# load bridges data into pandas df\n",
    "file_path = \"D:/Scripts/bridges_project/data/masterBridgesFinal.csv\"\n",
    "\n",
    "mylist = []\n",
    "\n",
    "for chunk in pd.read_csv(file_path, chunksize=1000):\n",
    "    mylist.append(chunk)\n",
    "\n",
    "big_data = pd.concat(mylist, axis= 0)\n",
    "del mylist"
   ]
  },
  {
   "cell_type": "code",
   "execution_count": 29,
   "id": "b57150fa-3d08-472e-8a9b-1c3fbdd90c07",
   "metadata": {},
   "outputs": [],
   "source": [
    "bridges_climate = pd.merge(\n",
    "    left= climate_df,\n",
    "    right= big_data,\n",
    "    how= 'left',\n",
    "    left_on= ['8 - Structure Number', 'Year'],\n",
    "    right_on= ['STRUCTURE_NUMBER_008', 'YEAR'],\n",
    ")"
   ]
  },
  {
   "cell_type": "code",
   "execution_count": null,
   "id": "dfd6243f-0cc5-4970-a360-e77b3efef933",
   "metadata": {},
   "outputs": [],
   "source": [
    "big_data.info()    # 10208408 entries"
   ]
  },
  {
   "cell_type": "code",
   "execution_count": 30,
   "id": "95a405a0-744b-43cd-bac0-45b19a875aa8",
   "metadata": {},
   "outputs": [
    {
     "name": "stdout",
     "output_type": "stream",
     "text": [
      "<class 'pandas.core.frame.DataFrame'>\n",
      "RangeIndex: 1053752 entries, 0 to 1053751\n",
      "Data columns (total 63 columns):\n",
      " #   Column                                        Non-Null Count    Dtype  \n",
      "---  ------                                        --------------    -----  \n",
      " 0   Year                                          1053752 non-null  int64  \n",
      " 1   1 - State Code                                1053752 non-null  int64  \n",
      " 2   8 - Structure Number                          1053752 non-null  object \n",
      " 3   Average Relative Humidity                     1053752 non-null  float64\n",
      " 4   Average Temperature                           1053752 non-null  float64\n",
      " 5   Maximum Temperature                           1053752 non-null  float64\n",
      " 6   Mean Wind Speed                               1053752 non-null  float64\n",
      " 7   Minimum Temperature                           1053752 non-null  float64\n",
      " 8   Number of Freeze-Thaw Cycles                  1053752 non-null  float64\n",
      " 9   Number of Snowfall Days                       1053752 non-null  float64\n",
      " 10  Number of Days with Measurable Precipitation  1053752 non-null  float64\n",
      " 11  Number of Days with Temperature Below 0?C     1053752 non-null  float64\n",
      " 12  Prevailing Wind Direction                     1053752 non-null  float64\n",
      " 13  Time of Wetness                               1053752 non-null  float64\n",
      " 14  Total Precipitation                           1053752 non-null  float64\n",
      " 15  STATE_CODE_001                                178722 non-null   float64\n",
      " 16  STRUCTURE_NUMBER_008                          178722 non-null   object \n",
      " 17  SERVICE_LEVEL_005C                            178722 non-null   float64\n",
      " 18  DIRECTION_005E                                178722 non-null   float64\n",
      " 19  FUNCTIONAL_CLASS_026                          178722 non-null   float64\n",
      " 20  YEAR_BUILT_027                                178722 non-null   float64\n",
      " 21  TRAFFIC_LANES_ON_028A                         178722 non-null   float64\n",
      " 22  TRAFFIC_LANES_UND_028B                        178722 non-null   float64\n",
      " 23  ADT_029                                       178722 non-null   float64\n",
      " 24  MEDIAN_CODE_033                               178722 non-null   float64\n",
      " 25  DEGREES_SKEW_034                              178722 non-null   float64\n",
      " 26  STRUCTURE_FLARED_035                          178722 non-null   float64\n",
      " 27  OPEN_CLOSED_POSTED_041                        178722 non-null   float64\n",
      " 28  SERVICE_ON_042A                               178722 non-null   float64\n",
      " 29  SERVICE_UND_042B                              178722 non-null   float64\n",
      " 30  STRUCTURE_KIND_043A                           178722 non-null   float64\n",
      " 31  STRUCTURE_TYPE_043B                           178722 non-null   float64\n",
      " 32  APPR_KIND_044A                                178722 non-null   float64\n",
      " 33  APPR_TYPE_044B                                178722 non-null   float64\n",
      " 34  MAIN_UNIT_SPANS_045                           178722 non-null   float64\n",
      " 35  APPR_SPANS_046                                178722 non-null   float64\n",
      " 36  MAX_SPAN_LEN_MT_048                           178722 non-null   float64\n",
      " 37  STRUCTURE_LEN_MT_049                          178722 non-null   float64\n",
      " 38  DECK_COND_058                                 178722 non-null   float64\n",
      " 39  SUPERSTRUCTURE_COND_059                       178722 non-null   float64\n",
      " 40  SUBSTRUCTURE_COND_060                         178722 non-null   float64\n",
      " 41  CHANNEL_COND_061                              178722 non-null   float64\n",
      " 42  CULVERT_COND_062                              178722 non-null   float64\n",
      " 43  OPERATING_RATING_064                          178722 non-null   float64\n",
      " 44  DECK_GEOMETRY_EVAL_068                        178722 non-null   float64\n",
      " 45  WATERWAY_EVAL_071                             178722 non-null   float64\n",
      " 46  APPR_ROAD_EVAL_072                            178722 non-null   float64\n",
      " 47  INSPECT_FREQ_MONTHS_091                       178722 non-null   float64\n",
      " 48  YEAR_RECONSTRUCTED_106                        178722 non-null   float64\n",
      " 49  DECK_STRUCTURE_TYPE_107                       178722 non-null   float64\n",
      " 50  SURFACE_TYPE_108A                             178722 non-null   float64\n",
      " 51  MEMBRANE_TYPE_108B                            178722 non-null   float64\n",
      " 52  DECK_PROTECTION_108C                          178722 non-null   float64\n",
      " 53  PERCENT_ADT_TRUCK_109                         178722 non-null   float64\n",
      " 54  SCOUR_CRITICAL_113                            178722 non-null   float64\n",
      " 55  SUFFICIENCY_RATING                            178722 non-null   float64\n",
      " 56  YEAR                                          178722 non-null   float64\n",
      " 57  FRACTURE_FLAG_092AF                           178722 non-null   float64\n",
      " 58  UNDWATER_FLAG_092BF                           178722 non-null   float64\n",
      " 59  SPEC_FLAG_092AF                               178722 non-null   float64\n",
      " 60  INSPECT_FLAG_090F                             178722 non-null   float64\n",
      " 61  REL_BRIDGE_AGE                                178722 non-null   float64\n",
      " 62  STRUCTURE_NUMBER_008_ID                       178722 non-null   float64\n",
      "dtypes: float64(59), int64(2), object(2)\n",
      "memory usage: 506.5+ MB\n"
     ]
    }
   ],
   "source": [
    "bridges_climate.info()"
   ]
  },
  {
   "cell_type": "code",
   "execution_count": 31,
   "id": "c0a933f5-2788-4813-91d9-e2bd802a9f82",
   "metadata": {},
   "outputs": [
    {
     "data": {
      "text/plain": [
       "Year                              0\n",
       "1 - State Code                    0\n",
       "8 - Structure Number              0\n",
       "Average Relative Humidity         0\n",
       "Average Temperature               0\n",
       "                              ...  \n",
       "UNDWATER_FLAG_092BF          875030\n",
       "SPEC_FLAG_092AF              875030\n",
       "INSPECT_FLAG_090F            875030\n",
       "REL_BRIDGE_AGE               875030\n",
       "STRUCTURE_NUMBER_008_ID      875030\n",
       "Length: 63, dtype: int64"
      ]
     },
     "execution_count": 31,
     "metadata": {},
     "output_type": "execute_result"
    }
   ],
   "source": [
    "bridges_climate.isna().sum()"
   ]
  },
  {
   "cell_type": "code",
   "execution_count": 40,
   "id": "f10fbfcb-22f1-41ea-85d2-6ce84d526dc4",
   "metadata": {},
   "outputs": [
    {
     "data": {
      "image/png": "[encoded data removed]",
      "text/plain": [
       "<Figure size 640x480 with 1 Axes>"
      ]
     },
     "metadata": {},
     "output_type": "display_data"
    }
   ],
   "source": [
    "bridges_climate.STRUCTURE_KIND_043A.value_counts().plot(kind= 'bar');"
   ]
  },
  {
   "cell_type": "code",
   "execution_count": 34,
   "id": "50ac4f1d-10f1-4dd8-b9da-8e191d285fe3",
   "metadata": {},
   "outputs": [],
   "source": [
    "climateBridges_df = bridges_climate.dropna(axis= 0, how= 'any')"
   ]
  },
  {
   "cell_type": "code",
   "execution_count": 35,
   "id": "7095b5ba-2aec-4bef-a1c1-d1b9ae0e365a",
   "metadata": {},
   "outputs": [
    {
     "name": "stdout",
     "output_type": "stream",
     "text": [
      "<class 'pandas.core.frame.DataFrame'>\n",
      "Index: 178722 entries, 9 to 456433\n",
      "Data columns (total 63 columns):\n",
      " #   Column                                        Non-Null Count   Dtype  \n",
      "---  ------                                        --------------   -----  \n",
      " 0   Year                                          178722 non-null  int64  \n",
      " 1   1 - State Code                                178722 non-null  int64  \n",
      " 2   8 - Structure Number                          178722 non-null  object \n",
      " 3   Average Relative Humidity                     178722 non-null  float64\n",
      " 4   Average Temperature                           178722 non-null  float64\n",
      " 5   Maximum Temperature                           178722 non-null  float64\n",
      " 6   Mean Wind Speed                               178722 non-null  float64\n",
      " 7   Minimum Temperature                           178722 non-null  float64\n",
      " 8   Number of Freeze-Thaw Cycles                  178722 non-null  float64\n",
      " 9   Number of Snowfall Days                       178722 non-null  float64\n",
      " 10  Number of Days with Measurable Precipitation  178722 non-null  float64\n",
      " 11  Number of Days with Temperature Below 0?C     178722 non-null  float64\n",
      " 12  Prevailing Wind Direction                     178722 non-null  float64\n",
      " 13  Time of Wetness                               178722 non-null  float64\n",
      " 14  Total Precipitation                           178722 non-null  float64\n",
      " 15  STATE_CODE_001                                178722 non-null  float64\n",
      " 16  STRUCTURE_NUMBER_008                          178722 non-null  object \n",
      " 17  SERVICE_LEVEL_005C                            178722 non-null  float64\n",
      " 18  DIRECTION_005E                                178722 non-null  float64\n",
      " 19  FUNCTIONAL_CLASS_026                          178722 non-null  float64\n",
      " 20  YEAR_BUILT_027                                178722 non-null  float64\n",
      " 21  TRAFFIC_LANES_ON_028A                         178722 non-null  float64\n",
      " 22  TRAFFIC_LANES_UND_028B                        178722 non-null  float64\n",
      " 23  ADT_029                                       178722 non-null  float64\n",
      " 24  MEDIAN_CODE_033                               178722 non-null  float64\n",
      " 25  DEGREES_SKEW_034                              178722 non-null  float64\n",
      " 26  STRUCTURE_FLARED_035                          178722 non-null  float64\n",
      " 27  OPEN_CLOSED_POSTED_041                        178722 non-null  float64\n",
      " 28  SERVICE_ON_042A                               178722 non-null  float64\n",
      " 29  SERVICE_UND_042B                              178722 non-null  float64\n",
      " 30  STRUCTURE_KIND_043A                           178722 non-null  float64\n",
      " 31  STRUCTURE_TYPE_043B                           178722 non-null  float64\n",
      " 32  APPR_KIND_044A                                178722 non-null  float64\n",
      " 33  APPR_TYPE_044B                                178722 non-null  float64\n",
      " 34  MAIN_UNIT_SPANS_045                           178722 non-null  float64\n",
      " 35  APPR_SPANS_046                                178722 non-null  float64\n",
      " 36  MAX_SPAN_LEN_MT_048                           178722 non-null  float64\n",
      " 37  STRUCTURE_LEN_MT_049                          178722 non-null  float64\n",
      " 38  DECK_COND_058                                 178722 non-null  float64\n",
      " 39  SUPERSTRUCTURE_COND_059                       178722 non-null  float64\n",
      " 40  SUBSTRUCTURE_COND_060                         178722 non-null  float64\n",
      " 41  CHANNEL_COND_061                              178722 non-null  float64\n",
      " 42  CULVERT_COND_062                              178722 non-null  float64\n",
      " 43  OPERATING_RATING_064                          178722 non-null  float64\n",
      " 44  DECK_GEOMETRY_EVAL_068                        178722 non-null  float64\n",
      " 45  WATERWAY_EVAL_071                             178722 non-null  float64\n",
      " 46  APPR_ROAD_EVAL_072                            178722 non-null  float64\n",
      " 47  INSPECT_FREQ_MONTHS_091                       178722 non-null  float64\n",
      " 48  YEAR_RECONSTRUCTED_106                        178722 non-null  float64\n",
      " 49  DECK_STRUCTURE_TYPE_107                       178722 non-null  float64\n",
      " 50  SURFACE_TYPE_108A                             178722 non-null  float64\n",
      " 51  MEMBRANE_TYPE_108B                            178722 non-null  float64\n",
      " 52  DECK_PROTECTION_108C                          178722 non-null  float64\n",
      " 53  PERCENT_ADT_TRUCK_109                         178722 non-null  float64\n",
      " 54  SCOUR_CRITICAL_113                            178722 non-null  float64\n",
      " 55  SUFFICIENCY_RATING                            178722 non-null  float64\n",
      " 56  YEAR                                          178722 non-null  float64\n",
      " 57  FRACTURE_FLAG_092AF                           178722 non-null  float64\n",
      " 58  UNDWATER_FLAG_092BF                           178722 non-null  float64\n",
      " 59  SPEC_FLAG_092AF                               178722 non-null  float64\n",
      " 60  INSPECT_FLAG_090F                             178722 non-null  float64\n",
      " 61  REL_BRIDGE_AGE                                178722 non-null  float64\n",
      " 62  STRUCTURE_NUMBER_008_ID                       178722 non-null  float64\n",
      "dtypes: float64(59), int64(2), object(2)\n",
      "memory usage: 87.3+ MB\n"
     ]
    }
   ],
   "source": [
    "climateBridges_df.info()"
   ]
  },
  {
   "cell_type": "code",
   "execution_count": 41,
   "id": "f72dcf51-2386-4416-9c26-7ceab4240bc0",
   "metadata": {},
   "outputs": [
    {
     "data": {
      "image/png": "[encoded data removed]",
      "text/plain": [
       "<Figure size 640x480 with 1 Axes>"
      ]
     },
     "metadata": {},
     "output_type": "display_data"
    }
   ],
   "source": [
    "climateBridges_df.STRUCTURE_KIND_043A.value_counts().plot(kind= 'bar');"
   ]
  },
  {
   "cell_type": "code",
   "execution_count": 42,
   "id": "db4a8666-b7eb-49fd-9362-4296a06f8ded",
   "metadata": {},
   "outputs": [
    {
     "data": {
      "text/plain": [
       "STRUCTURE_KIND_043A\n",
       "1.0    60855\n",
       "5.0    43436\n",
       "3.0    27971\n",
       "2.0    20075\n",
       "4.0    11084\n",
       "6.0     8461\n",
       "7.0     6078\n",
       "9.0      414\n",
       "8.0      283\n",
       "0.0       65\n",
       "Name: count, dtype: int64"
      ]
     },
     "execution_count": 42,
     "metadata": {},
     "output_type": "execute_result"
    }
   ],
   "source": [
    "climateBridges_df.STRUCTURE_KIND_043A.value_counts()"
   ]
  },
  {
   "cell_type": "code",
   "execution_count": 44,
   "id": "bd28a7e6-e181-4fba-b8fb-220d5269f13f",
   "metadata": {},
   "outputs": [
    {
     "data": {
      "text/html": [
       "<div>\n",
       "<style scoped>\n",
       "    .dataframe tbody tr th:only-of-type {\n",
       "        vertical-align: middle;\n",
       "    }\n",
       "\n",
       "    .dataframe tbody tr th {\n",
       "        vertical-align: top;\n",
       "    }\n",
       "\n",
       "    .dataframe thead th {\n",
       "        text-align: right;\n",
       "    }\n",
       "</style>\n",
       "<table border=\"1\" class=\"dataframe\">\n",
       "  <thead>\n",
       "    <tr style=\"text-align: right;\">\n",
       "      <th></th>\n",
       "      <th>Year</th>\n",
       "      <th>1 - State Code</th>\n",
       "      <th>8 - Structure Number</th>\n",
       "      <th>Average Relative Humidity</th>\n",
       "      <th>Average Temperature</th>\n",
       "      <th>Maximum Temperature</th>\n",
       "      <th>Mean Wind Speed</th>\n",
       "      <th>Minimum Temperature</th>\n",
       "      <th>Number of Freeze-Thaw Cycles</th>\n",
       "      <th>Number of Snowfall Days</th>\n",
       "      <th>...</th>\n",
       "      <th>PERCENT_ADT_TRUCK_109</th>\n",
       "      <th>SCOUR_CRITICAL_113</th>\n",
       "      <th>SUFFICIENCY_RATING</th>\n",
       "      <th>YEAR</th>\n",
       "      <th>FRACTURE_FLAG_092AF</th>\n",
       "      <th>UNDWATER_FLAG_092BF</th>\n",
       "      <th>SPEC_FLAG_092AF</th>\n",
       "      <th>INSPECT_FLAG_090F</th>\n",
       "      <th>REL_BRIDGE_AGE</th>\n",
       "      <th>STRUCTURE_NUMBER_008_ID</th>\n",
       "    </tr>\n",
       "  </thead>\n",
       "  <tbody>\n",
       "    <tr>\n",
       "      <th>9</th>\n",
       "      <td>2017</td>\n",
       "      <td>1</td>\n",
       "      <td>019547</td>\n",
       "      <td>76.0</td>\n",
       "      <td>17.1</td>\n",
       "      <td>38.2</td>\n",
       "      <td>0.0</td>\n",
       "      <td>-11.7</td>\n",
       "      <td>43.0</td>\n",
       "      <td>5.0</td>\n",
       "      <td>...</td>\n",
       "      <td>13.0</td>\n",
       "      <td>8.0</td>\n",
       "      <td>82.3</td>\n",
       "      <td>2017.0</td>\n",
       "      <td>0.0</td>\n",
       "      <td>0.0</td>\n",
       "      <td>0.0</td>\n",
       "      <td>1.0</td>\n",
       "      <td>5.0</td>\n",
       "      <td>749331.0</td>\n",
       "    </tr>\n",
       "    <tr>\n",
       "      <th>18</th>\n",
       "      <td>2017</td>\n",
       "      <td>1</td>\n",
       "      <td>000273</td>\n",
       "      <td>77.0</td>\n",
       "      <td>17.8</td>\n",
       "      <td>39.5</td>\n",
       "      <td>0.0</td>\n",
       "      <td>-8.6</td>\n",
       "      <td>40.0</td>\n",
       "      <td>4.0</td>\n",
       "      <td>...</td>\n",
       "      <td>12.0</td>\n",
       "      <td>8.0</td>\n",
       "      <td>77.3</td>\n",
       "      <td>2017.0</td>\n",
       "      <td>0.0</td>\n",
       "      <td>0.0</td>\n",
       "      <td>0.0</td>\n",
       "      <td>1.0</td>\n",
       "      <td>35.0</td>\n",
       "      <td>435671.0</td>\n",
       "    </tr>\n",
       "    <tr>\n",
       "      <th>33</th>\n",
       "      <td>2017</td>\n",
       "      <td>1</td>\n",
       "      <td>019668</td>\n",
       "      <td>76.0</td>\n",
       "      <td>19.0</td>\n",
       "      <td>36.8</td>\n",
       "      <td>0.0</td>\n",
       "      <td>-9.3</td>\n",
       "      <td>23.0</td>\n",
       "      <td>3.0</td>\n",
       "      <td>...</td>\n",
       "      <td>32.0</td>\n",
       "      <td>8.0</td>\n",
       "      <td>87.7</td>\n",
       "      <td>2017.0</td>\n",
       "      <td>0.0</td>\n",
       "      <td>0.0</td>\n",
       "      <td>0.0</td>\n",
       "      <td>1.0</td>\n",
       "      <td>6.0</td>\n",
       "      <td>691820.0</td>\n",
       "    </tr>\n",
       "    <tr>\n",
       "      <th>34</th>\n",
       "      <td>2017</td>\n",
       "      <td>1</td>\n",
       "      <td>019669</td>\n",
       "      <td>76.0</td>\n",
       "      <td>19.0</td>\n",
       "      <td>36.8</td>\n",
       "      <td>0.0</td>\n",
       "      <td>-9.3</td>\n",
       "      <td>23.0</td>\n",
       "      <td>3.0</td>\n",
       "      <td>...</td>\n",
       "      <td>32.0</td>\n",
       "      <td>8.0</td>\n",
       "      <td>87.7</td>\n",
       "      <td>2017.0</td>\n",
       "      <td>0.0</td>\n",
       "      <td>0.0</td>\n",
       "      <td>0.0</td>\n",
       "      <td>1.0</td>\n",
       "      <td>7.0</td>\n",
       "      <td>691821.0</td>\n",
       "    </tr>\n",
       "    <tr>\n",
       "      <th>40</th>\n",
       "      <td>2017</td>\n",
       "      <td>1</td>\n",
       "      <td>000341</td>\n",
       "      <td>77.0</td>\n",
       "      <td>17.8</td>\n",
       "      <td>39.5</td>\n",
       "      <td>0.0</td>\n",
       "      <td>-8.6</td>\n",
       "      <td>40.0</td>\n",
       "      <td>4.0</td>\n",
       "      <td>...</td>\n",
       "      <td>12.0</td>\n",
       "      <td>8.0</td>\n",
       "      <td>76.2</td>\n",
       "      <td>2017.0</td>\n",
       "      <td>0.0</td>\n",
       "      <td>0.0</td>\n",
       "      <td>0.0</td>\n",
       "      <td>1.0</td>\n",
       "      <td>91.0</td>\n",
       "      <td>435694.0</td>\n",
       "    </tr>\n",
       "  </tbody>\n",
       "</table>\n",
       "<p>5 rows × 63 columns</p>\n",
       "</div>"
      ],
      "text/plain": [
       "    Year  1 - State Code 8 - Structure Number  Average Relative Humidity  \\\n",
       "9   2017               1      019547                                76.0   \n",
       "18  2017               1      000273                                77.0   \n",
       "33  2017               1      019668                                76.0   \n",
       "34  2017               1      019669                                76.0   \n",
       "40  2017               1      000341                                77.0   \n",
       "\n",
       "    Average Temperature  Maximum Temperature  Mean Wind Speed  \\\n",
       "9                  17.1                 38.2              0.0   \n",
       "18                 17.8                 39.5              0.0   \n",
       "33                 19.0                 36.8              0.0   \n",
       "34                 19.0                 36.8              0.0   \n",
       "40                 17.8                 39.5              0.0   \n",
       "\n",
       "    Minimum Temperature  Number of Freeze-Thaw Cycles  \\\n",
       "9                 -11.7                          43.0   \n",
       "18                 -8.6                          40.0   \n",
       "33                 -9.3                          23.0   \n",
       "34                 -9.3                          23.0   \n",
       "40                 -8.6                          40.0   \n",
       "\n",
       "    Number of Snowfall Days  ...  PERCENT_ADT_TRUCK_109  SCOUR_CRITICAL_113  \\\n",
       "9                       5.0  ...                   13.0                 8.0   \n",
       "18                      4.0  ...                   12.0                 8.0   \n",
       "33                      3.0  ...                   32.0                 8.0   \n",
       "34                      3.0  ...                   32.0                 8.0   \n",
       "40                      4.0  ...                   12.0                 8.0   \n",
       "\n",
       "    SUFFICIENCY_RATING    YEAR  FRACTURE_FLAG_092AF  UNDWATER_FLAG_092BF  \\\n",
       "9                 82.3  2017.0                  0.0                  0.0   \n",
       "18                77.3  2017.0                  0.0                  0.0   \n",
       "33                87.7  2017.0                  0.0                  0.0   \n",
       "34                87.7  2017.0                  0.0                  0.0   \n",
       "40                76.2  2017.0                  0.0                  0.0   \n",
       "\n",
       "   SPEC_FLAG_092AF  INSPECT_FLAG_090F  REL_BRIDGE_AGE  STRUCTURE_NUMBER_008_ID  \n",
       "9              0.0                1.0             5.0                 749331.0  \n",
       "18             0.0                1.0            35.0                 435671.0  \n",
       "33             0.0                1.0             6.0                 691820.0  \n",
       "34             0.0                1.0             7.0                 691821.0  \n",
       "40             0.0                1.0            91.0                 435694.0  \n",
       "\n",
       "[5 rows x 63 columns]"
      ]
     },
     "execution_count": 44,
     "metadata": {},
     "output_type": "execute_result"
    }
   ],
   "source": [
    "climateBridges_df.head()"
   ]
  },
  {
   "cell_type": "code",
   "execution_count": 45,
   "id": "0a4e0d57-8abe-4f09-b5a2-da42035ce997",
   "metadata": {},
   "outputs": [
    {
     "data": {
      "text/plain": [
       "['Year',\n",
       " '1 - State Code',\n",
       " '8 - Structure Number',\n",
       " 'Average Relative Humidity',\n",
       " 'Average Temperature',\n",
       " 'Maximum Temperature',\n",
       " 'Mean Wind Speed',\n",
       " 'Minimum Temperature',\n",
       " 'Number of Freeze-Thaw Cycles',\n",
       " 'Number of Snowfall Days',\n",
       " 'Number of Days with Measurable Precipitation',\n",
       " 'Number of Days with Temperature Below 0?C',\n",
       " 'Prevailing Wind Direction',\n",
       " 'Time of Wetness',\n",
       " 'Total Precipitation',\n",
       " 'STATE_CODE_001',\n",
       " 'STRUCTURE_NUMBER_008',\n",
       " 'SERVICE_LEVEL_005C',\n",
       " 'DIRECTION_005E',\n",
       " 'FUNCTIONAL_CLASS_026',\n",
       " 'YEAR_BUILT_027',\n",
       " 'TRAFFIC_LANES_ON_028A',\n",
       " 'TRAFFIC_LANES_UND_028B',\n",
       " 'ADT_029',\n",
       " 'MEDIAN_CODE_033',\n",
       " 'DEGREES_SKEW_034',\n",
       " 'STRUCTURE_FLARED_035',\n",
       " 'OPEN_CLOSED_POSTED_041',\n",
       " 'SERVICE_ON_042A',\n",
       " 'SERVICE_UND_042B',\n",
       " 'STRUCTURE_KIND_043A',\n",
       " 'STRUCTURE_TYPE_043B',\n",
       " 'APPR_KIND_044A',\n",
       " 'APPR_TYPE_044B',\n",
       " 'MAIN_UNIT_SPANS_045',\n",
       " 'APPR_SPANS_046',\n",
       " 'MAX_SPAN_LEN_MT_048',\n",
       " 'STRUCTURE_LEN_MT_049',\n",
       " 'DECK_COND_058',\n",
       " 'SUPERSTRUCTURE_COND_059',\n",
       " 'SUBSTRUCTURE_COND_060',\n",
       " 'CHANNEL_COND_061',\n",
       " 'CULVERT_COND_062',\n",
       " 'OPERATING_RATING_064',\n",
       " 'DECK_GEOMETRY_EVAL_068',\n",
       " 'WATERWAY_EVAL_071',\n",
       " 'APPR_ROAD_EVAL_072',\n",
       " 'INSPECT_FREQ_MONTHS_091',\n",
       " 'YEAR_RECONSTRUCTED_106',\n",
       " 'DECK_STRUCTURE_TYPE_107',\n",
       " 'SURFACE_TYPE_108A',\n",
       " 'MEMBRANE_TYPE_108B',\n",
       " 'DECK_PROTECTION_108C',\n",
       " 'PERCENT_ADT_TRUCK_109',\n",
       " 'SCOUR_CRITICAL_113',\n",
       " 'SUFFICIENCY_RATING',\n",
       " 'YEAR',\n",
       " 'FRACTURE_FLAG_092AF',\n",
       " 'UNDWATER_FLAG_092BF',\n",
       " 'SPEC_FLAG_092AF',\n",
       " 'INSPECT_FLAG_090F',\n",
       " 'REL_BRIDGE_AGE',\n",
       " 'STRUCTURE_NUMBER_008_ID']"
      ]
     },
     "execution_count": 45,
     "metadata": {},
     "output_type": "execute_result"
    }
   ],
   "source": [
    "climateBridges_df.columns.tolist()"
   ]
  },
  {
   "cell_type": "code",
   "execution_count": 47,
   "id": "3c5159aa-65fd-4c80-8927-88f905831d0d",
   "metadata": {},
   "outputs": [],
   "source": [
    "climateBridges_df = climateBridges_df.drop(columns= ['STATE_CODE_001', 'STRUCTURE_NUMBER_008'])"
   ]
  },
  {
   "cell_type": "code",
   "execution_count": 48,
   "id": "3d7d895f-5753-43da-974c-8df82853dcf5",
   "metadata": {},
   "outputs": [
    {
     "name": "stdout",
     "output_type": "stream",
     "text": [
      "<class 'pandas.core.frame.DataFrame'>\n",
      "Index: 178722 entries, 9 to 456433\n",
      "Data columns (total 61 columns):\n",
      " #   Column                                        Non-Null Count   Dtype  \n",
      "---  ------                                        --------------   -----  \n",
      " 0   Year                                          178722 non-null  int64  \n",
      " 1   1 - State Code                                178722 non-null  int64  \n",
      " 2   8 - Structure Number                          178722 non-null  object \n",
      " 3   Average Relative Humidity                     178722 non-null  float64\n",
      " 4   Average Temperature                           178722 non-null  float64\n",
      " 5   Maximum Temperature                           178722 non-null  float64\n",
      " 6   Mean Wind Speed                               178722 non-null  float64\n",
      " 7   Minimum Temperature                           178722 non-null  float64\n",
      " 8   Number of Freeze-Thaw Cycles                  178722 non-null  float64\n",
      " 9   Number of Snowfall Days                       178722 non-null  float64\n",
      " 10  Number of Days with Measurable Precipitation  178722 non-null  float64\n",
      " 11  Number of Days with Temperature Below 0?C     178722 non-null  float64\n",
      " 12  Prevailing Wind Direction                     178722 non-null  float64\n",
      " 13  Time of Wetness                               178722 non-null  float64\n",
      " 14  Total Precipitation                           178722 non-null  float64\n",
      " 15  SERVICE_LEVEL_005C                            178722 non-null  float64\n",
      " 16  DIRECTION_005E                                178722 non-null  float64\n",
      " 17  FUNCTIONAL_CLASS_026                          178722 non-null  float64\n",
      " 18  YEAR_BUILT_027                                178722 non-null  float64\n",
      " 19  TRAFFIC_LANES_ON_028A                         178722 non-null  float64\n",
      " 20  TRAFFIC_LANES_UND_028B                        178722 non-null  float64\n",
      " 21  ADT_029                                       178722 non-null  float64\n",
      " 22  MEDIAN_CODE_033                               178722 non-null  float64\n",
      " 23  DEGREES_SKEW_034                              178722 non-null  float64\n",
      " 24  STRUCTURE_FLARED_035                          178722 non-null  float64\n",
      " 25  OPEN_CLOSED_POSTED_041                        178722 non-null  float64\n",
      " 26  SERVICE_ON_042A                               178722 non-null  float64\n",
      " 27  SERVICE_UND_042B                              178722 non-null  float64\n",
      " 28  STRUCTURE_KIND_043A                           178722 non-null  float64\n",
      " 29  STRUCTURE_TYPE_043B                           178722 non-null  float64\n",
      " 30  APPR_KIND_044A                                178722 non-null  float64\n",
      " 31  APPR_TYPE_044B                                178722 non-null  float64\n",
      " 32  MAIN_UNIT_SPANS_045                           178722 non-null  float64\n",
      " 33  APPR_SPANS_046                                178722 non-null  float64\n",
      " 34  MAX_SPAN_LEN_MT_048                           178722 non-null  float64\n",
      " 35  STRUCTURE_LEN_MT_049                          178722 non-null  float64\n",
      " 36  DECK_COND_058                                 178722 non-null  float64\n",
      " 37  SUPERSTRUCTURE_COND_059                       178722 non-null  float64\n",
      " 38  SUBSTRUCTURE_COND_060                         178722 non-null  float64\n",
      " 39  CHANNEL_COND_061                              178722 non-null  float64\n",
      " 40  CULVERT_COND_062                              178722 non-null  float64\n",
      " 41  OPERATING_RATING_064                          178722 non-null  float64\n",
      " 42  DECK_GEOMETRY_EVAL_068                        178722 non-null  float64\n",
      " 43  WATERWAY_EVAL_071                             178722 non-null  float64\n",
      " 44  APPR_ROAD_EVAL_072                            178722 non-null  float64\n",
      " 45  INSPECT_FREQ_MONTHS_091                       178722 non-null  float64\n",
      " 46  YEAR_RECONSTRUCTED_106                        178722 non-null  float64\n",
      " 47  DECK_STRUCTURE_TYPE_107                       178722 non-null  float64\n",
      " 48  SURFACE_TYPE_108A                             178722 non-null  float64\n",
      " 49  MEMBRANE_TYPE_108B                            178722 non-null  float64\n",
      " 50  DECK_PROTECTION_108C                          178722 non-null  float64\n",
      " 51  PERCENT_ADT_TRUCK_109                         178722 non-null  float64\n",
      " 52  SCOUR_CRITICAL_113                            178722 non-null  float64\n",
      " 53  SUFFICIENCY_RATING                            178722 non-null  float64\n",
      " 54  YEAR                                          178722 non-null  float64\n",
      " 55  FRACTURE_FLAG_092AF                           178722 non-null  float64\n",
      " 56  UNDWATER_FLAG_092BF                           178722 non-null  float64\n",
      " 57  SPEC_FLAG_092AF                               178722 non-null  float64\n",
      " 58  INSPECT_FLAG_090F                             178722 non-null  float64\n",
      " 59  REL_BRIDGE_AGE                                178722 non-null  float64\n",
      " 60  STRUCTURE_NUMBER_008_ID                       178722 non-null  float64\n",
      "dtypes: float64(58), int64(2), object(1)\n",
      "memory usage: 84.5+ MB\n"
     ]
    }
   ],
   "source": [
    "climateBridges_df.info()"
   ]
  },
  {
   "cell_type": "code",
   "execution_count": 50,
   "id": "fc9da339-f7fd-4edd-ba30-e26eb039772c",
   "metadata": {},
   "outputs": [],
   "source": [
    "#save new df as csv\n",
    "save_dir = \"D:/Scripts/bridges_project/data\"\n",
    "save_name = \"climate_bridges.csv\"\n",
    "save_path = os.path.join(save_dir, save_name)\n",
    "climateBridges_df.to_csv(save_path, index= False)"
   ]
  },
  {
   "cell_type": "code",
   "execution_count": null,
   "id": "375a5b1d-f51d-4c87-9b7c-027504fb7bb3",
   "metadata": {},
   "outputs": [],
   "source": []
  }
 ],
 "metadata": {
  "kernelspec": {
   "display_name": "Python 3 (ipykernel)",
   "language": "python",
   "name": "python3"
  },
  "language_info": {
   "codemirror_mode": {
    "name": "ipython",
    "version": 3
   },
   "file_extension": ".py",
   "mimetype": "text/x-python",
   "name": "python",
   "nbconvert_exporter": "python",
   "pygments_lexer": "ipython3",
   "version": "3.10.11"
  }
 },
 "nbformat": 4,
 "nbformat_minor": 5
}
