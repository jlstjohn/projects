{
 "cells": [
  {
   "cell_type": "code",
   "execution_count": 1,
   "id": "4ab39682-a963-4a91-8fcc-9d1698adc179",
   "metadata": {},
   "outputs": [],
   "source": [
    "import os\n",
    "import numpy as np\n",
    "import pandas as pd"
   ]
  },
  {
   "cell_type": "markdown",
   "id": "13dbb240-9206-4c8d-aa55-9da1cecf6996",
   "metadata": {},
   "source": [
    "# First: More Clean Up...mostly null handling"
   ]
  },
  {
   "cell_type": "code",
   "execution_count": 2,
   "id": "13b2fd01-e6ee-4a53-800b-aa94f7038edd",
   "metadata": {},
   "outputs": [],
   "source": [
    "dtype_dict = {'STATE_CODE_001': int,\n",
    " 'STRUCTURE_NUMBER_008': str,\n",
    " 'SERVICE_LEVEL_005C': int,\n",
    " 'DIRECTION_005E': float,\n",
    " 'LAT_016': float,\n",
    " 'LONG_017': float,\n",
    " 'FUNCTIONAL_CLASS_026': float,\n",
    " 'YEAR_BUILT_027': int,\n",
    " 'TRAFFIC_LANES_ON_028A': float,\n",
    " 'TRAFFIC_LANES_UND_028B': float,\n",
    " 'ADT_029': float,\n",
    " 'MEDIAN_CODE_033': float,\n",
    " 'DEGREES_SKEW_034': float,\n",
    " 'STRUCTURE_FLARED_035': float,\n",
    " 'OPEN_CLOSED_POSTED_041': str,\n",
    " 'SERVICE_ON_042A': int,\n",
    " 'SERVICE_UND_042B': int,\n",
    " 'STRUCTURE_KIND_043A': float,\n",
    " 'STRUCTURE_TYPE_043B': float,\n",
    " 'APPR_KIND_044A': float,\n",
    " 'APPR_TYPE_044B': float,\n",
    " 'MAIN_UNIT_SPANS_045': float,\n",
    " 'APPR_SPANS_046': float,\n",
    " 'MAX_SPAN_LEN_MT_048': float,\n",
    " 'STRUCTURE_LEN_MT_049': float,\n",
    " 'DECK_COND_058': str,\n",
    " 'SUPERSTRUCTURE_COND_059': str,\n",
    " 'SUBSTRUCTURE_COND_060': str,\n",
    " 'CHANNEL_COND_061': str,\n",
    " 'CULVERT_COND_062': str,\n",
    " 'OPERATING_RATING_064': float,\n",
    " 'INVENTORY_RATING_066': float,\n",
    " 'STRUCTURAL_EVAL_067': str,\n",
    " 'DECK_GEOMETRY_EVAL_068': str,\n",
    " 'UNDCLRENCE_EVAL_069': str,\n",
    " 'WATERWAY_EVAL_071': str,\n",
    " 'APPR_ROAD_EVAL_072': str,\n",
    " 'DATE_OF_INSPECT_090': float,\n",
    " 'INSPECT_FREQ_MONTHS_091': float,\n",
    " 'FRACTURE_092A': str,\n",
    " 'UNDWATER_LOOK_SEE_092B': str,\n",
    " 'SPEC_INSPECT_092C': str,\n",
    " 'TEMP_STRUCTURE_103': str,\n",
    " 'YEAR_RECONSTRUCTED_106': float,\n",
    " 'DECK_STRUCTURE_TYPE_107': str,\n",
    " 'SURFACE_TYPE_108A': str,\n",
    " 'MEMBRANE_TYPE_108B': str,\n",
    " 'DECK_PROTECTION_108C': str,\n",
    " 'PERCENT_ADT_TRUCK_109': float,\n",
    " 'SCOUR_CRITICAL_113': str,\n",
    " 'SUFFICIENCY_RATING': float,\n",
    " 'YEAR': int    \n",
    "}"
   ]
  },
  {
   "cell_type": "code",
   "execution_count": 3,
   "id": "89005b00-f250-415a-9e30-2b68a2f9b7bc",
   "metadata": {},
   "outputs": [],
   "source": [
    "# load data into pandas df\n",
    "file_path = \"D:/Scripts/bridges_project/data/masterBridges.csv\"\n",
    "# #bridges_df = pd.read_csv(file_path, header= 0, memory_map= True)\n",
    "# with pd.read_csv(file_path, header= 0, chunksize= 1000) as reader:\n",
    "#     print(reader)\n",
    "#     for chunk in reader:\n",
    "#         print(chunk)\n",
    "mylist = []\n",
    "\n",
    "for chunk in  pd.read_csv(file_path, dtype= dtype_dict, chunksize=1000):\n",
    "    mylist.append(chunk)\n",
    "\n",
    "big_data = pd.concat(mylist, axis= 0)\n",
    "del mylist"
   ]
  },
  {
   "cell_type": "code",
   "execution_count": null,
   "id": "8badfce7-4ee9-4334-8318-ed06cc4a4917",
   "metadata": {},
   "outputs": [],
   "source": [
    "big_data.head()"
   ]
  },
  {
   "cell_type": "code",
   "execution_count": null,
   "id": "b2414432-19f7-40ce-8c56-82108a7eccc6",
   "metadata": {},
   "outputs": [],
   "source": [
    "# initial pass of dropping rows containing nulls in the following columns:\n",
    "# these first set of columns were chosen because it is the target (sufficiency_rating) and other values used in obtaining the sufficiency rating\n",
    "# na_rows = ['SUFFICIENCY_RATING', 'SUPERSTRUCTURE_COND_059', 'SUBSTRUCTURE_COND_060', 'CULVERT_COND_062', 'INVENTORY_RATING_066', 'DECK_COND_058',\n",
    "#           'STRUCTURAL_EVAL_067', 'DECK_GEOMETRY_EVAL_068', 'UNDCLRENCE_EVAL_069', 'WATERWAY_EVAL_071', 'APPR_ROAD_EVAL_072']"
   ]
  },
  {
   "cell_type": "code",
   "execution_count": null,
   "id": "ee9a06bc-ae01-41c7-81f1-fb1dfad47f16",
   "metadata": {},
   "outputs": [],
   "source": [
    "# second pass of dropping rows containg nulls in the following columns:\n",
    "# columns chosen in order of approximate percieved feature importance\n",
    "# na_rows = ['APPR_KIND_044A', 'APPR_TYPE_044B', 'OPERATING_RATING_064', 'CHANNEL_COND_061', 'DECK_STRUCTURE_TYPE_107', 'SURFACE_TYPE_108A',\n",
    "#            'MEMBRANE_TYPE_108B', 'DECK_PROTECTION_108C', 'FRACTURE_092A', 'UNDWATER_LOOK_SEE_092B', 'SPEC_INSPECT_092C', 'SCOUR_CRITICAL_113',\n",
    "#            'APPR_SPANS_046']"
   ]
  },
  {
   "cell_type": "code",
   "execution_count": null,
   "id": "615b1fad-731b-4439-8a49-27080335c2c8",
   "metadata": {},
   "outputs": [],
   "source": [
    "# # feature is embedded in operating rating\n",
    "# drop_col = ['TEMP_STRUCTURE_103']\n",
    "# big_data.drop(columns= drop_col, inplace= True)"
   ]
  },
  {
   "cell_type": "code",
   "execution_count": 35,
   "id": "f2181213-61c6-4824-aa56-7dbf67c2b3ed",
   "metadata": {},
   "outputs": [],
   "source": [
    "# third pass of dropping rows containing nulls in the following columns:\n",
    "# columns are for features which I do not find it justifiable to impute a value (i.e. feature may not remain the same over time)\n",
    "na_rows = ['FUNCTIONAL_CLASS_026', 'MEDIAN_CODE_033', 'DEGREES_SKEW_034', 'STRUCTURE_FLARED_035', 'OPEN_CLOSED_POSTED_041', 'MAIN_UNIT_SPANS_045',\n",
    "          'MAX_SPAN_LEN_MT_048']"
   ]
  },
  {
   "cell_type": "code",
   "execution_count": 36,
   "id": "ad4dbb72-1f5f-4ede-9497-56214960df66",
   "metadata": {},
   "outputs": [],
   "source": [
    "big_data.dropna(subset= na_rows, inplace= True, ignore_index= True)"
   ]
  },
  {
   "cell_type": "code",
   "execution_count": 37,
   "id": "2b93d0eb-0421-445d-a99f-54087f2c119b",
   "metadata": {},
   "outputs": [],
   "source": [
    "#save new df as csv, just in case\n",
    "save_dir = \"D:/Scripts/bridges_project/data\"\n",
    "save_name = \"masterBridges4.csv\"\n",
    "save_path = os.path.join(save_dir, save_name)\n",
    "big_data.to_csv(save_path, index= False)"
   ]
  },
  {
   "cell_type": "code",
   "execution_count": 154,
   "id": "e36dc543-4d19-425b-87ea-9ee49e387d92",
   "metadata": {},
   "outputs": [],
   "source": [
    "# drop the following columns\n",
    "drop_cols = ['LAT_016', 'LONG_017']\n",
    "big_data.drop(columns= drop_cols, inplace= True)"
   ]
  },
  {
   "cell_type": "code",
   "execution_count": null,
   "id": "45ba158c-503c-4163-b8fd-e70b36d0b752",
   "metadata": {},
   "outputs": [],
   "source": [
    "big_data.isna().sum()"
   ]
  },
  {
   "cell_type": "code",
   "execution_count": null,
   "id": "96b9df54-8c77-4853-8130-e8c35ffccd5d",
   "metadata": {},
   "outputs": [],
   "source": [
    "DATE_OF_INSPECT_090           8619\n",
    "INSPECT_FREQ_MONTHS_091       4401\n",
    "YEAR_RECONSTRUCTED_106      370231\n",
    "PERCENT_ADT_TRUCK_109      2119002"
   ]
  },
  {
   "cell_type": "code",
   "execution_count": null,
   "id": "c615f4bb-59c5-4cac-b8cc-3f38a6e2e216",
   "metadata": {},
   "outputs": [],
   "source": [
    "# COLUMNS READY:\n",
    "# STATE_CODE_001               int32\n",
    "# STRUCTURE_NUMBER_008        object    ### MAYBE CHECK ADDITIONAL FORMATTING IF TIME\n",
    "# SERVICE_LEVEL_005C           int32\n",
    "\n",
    "# DIRECTION_005E             float64\n",
    "# FUNCTIONAL_CLASS_026       float64\n",
    "# YEAR_BUILT_027\n",
    "# TRAFFIC_LANES_ON_028A      float64\n",
    "# TRAFFIC_LANES_UND_028B     float64\n",
    "\n",
    "# ADT_029                    float64\n",
    "\n",
    "# MEDIAN_CODE_033            float64\n",
    "\n",
    "# DEGREES_SKEW_034           float64\n",
    "\n",
    "# STRUCTURE_FLARED_035       float64\n",
    "\n",
    "# OPEN_CLOSED_POSTED_041\n",
    "# SERVICE_ON_042A              int32\n",
    "# SERVICE_UND_042B             int32\n",
    "\n",
    "# STRUCTURE_KIND_043A        float64\n",
    "# STRUCTURE_TYPE_043B        float64\n",
    "# APPR_KIND_044A             float64\n",
    "# APPR_TYPE_044B             float64\n",
    "\n",
    "# MAIN_UNIT_SPANS_045        float64\n",
    "# APPR_SPANS_046             float64\n",
    "# MAX_SPAN_LEN_MT_048        float64\n",
    "# STRUCTURE_LEN_MT_049       float64\n",
    "\n",
    "# DECK_COND_058               object\n",
    "# SUPERSTRUCTURE_COND_059     object\n",
    "# SUBSTRUCTURE_COND_060       object\n",
    "# CHANNEL_COND_061            object\n",
    "# CULVERT_COND_062            object\n",
    "\n",
    "# OPERATING_RATING_064       float64    # NOTE this is capacity rating in XX.X metric tons\n",
    "# INVENTORY_RATING_066       float64    # NOTE this is capacity rating in XX.X metric tons\n",
    "# STRUCTURAL_EVAL_067\n",
    "# DECK_GEOMETRY_EVAL_068\n",
    "# UNDCLRENCE_EVAL_069\n",
    "\n",
    "# WATERWAY_EVAL_071\n",
    "# APPR_ROAD_EVAL_072\n",
    "\n",
    "# DATE_OF_INSPECT_090\n",
    "# INSPECT_FREQ_MONTHS_091\n",
    "# FRACTURE_092A\n",
    "# UNDWATER_LOOK_SEE_092B\n",
    "\n",
    "# DECK_STRUCTURE_TYPE_107\n",
    "# SURFACE_TYPE_108A\n",
    "# MEMBRANE_TYPE_108B\n",
    "# DECK_PROTECTION_108C\n",
    "# SPEC_INSPECT_092C\n",
    "\n",
    "# YEAR_RECONSTRUCTED_106\n",
    "# PERCENT_ADT_TRUCK_109\n",
    "\n",
    "# SCOUR_CRITICAL_113"
   ]
  },
  {
   "cell_type": "code",
   "execution_count": null,
   "id": "4835f511-deff-4aa2-aa80-74127de292cf",
   "metadata": {},
   "outputs": [],
   "source": [
    "# # convert the following dtypes\n",
    "# # not enough memory to convert floats to ints, DONE WITH FILE READ IN DURING NEXT PHASE\n",
    "# big_data.astype({'DIRECTION_005E': 'int32', 'FUNCTIONAL_CLASS_026': 'int32', 'TRAFFIC_LANES_ON_028A': 'int32', 'TRAFFIC_LANES_UND_028B': 'int32',\n",
    "#                 'MEDIAN_CODE_033': 'int32', 'STRUCTURE_FLARED_035': 'int32', 'STRUCTURE_KIND_043A': 'int32', 'STRUCTURE_TYPE_043B': 'int32',\n",
    "#                 'APPR_KIND_044A': 'int32', 'APPR_TYPE_044B': 'int32'})"
   ]
  },
  {
   "cell_type": "code",
   "execution_count": 177,
   "id": "8956a44e-c0eb-497e-bbb4-aeacd288c21f",
   "metadata": {},
   "outputs": [],
   "source": [
    "# replace N with -1 for the following columns\n",
    "replace_N_cols = ['DECK_COND_058', 'SUPERSTRUCTURE_COND_059', 'SUBSTRUCTURE_COND_060', 'CHANNEL_COND_061', 'CULVERT_COND_062', 'STRUCTURAL_EVAL_067',\n",
    "                  'DECK_GEOMETRY_EVAL_068', 'UNDCLRENCE_EVAL_069', 'WATERWAY_EVAL_071', 'APPR_ROAD_EVAL_072', 'DECK_STRUCTURE_TYPE_107', 'SURFACE_TYPE_108A',\n",
    "                 'MEMBRANE_TYPE_108B', 'DECK_PROTECTION_108C']\n",
    "for col in replace_N_cols:\n",
    "    big_data.replace({col: 'N'}, -1, inplace= True)"
   ]
  },
  {
   "cell_type": "code",
   "execution_count": 193,
   "id": "a83d3d96-76b0-4e37-8bbf-8932f74dd0ac",
   "metadata": {
    "scrolled": true
   },
   "outputs": [
    {
     "name": "stdout",
     "output_type": "stream",
     "text": [
      "<class 'pandas.core.frame.DataFrame'>\n",
      "RangeIndex: 15219955 entries, 0 to 15219954\n",
      "Data columns (total 49 columns):\n",
      " #   Column                   Dtype  \n",
      "---  ------                   -----  \n",
      " 0   STATE_CODE_001           int32  \n",
      " 1   STRUCTURE_NUMBER_008     object \n",
      " 2   SERVICE_LEVEL_005C       int32  \n",
      " 3   DIRECTION_005E           float64\n",
      " 4   FUNCTIONAL_CLASS_026     float64\n",
      " 5   YEAR_BUILT_027           int32  \n",
      " 6   TRAFFIC_LANES_ON_028A    float64\n",
      " 7   TRAFFIC_LANES_UND_028B   float64\n",
      " 8   ADT_029                  float64\n",
      " 9   MEDIAN_CODE_033          float64\n",
      " 10  DEGREES_SKEW_034         float64\n",
      " 11  STRUCTURE_FLARED_035     float64\n",
      " 12  OPEN_CLOSED_POSTED_041   object \n",
      " 13  SERVICE_ON_042A          int32  \n",
      " 14  SERVICE_UND_042B         int32  \n",
      " 15  STRUCTURE_KIND_043A      float64\n",
      " 16  STRUCTURE_TYPE_043B      float64\n",
      " 17  APPR_KIND_044A           float64\n",
      " 18  APPR_TYPE_044B           float64\n",
      " 19  MAIN_UNIT_SPANS_045      float64\n",
      " 20  APPR_SPANS_046           float64\n",
      " 21  MAX_SPAN_LEN_MT_048      float64\n",
      " 22  STRUCTURE_LEN_MT_049     float64\n",
      " 23  DECK_COND_058            object \n",
      " 24  SUPERSTRUCTURE_COND_059  object \n",
      " 25  SUBSTRUCTURE_COND_060    object \n",
      " 26  CHANNEL_COND_061         object \n",
      " 27  CULVERT_COND_062         object \n",
      " 28  OPERATING_RATING_064     float64\n",
      " 29  INVENTORY_RATING_066     float64\n",
      " 30  STRUCTURAL_EVAL_067      object \n",
      " 31  DECK_GEOMETRY_EVAL_068   object \n",
      " 32  UNDCLRENCE_EVAL_069      object \n",
      " 33  WATERWAY_EVAL_071        object \n",
      " 34  APPR_ROAD_EVAL_072       object \n",
      " 35  DATE_OF_INSPECT_090      float64\n",
      " 36  INSPECT_FREQ_MONTHS_091  float64\n",
      " 37  FRACTURE_092A            object \n",
      " 38  UNDWATER_LOOK_SEE_092B   object \n",
      " 39  SPEC_INSPECT_092C        object \n",
      " 40  YEAR_RECONSTRUCTED_106   float64\n",
      " 41  DECK_STRUCTURE_TYPE_107  object \n",
      " 42  SURFACE_TYPE_108A        object \n",
      " 43  MEMBRANE_TYPE_108B       object \n",
      " 44  DECK_PROTECTION_108C     object \n",
      " 45  PERCENT_ADT_TRUCK_109    float64\n",
      " 46  SCOUR_CRITICAL_113       object \n",
      " 47  SUFFICIENCY_RATING       float64\n",
      " 48  YEAR                     int32  \n",
      "dtypes: float64(23), int32(6), object(20)\n",
      "memory usage: 5.2+ GB\n"
     ]
    }
   ],
   "source": [
    "big_data.info()"
   ]
  },
  {
   "cell_type": "code",
   "execution_count": 194,
   "id": "10ea4a66-b46a-4c53-97e2-2bbc23e6fc55",
   "metadata": {},
   "outputs": [],
   "source": [
    "#save new df as csv, just in case\n",
    "save_dir = \"D:/Scripts/bridges_project/data\"\n",
    "save_name = \"masterBridges5.csv\"\n",
    "save_path = os.path.join(save_dir, save_name)\n",
    "big_data.to_csv(save_path, index= False)"
   ]
  },
  {
   "cell_type": "code",
   "execution_count": null,
   "id": "5e95f9b8-fefe-42be-9485-9cd0eae305dd",
   "metadata": {},
   "outputs": [],
   "source": [
    "big_data.dtypes"
   ]
  },
  {
   "cell_type": "code",
   "execution_count": 87,
   "id": "dbef5b75-cbc8-4a35-ad6f-6ae26d3cbae8",
   "metadata": {},
   "outputs": [
    {
     "data": {
      "text/html": [
       "<div>\n",
       "<style scoped>\n",
       "    .dataframe tbody tr th:only-of-type {\n",
       "        vertical-align: middle;\n",
       "    }\n",
       "\n",
       "    .dataframe tbody tr th {\n",
       "        vertical-align: top;\n",
       "    }\n",
       "\n",
       "    .dataframe thead th {\n",
       "        text-align: right;\n",
       "    }\n",
       "</style>\n",
       "<table border=\"1\" class=\"dataframe\">\n",
       "  <thead>\n",
       "    <tr style=\"text-align: right;\">\n",
       "      <th></th>\n",
       "      <th></th>\n",
       "      <th>PERCENT_ADT_TRUCK_109</th>\n",
       "    </tr>\n",
       "    <tr>\n",
       "      <th>YEAR</th>\n",
       "      <th>FUNCTIONAL_CLASS_026</th>\n",
       "      <th></th>\n",
       "    </tr>\n",
       "  </thead>\n",
       "  <tbody>\n",
       "    <tr>\n",
       "      <th rowspan=\"5\" valign=\"top\">1992</th>\n",
       "      <th>1.0</th>\n",
       "      <td>20.517015</td>\n",
       "    </tr>\n",
       "    <tr>\n",
       "      <th>2.0</th>\n",
       "      <td>12.353225</td>\n",
       "    </tr>\n",
       "    <tr>\n",
       "      <th>6.0</th>\n",
       "      <td>10.170857</td>\n",
       "    </tr>\n",
       "    <tr>\n",
       "      <th>7.0</th>\n",
       "      <td>6.976258</td>\n",
       "    </tr>\n",
       "    <tr>\n",
       "      <th>8.0</th>\n",
       "      <td>5.517218</td>\n",
       "    </tr>\n",
       "    <tr>\n",
       "      <th>...</th>\n",
       "      <th>...</th>\n",
       "      <td>...</td>\n",
       "    </tr>\n",
       "    <tr>\n",
       "      <th rowspan=\"5\" valign=\"top\">2018</th>\n",
       "      <th>12.0</th>\n",
       "      <td>7.521762</td>\n",
       "    </tr>\n",
       "    <tr>\n",
       "      <th>14.0</th>\n",
       "      <td>6.904453</td>\n",
       "    </tr>\n",
       "    <tr>\n",
       "      <th>16.0</th>\n",
       "      <td>5.102399</td>\n",
       "    </tr>\n",
       "    <tr>\n",
       "      <th>17.0</th>\n",
       "      <td>5.127200</td>\n",
       "    </tr>\n",
       "    <tr>\n",
       "      <th>19.0</th>\n",
       "      <td>3.909731</td>\n",
       "    </tr>\n",
       "  </tbody>\n",
       "</table>\n",
       "<p>324 rows × 1 columns</p>\n",
       "</div>"
      ],
      "text/plain": [
       "                           PERCENT_ADT_TRUCK_109\n",
       "YEAR FUNCTIONAL_CLASS_026                       \n",
       "1992 1.0                               20.517015\n",
       "     2.0                               12.353225\n",
       "     6.0                               10.170857\n",
       "     7.0                                6.976258\n",
       "     8.0                                5.517218\n",
       "...                                          ...\n",
       "2018 12.0                               7.521762\n",
       "     14.0                               6.904453\n",
       "     16.0                               5.102399\n",
       "     17.0                               5.127200\n",
       "     19.0                               3.909731\n",
       "\n",
       "[324 rows x 1 columns]"
      ]
     },
     "execution_count": 87,
     "metadata": {},
     "output_type": "execute_result"
    }
   ],
   "source": [
    "big_data.groupby(['YEAR', 'FUNCTIONAL_CLASS_026'])[['PERCENT_ADT_TRUCK_109']].mean()"
   ]
  },
  {
   "cell_type": "markdown",
   "id": "b94c98bd-8a98-40c1-8aa1-6297e762e0d0",
   "metadata": {},
   "source": [
    "# Recording Guide Resource\n",
    "https://www.fhwa.dot.gov/bridge/mtguide.pdf"
   ]
  },
  {
   "cell_type": "code",
   "execution_count": null,
   "id": "af6e703c-c984-4f15-8d9c-a76df31f9d34",
   "metadata": {},
   "outputs": [],
   "source": []
  }
 ],
 "metadata": {
  "kernelspec": {
   "display_name": "Python 3 (ipykernel)",
   "language": "python",
   "name": "python3"
  },
  "language_info": {
   "codemirror_mode": {
    "name": "ipython",
    "version": 3
   },
   "file_extension": ".py",
   "mimetype": "text/x-python",
   "name": "python",
   "nbconvert_exporter": "python",
   "pygments_lexer": "ipython3",
   "version": "3.10.11"
  }
 },
 "nbformat": 4,
 "nbformat_minor": 5
}
