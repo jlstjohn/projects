{
 "cells": [
  {
   "cell_type": "code",
   "execution_count": 1,
   "id": "0cfc4f45-a0ef-489e-8d04-bdffb6aae356",
   "metadata": {},
   "outputs": [],
   "source": [
    "import os\n",
    "import numpy as np\n",
    "import pandas as pd"
   ]
  },
  {
   "cell_type": "markdown",
   "id": "e6c0d64a-1083-4cbc-9663-f772477ff455",
   "metadata": {},
   "source": [
    "# Stage One Cleaning"
   ]
  },
  {
   "cell_type": "code",
   "execution_count": null,
   "id": "ff271a75-7ae8-452b-9f0d-f82c07faeaae",
   "metadata": {
    "scrolled": true
   },
   "outputs": [],
   "source": [
    "# dir_path = 'C://Users/farrj/Documents/Scripts/bridges/data'\n",
    "# dir_list = os.listdir(dir_path)\n",
    "# file_count = len(dir_list)"
   ]
  },
  {
   "cell_type": "code",
   "execution_count": null,
   "id": "4f3b88f8-f3e8-44c0-b3e9-3d9ab190661f",
   "metadata": {},
   "outputs": [],
   "source": [
    "# # create list of file paths\n",
    "# files = []\n",
    "# for i in range(file_count):\n",
    "#     file_name = os.path.join(dir_path, dir_list[i])\n",
    "#     files.append(file_name)"
   ]
  },
  {
   "cell_type": "code",
   "execution_count": null,
   "id": "356483e9-7977-455b-909f-410ede63b990",
   "metadata": {},
   "outputs": [],
   "source": [
    "# files"
   ]
  },
  {
   "cell_type": "code",
   "execution_count": null,
   "id": "00fa0ab3-f9b9-45e8-80f7-de584297d832",
   "metadata": {},
   "outputs": [],
   "source": [
    "# # create dict of df_names and empty dfs\n",
    "# df_names = {}\n",
    "# for i in range(file_count):\n",
    "#     df_name = 'df_' + str(i+1)\n",
    "#     df_names[df_name] = pd.DataFrame()"
   ]
  },
  {
   "cell_type": "code",
   "execution_count": null,
   "id": "722ffe1a-8c6c-4c1f-b4a1-eec034e7c9aa",
   "metadata": {},
   "outputs": [],
   "source": [
    "# df_names"
   ]
  },
  {
   "cell_type": "code",
   "execution_count": null,
   "id": "571d060e-c3a3-428b-bee7-b58858b26901",
   "metadata": {},
   "outputs": [],
   "source": [
    "# # read in txt files and create dfs\n",
    "# i = 0\n",
    "# for df_name, df in df_names.items():\n",
    "#     df_names[df_name] = pd.read_csv(files[i], header= 0, encoding_errors= 'ignore')\n",
    "#     i = i +1"
   ]
  },
  {
   "cell_type": "code",
   "execution_count": null,
   "id": "d624ec90-87e3-4da9-b2b0-0d992f751e7b",
   "metadata": {},
   "outputs": [],
   "source": [
    "cols_set = {'STATE_CODE_001',\n",
    " 'STRUCTURE_NUMBER_008',\n",
    " 'SERVICE_LEVEL_005C',\n",
    " 'ROUTE_NUMBER_005D',\n",
    " 'DIRECTION_005E',\n",
    " 'LAT_016',\n",
    " 'LONG_017',\n",
    " 'FUNCTIONAL_CLASS_026',\n",
    " 'YEAR_BUILT_027',\n",
    " 'TRAFFIC_LANES_ON_028A',\n",
    " 'TRAFFIC_LANES_UND_028B',\n",
    " 'ADT_029',\n",
    " 'YEAR_ADT_030',\n",
    " 'MEDIAN_CODE_033',\n",
    " 'DEGREES_SKEW_034',\n",
    " 'STRUCTURE_FLARED_035',\n",
    " 'OPEN_CLOSED_POSTED_041',\n",
    " 'SERVICE_ON_042A',\n",
    " 'SERVICE_UND_042B',\n",
    " 'STRUCTURE_KIND_043A',\n",
    " 'STRUCTURE_TYPE_043B',\n",
    " 'APPR_KIND_044A',\n",
    " 'APPR_TYPE_044B',\n",
    " 'MAIN_UNIT_SPANS_045',\n",
    " 'APPR_SPANS_046',\n",
    " 'MAX_SPAN_LEN_MT_048',\n",
    " 'STRUCTURE_LEN_MT_049',\n",
    " 'DECK_COND_058',\n",
    " 'SUPERSTRUCTURE_COND_059',\n",
    " 'SUBSTRUCTURE_COND_060',\n",
    " 'CHANNEL_COND_061',\n",
    " 'CULVERT_COND_062',\n",
    " 'OPERATING_RATING_064',\n",
    " 'INVENTORY_RATING_066',\n",
    " 'STRUCTURAL_EVAL_067',\n",
    " 'DECK_GEOMETRY_EVAL_068',\n",
    " 'UNDCLRENCE_EVAL_069',\n",
    " 'WATERWAY_EVAL_071',\n",
    " 'APPR_ROAD_EVAL_072',\n",
    " 'WORK_PROPOSED_075A',\n",
    " 'DATE_OF_INSPECT_090',\n",
    " 'INSPECT_FREQ_MONTHS_091',\n",
    " 'FRACTURE_092A',\n",
    " 'UNDWATER_LOOK_SEE_092B',\n",
    " 'SPEC_INSPECT_092C',\n",
    " 'FRACTURE_LAST_DATE_093A',\n",
    " 'UNDWATER_LAST_DATE_093B',\n",
    " 'SPEC_LAST_DATE_093C',\n",
    "  'TEMP_STRUCTURE_103',\n",
    " 'YEAR_RECONSTRUCTED_106',\n",
    " 'DECK_STRUCTURE_TYPE_107',\n",
    " 'SURFACE_TYPE_108A',\n",
    " 'MEMBRANE_TYPE_108B',\n",
    " 'DECK_PROTECTION_108C',\n",
    " 'PERCENT_ADT_TRUCK_109',\n",
    " 'SCOUR_CRITICAL_113',\n",
    " 'MIN_NAV_CLR_MT_116',\n",
    " 'REMARKS',\n",
    " 'SUFFICIENCY_ASTERC',\n",
    " 'SUFFICIENCY_RATING'}"
   ]
  },
  {
   "cell_type": "code",
   "execution_count": null,
   "id": "e2f8cd7f-1cf7-49a5-bf33-9450c90e6336",
   "metadata": {},
   "outputs": [],
   "source": [
    "# na_rows = ['YEAR_BUILT_027', 'SERVICE_LEVEL_005C', 'ADT_029', 'SERVICE_ON_042A', 'SERVICE_UND_042B', 'STRUCTURE_KIND_043A', 'STRUCTURE_TYPE_043B']"
   ]
  },
  {
   "cell_type": "code",
   "execution_count": null,
   "id": "71fc5ead-15de-4ea2-b809-43a23cc224e5",
   "metadata": {},
   "outputs": [],
   "source": [
    "# # helper function to drop columns\n",
    "# def colDrop(cols_set, df):\n",
    "#     df_cols = df.columns.to_list()\n",
    "#     df_cols_set = set(df_cols)\n",
    "#     cols_to_drop = df_cols_set.difference(cols_set)\n",
    "#     df_new = df.drop(columns= cols_to_drop)\n",
    "#     return df_new\n",
    "\n",
    "# # helper function to drop rows w/null values\n",
    "# def naRowDrop(na_rows, df):\n",
    "#     df_current = df.dropna(axis= 0, subset= na_rows, ignore_index= True)\n",
    "#     return df_current"
   ]
  },
  {
   "cell_type": "code",
   "execution_count": null,
   "id": "47bb933e-63de-42f2-967c-bb5115a92393",
   "metadata": {},
   "outputs": [],
   "source": [
    "# # clean up each dataframe\n",
    "# i = 0\n",
    "# year = 2015\n",
    "# null_dict = {}\n",
    "# for df_name, df in df_names.items():\n",
    "#     # get current data frame\n",
    "#     df_current = df_names[df_name]\n",
    "#     # drop columns\n",
    "#     df_new = colDrop(cols_set, df_current)\n",
    "#     # drop certain rows w/nulls\n",
    "#     df_current = naRowDrop(na_rows, df_new)\n",
    "#     # save remaining null info to print to file at end of loop\n",
    "#     null_info = df_current.isna().sum()\n",
    "#     null_dict[df_name] = null_info\n",
    "#     #save new df as csv\n",
    "#     save_dir = \"D:/Scripts/bridges_project/data\"\n",
    "#     save_name = \"bridges_\" + str(year + i) + \".csv\"\n",
    "#     save_path = os.path.join(save_dir, save_name)\n",
    "#     df_current.to_csv(save_path, index= False)\n",
    "\n",
    "#     i = i + 1\n",
    "#     del df_current"
   ]
  },
  {
   "cell_type": "code",
   "execution_count": null,
   "id": "0c24c4a6-50f6-4a1b-aae3-c921034a7b55",
   "metadata": {},
   "outputs": [],
   "source": [
    "# with open(\"nullInfo5.txt\", 'w') as f:\n",
    "#     for key, value in null_dict.items():\n",
    "#         f.write('%s:%s\\n' % (key, value))"
   ]
  },
  {
   "cell_type": "markdown",
   "id": "601b2206-0e63-46c0-8523-cb17a92bf156",
   "metadata": {},
   "source": [
    "# Stage Two Cleaning"
   ]
  },
  {
   "cell_type": "code",
   "execution_count": 2,
   "id": "4309ef45-4947-4a6b-857e-39f4497de57a",
   "metadata": {},
   "outputs": [],
   "source": [
    "# get list of csv files in data folder\n",
    "dir_path = 'D:/Scripts/bridges_project/data'\n",
    "# dir_path = 'D:/Scripts/bridges_project/test'\n",
    "dir_list = os.listdir(dir_path)\n",
    "file_count = len(dir_list)"
   ]
  },
  {
   "cell_type": "code",
   "execution_count": 3,
   "id": "f5214016-7433-488a-8d22-69364d3c6f01",
   "metadata": {},
   "outputs": [],
   "source": [
    "# create list of file paths\n",
    "files = []\n",
    "for i in range(file_count):\n",
    "    file_name = os.path.join(dir_path, dir_list[i])\n",
    "    files.append(file_name)"
   ]
  },
  {
   "cell_type": "code",
   "execution_count": 4,
   "id": "e3a94dea-c0ab-41f4-a27c-204c284ab191",
   "metadata": {},
   "outputs": [
    {
     "data": {
      "text/plain": [
       "['D:/Scripts/bridges_project/data\\\\bridges_1992.csv',\n",
       " 'D:/Scripts/bridges_project/data\\\\bridges_1993.csv',\n",
       " 'D:/Scripts/bridges_project/data\\\\bridges_1994.csv',\n",
       " 'D:/Scripts/bridges_project/data\\\\bridges_1995.csv',\n",
       " 'D:/Scripts/bridges_project/data\\\\bridges_1996.csv',\n",
       " 'D:/Scripts/bridges_project/data\\\\bridges_1997.csv',\n",
       " 'D:/Scripts/bridges_project/data\\\\bridges_1998.csv',\n",
       " 'D:/Scripts/bridges_project/data\\\\bridges_1999.csv',\n",
       " 'D:/Scripts/bridges_project/data\\\\bridges_2000.csv',\n",
       " 'D:/Scripts/bridges_project/data\\\\bridges_2001.csv',\n",
       " 'D:/Scripts/bridges_project/data\\\\bridges_2002.csv',\n",
       " 'D:/Scripts/bridges_project/data\\\\bridges_2003.csv',\n",
       " 'D:/Scripts/bridges_project/data\\\\bridges_2004.csv',\n",
       " 'D:/Scripts/bridges_project/data\\\\bridges_2005.csv',\n",
       " 'D:/Scripts/bridges_project/data\\\\bridges_2006.csv',\n",
       " 'D:/Scripts/bridges_project/data\\\\bridges_2007.csv',\n",
       " 'D:/Scripts/bridges_project/data\\\\bridges_2008.csv',\n",
       " 'D:/Scripts/bridges_project/data\\\\bridges_2009.csv',\n",
       " 'D:/Scripts/bridges_project/data\\\\bridges_2010.csv',\n",
       " 'D:/Scripts/bridges_project/data\\\\bridges_2011.csv',\n",
       " 'D:/Scripts/bridges_project/data\\\\bridges_2012.csv',\n",
       " 'D:/Scripts/bridges_project/data\\\\bridges_2013.csv',\n",
       " 'D:/Scripts/bridges_project/data\\\\bridges_2014.csv',\n",
       " 'D:/Scripts/bridges_project/data\\\\bridges_2015.csv',\n",
       " 'D:/Scripts/bridges_project/data\\\\bridges_2016.csv',\n",
       " 'D:/Scripts/bridges_project/data\\\\bridges_2017.csv',\n",
       " 'D:/Scripts/bridges_project/data\\\\bridges_2018.csv',\n",
       " 'D:/Scripts/bridges_project/data\\\\bridges_2019.csv',\n",
       " 'D:/Scripts/bridges_project/data\\\\bridges_2020.csv',\n",
       " 'D:/Scripts/bridges_project/data\\\\bridges_2021.csv',\n",
       " 'D:/Scripts/bridges_project/data\\\\bridges_2022.csv',\n",
       " 'D:/Scripts/bridges_project/data\\\\bridges_2023.csv',\n",
       " 'D:/Scripts/bridges_project/data\\\\masterBridges.csv']"
      ]
     },
     "execution_count": 4,
     "metadata": {},
     "output_type": "execute_result"
    }
   ],
   "source": [
    "files"
   ]
  },
  {
   "cell_type": "code",
   "execution_count": 5,
   "id": "2b68d125-92cf-4cd9-9e70-18851123c0d2",
   "metadata": {},
   "outputs": [],
   "source": [
    "# create dict of df_names and empty dfs\n",
    "df_names = {}\n",
    "year = 1992\n",
    "for i in range(file_count):\n",
    "    df_name = 'df_' + str(year + i)\n",
    "    df_names[df_name] = pd.DataFrame()"
   ]
  },
  {
   "cell_type": "code",
   "execution_count": 6,
   "id": "f86301e8-0d02-460c-bac5-9022b1858afb",
   "metadata": {},
   "outputs": [],
   "source": [
    "dtype_dict = {'STATE_CODE_001': int,\n",
    " 'STRUCTURE_NUMBER_008': str,\n",
    " 'SERVICE_LEVEL_005C': int,\n",
    " 'DIRECTION_005E': float,\n",
    " 'LAT_016': float,\n",
    " 'LONG_017': float,\n",
    " 'FUNCTIONAL_CLASS_026': float,\n",
    " 'YEAR_BUILT_027': int,\n",
    " 'TRAFFIC_LANES_ON_028A': float,\n",
    " 'TRAFFIC_LANES_UND_028B': float,\n",
    " 'ADT_029': float,\n",
    " 'MEDIAN_CODE_033': float,\n",
    " 'DEGREES_SKEW_034': float,\n",
    " 'STRUCTURE_FLARED_035': float,\n",
    " 'OPEN_CLOSED_POSTED_041': str,\n",
    " 'SERVICE_ON_042A': int,\n",
    " 'SERVICE_UND_042B': int,\n",
    " 'STRUCTURE_KIND_043A': float,\n",
    " 'STRUCTURE_TYPE_043B': float,\n",
    " 'APPR_KIND_044A': float,\n",
    " 'APPR_TYPE_044B': float,\n",
    " 'MAIN_UNIT_SPANS_045': float,\n",
    " 'APPR_SPANS_046': float,\n",
    " 'MAX_SPAN_LEN_MT_048': float,\n",
    " 'STRUCTURE_LEN_MT_049': float,\n",
    " 'DECK_COND_058': str,\n",
    " 'SUPERSTRUCTURE_COND_059': str,\n",
    " 'SUBSTRUCTURE_COND_060': str,\n",
    " 'CHANNEL_COND_061': str,\n",
    " 'CULVERT_COND_062': str,\n",
    " 'OPERATING_RATING_064': float,\n",
    " 'INVENTORY_RATING_066': float,\n",
    " 'STRUCTURAL_EVAL_067': str,\n",
    " 'DECK_GEOMETRY_EVAL_068': str,\n",
    " 'UNDCLRENCE_EVAL_069': str,\n",
    " 'WATERWAY_EVAL_071': str,\n",
    " 'APPR_ROAD_EVAL_072': str,\n",
    " 'DATE_OF_INSPECT_090': float,\n",
    " 'INSPECT_FREQ_MONTHS_091': float,\n",
    " 'FRACTURE_092A': str,\n",
    " 'UNDWATER_LOOK_SEE_092B': str,\n",
    " 'SPEC_INSPECT_092C': str,\n",
    " 'TEMP_STRUCTURE_103': str,\n",
    " 'YEAR_RECONSTRUCTED_106': float,\n",
    " 'DECK_STRUCTURE_TYPE_107': str,\n",
    " 'SURFACE_TYPE_108A': str,\n",
    " 'MEMBRANE_TYPE_108B': str,\n",
    " 'DECK_PROTECTION_108C': str,\n",
    " 'PERCENT_ADT_TRUCK_109': float,\n",
    " 'SCOUR_CRITICAL_113': str,\n",
    " 'SUFFICIENCY_RATING': float,\n",
    " 'YEAR': int    \n",
    "}"
   ]
  },
  {
   "cell_type": "code",
   "execution_count": 7,
   "id": "cdc8e7ee-ffda-48fb-b2d7-dc1b8b82d3ec",
   "metadata": {},
   "outputs": [],
   "source": [
    "# helper functions and lists\n",
    "drop_cols = ['ROUTE_NUMBER_005D', 'YEAR_ADT_030', 'MIN_NAV_CLR_MT_116', 'REMARKS', 'SUFFICIENCY_ASTERC', 'WORK_PROPOSED_075A', 'FRACTURE_LAST_DATE_093A',\n",
    "             'UNDWATER_LAST_DATE_093B', 'SPEC_LAST_DATE_093C']\n",
    "na_rows = ['DIRECTION_005E', 'TRAFFIC_LANES_ON_028A', 'TRAFFIC_LANES_UND_028B', 'STRUCTURE_LEN_MT_049']\n",
    "impute_dict = {'FUNCTIONAL_CLASS_026': 0.0, 'OPEN_CLOSED_POSTED_041': '0', 'YEAR_RECONSTRUCTED_106': '0000', 'TEMP_STRUCTURE_103': '0'}\n",
    "\n",
    "#helper function to drop cols\n",
    "def colDrop(drop_cols, df):\n",
    "    df_new = df.drop(columns= drop_cols, errors= 'ignore')\n",
    "    return df_new\n",
    "\n",
    "# helper function to drop rows w/null values\n",
    "def naRowDrop(na_rows, df):\n",
    "    df_current = df.dropna(axis= 0, subset= na_rows, ignore_index= True)\n",
    "    return df_current"
   ]
  },
  {
   "cell_type": "code",
   "execution_count": 9,
   "id": "e102d328-8385-4072-8b19-39fdf1f15cb5",
   "metadata": {},
   "outputs": [
    {
     "name": "stderr",
     "output_type": "stream",
     "text": [
      "C:\\Users\\farrj\\AppData\\Local\\Temp\\ipykernel_2900\\1822418538.py:8: DtypeWarning: Columns (3,58) have mixed types. Specify dtype option on import or set low_memory=False.\n",
      "  df_names[df_name] = pd.read_csv(files[i], header= 0, encoding_errors= 'ignore', dtype= dtype_dict)\n",
      "C:\\Users\\farrj\\AppData\\Local\\Temp\\ipykernel_2900\\1822418538.py:8: DtypeWarning: Columns (3,58) have mixed types. Specify dtype option on import or set low_memory=False.\n",
      "  df_names[df_name] = pd.read_csv(files[i], header= 0, encoding_errors= 'ignore', dtype= dtype_dict)\n",
      "C:\\Users\\farrj\\AppData\\Local\\Temp\\ipykernel_2900\\1822418538.py:8: DtypeWarning: Columns (3,58) have mixed types. Specify dtype option on import or set low_memory=False.\n",
      "  df_names[df_name] = pd.read_csv(files[i], header= 0, encoding_errors= 'ignore', dtype= dtype_dict)\n",
      "C:\\Users\\farrj\\AppData\\Local\\Temp\\ipykernel_2900\\1822418538.py:8: DtypeWarning: Columns (3,57,58) have mixed types. Specify dtype option on import or set low_memory=False.\n",
      "  df_names[df_name] = pd.read_csv(files[i], header= 0, encoding_errors= 'ignore', dtype= dtype_dict)\n",
      "C:\\Users\\farrj\\AppData\\Local\\Temp\\ipykernel_2900\\1822418538.py:8: DtypeWarning: Columns (3,57,58) have mixed types. Specify dtype option on import or set low_memory=False.\n",
      "  df_names[df_name] = pd.read_csv(files[i], header= 0, encoding_errors= 'ignore', dtype= dtype_dict)\n",
      "C:\\Users\\farrj\\AppData\\Local\\Temp\\ipykernel_2900\\1822418538.py:8: DtypeWarning: Columns (3,57,58) have mixed types. Specify dtype option on import or set low_memory=False.\n",
      "  df_names[df_name] = pd.read_csv(files[i], header= 0, encoding_errors= 'ignore', dtype= dtype_dict)\n",
      "C:\\Users\\farrj\\AppData\\Local\\Temp\\ipykernel_2900\\1822418538.py:8: DtypeWarning: Columns (3,57,58) have mixed types. Specify dtype option on import or set low_memory=False.\n",
      "  df_names[df_name] = pd.read_csv(files[i], header= 0, encoding_errors= 'ignore', dtype= dtype_dict)\n",
      "C:\\Users\\farrj\\AppData\\Local\\Temp\\ipykernel_2900\\1822418538.py:8: DtypeWarning: Columns (3,57,58) have mixed types. Specify dtype option on import or set low_memory=False.\n",
      "  df_names[df_name] = pd.read_csv(files[i], header= 0, encoding_errors= 'ignore', dtype= dtype_dict)\n",
      "C:\\Users\\farrj\\AppData\\Local\\Temp\\ipykernel_2900\\1822418538.py:8: DtypeWarning: Columns (3,57,58) have mixed types. Specify dtype option on import or set low_memory=False.\n",
      "  df_names[df_name] = pd.read_csv(files[i], header= 0, encoding_errors= 'ignore', dtype= dtype_dict)\n",
      "C:\\Users\\farrj\\AppData\\Local\\Temp\\ipykernel_2900\\1822418538.py:8: DtypeWarning: Columns (3,57,58) have mixed types. Specify dtype option on import or set low_memory=False.\n",
      "  df_names[df_name] = pd.read_csv(files[i], header= 0, encoding_errors= 'ignore', dtype= dtype_dict)\n",
      "C:\\Users\\farrj\\AppData\\Local\\Temp\\ipykernel_2900\\1822418538.py:8: DtypeWarning: Columns (3,57,58) have mixed types. Specify dtype option on import or set low_memory=False.\n",
      "  df_names[df_name] = pd.read_csv(files[i], header= 0, encoding_errors= 'ignore', dtype= dtype_dict)\n",
      "C:\\Users\\farrj\\AppData\\Local\\Temp\\ipykernel_2900\\1822418538.py:8: DtypeWarning: Columns (3,58) have mixed types. Specify dtype option on import or set low_memory=False.\n",
      "  df_names[df_name] = pd.read_csv(files[i], header= 0, encoding_errors= 'ignore', dtype= dtype_dict)\n",
      "C:\\Users\\farrj\\AppData\\Local\\Temp\\ipykernel_2900\\1822418538.py:8: DtypeWarning: Columns (3,58) have mixed types. Specify dtype option on import or set low_memory=False.\n",
      "  df_names[df_name] = pd.read_csv(files[i], header= 0, encoding_errors= 'ignore', dtype= dtype_dict)\n",
      "C:\\Users\\farrj\\AppData\\Local\\Temp\\ipykernel_2900\\1822418538.py:8: DtypeWarning: Columns (3,58) have mixed types. Specify dtype option on import or set low_memory=False.\n",
      "  df_names[df_name] = pd.read_csv(files[i], header= 0, encoding_errors= 'ignore', dtype= dtype_dict)\n",
      "C:\\Users\\farrj\\AppData\\Local\\Temp\\ipykernel_2900\\1822418538.py:8: DtypeWarning: Columns (3,58) have mixed types. Specify dtype option on import or set low_memory=False.\n",
      "  df_names[df_name] = pd.read_csv(files[i], header= 0, encoding_errors= 'ignore', dtype= dtype_dict)\n",
      "C:\\Users\\farrj\\AppData\\Local\\Temp\\ipykernel_2900\\1822418538.py:8: DtypeWarning: Columns (3,46,58) have mixed types. Specify dtype option on import or set low_memory=False.\n",
      "  df_names[df_name] = pd.read_csv(files[i], header= 0, encoding_errors= 'ignore', dtype= dtype_dict)\n",
      "C:\\Users\\farrj\\AppData\\Local\\Temp\\ipykernel_2900\\1822418538.py:8: DtypeWarning: Columns (3,58) have mixed types. Specify dtype option on import or set low_memory=False.\n",
      "  df_names[df_name] = pd.read_csv(files[i], header= 0, encoding_errors= 'ignore', dtype= dtype_dict)\n",
      "C:\\Users\\farrj\\AppData\\Local\\Temp\\ipykernel_2900\\1822418538.py:8: DtypeWarning: Columns (3,58) have mixed types. Specify dtype option on import or set low_memory=False.\n",
      "  df_names[df_name] = pd.read_csv(files[i], header= 0, encoding_errors= 'ignore', dtype= dtype_dict)\n",
      "C:\\Users\\farrj\\AppData\\Local\\Temp\\ipykernel_2900\\1822418538.py:8: DtypeWarning: Columns (3) have mixed types. Specify dtype option on import or set low_memory=False.\n",
      "  df_names[df_name] = pd.read_csv(files[i], header= 0, encoding_errors= 'ignore', dtype= dtype_dict)\n",
      "C:\\Users\\farrj\\AppData\\Local\\Temp\\ipykernel_2900\\1822418538.py:8: DtypeWarning: Columns (3) have mixed types. Specify dtype option on import or set low_memory=False.\n",
      "  df_names[df_name] = pd.read_csv(files[i], header= 0, encoding_errors= 'ignore', dtype= dtype_dict)\n",
      "C:\\Users\\farrj\\AppData\\Local\\Temp\\ipykernel_2900\\1822418538.py:8: DtypeWarning: Columns (3) have mixed types. Specify dtype option on import or set low_memory=False.\n",
      "  df_names[df_name] = pd.read_csv(files[i], header= 0, encoding_errors= 'ignore', dtype= dtype_dict)\n",
      "C:\\Users\\farrj\\AppData\\Local\\Temp\\ipykernel_2900\\1822418538.py:8: DtypeWarning: Columns (3) have mixed types. Specify dtype option on import or set low_memory=False.\n",
      "  df_names[df_name] = pd.read_csv(files[i], header= 0, encoding_errors= 'ignore', dtype= dtype_dict)\n",
      "C:\\Users\\farrj\\AppData\\Local\\Temp\\ipykernel_2900\\1822418538.py:8: DtypeWarning: Columns (3) have mixed types. Specify dtype option on import or set low_memory=False.\n",
      "  df_names[df_name] = pd.read_csv(files[i], header= 0, encoding_errors= 'ignore', dtype= dtype_dict)\n",
      "C:\\Users\\farrj\\AppData\\Local\\Temp\\ipykernel_2900\\1822418538.py:8: DtypeWarning: Columns (3) have mixed types. Specify dtype option on import or set low_memory=False.\n",
      "  df_names[df_name] = pd.read_csv(files[i], header= 0, encoding_errors= 'ignore', dtype= dtype_dict)\n",
      "C:\\Users\\farrj\\AppData\\Local\\Temp\\ipykernel_2900\\1822418538.py:8: DtypeWarning: Columns (3) have mixed types. Specify dtype option on import or set low_memory=False.\n",
      "  df_names[df_name] = pd.read_csv(files[i], header= 0, encoding_errors= 'ignore', dtype= dtype_dict)\n",
      "C:\\Users\\farrj\\AppData\\Local\\Temp\\ipykernel_2900\\1822418538.py:8: DtypeWarning: Columns (3) have mixed types. Specify dtype option on import or set low_memory=False.\n",
      "  df_names[df_name] = pd.read_csv(files[i], header= 0, encoding_errors= 'ignore', dtype= dtype_dict)\n",
      "C:\\Users\\farrj\\AppData\\Local\\Temp\\ipykernel_2900\\1822418538.py:8: DtypeWarning: Columns (3) have mixed types. Specify dtype option on import or set low_memory=False.\n",
      "  df_names[df_name] = pd.read_csv(files[i], header= 0, encoding_errors= 'ignore', dtype= dtype_dict)\n",
      "C:\\Users\\farrj\\AppData\\Local\\Temp\\ipykernel_2900\\1822418538.py:8: DtypeWarning: Columns (3) have mixed types. Specify dtype option on import or set low_memory=False.\n",
      "  df_names[df_name] = pd.read_csv(files[i], header= 0, encoding_errors= 'ignore', dtype= dtype_dict)\n",
      "C:\\Users\\farrj\\AppData\\Local\\Temp\\ipykernel_2900\\1822418538.py:8: DtypeWarning: Columns (3) have mixed types. Specify dtype option on import or set low_memory=False.\n",
      "  df_names[df_name] = pd.read_csv(files[i], header= 0, encoding_errors= 'ignore', dtype= dtype_dict)\n",
      "C:\\Users\\farrj\\AppData\\Local\\Temp\\ipykernel_2900\\1822418538.py:8: DtypeWarning: Columns (3) have mixed types. Specify dtype option on import or set low_memory=False.\n",
      "  df_names[df_name] = pd.read_csv(files[i], header= 0, encoding_errors= 'ignore', dtype= dtype_dict)\n",
      "C:\\Users\\farrj\\AppData\\Local\\Temp\\ipykernel_2900\\1822418538.py:8: DtypeWarning: Columns (3) have mixed types. Specify dtype option on import or set low_memory=False.\n",
      "  df_names[df_name] = pd.read_csv(files[i], header= 0, encoding_errors= 'ignore', dtype= dtype_dict)\n",
      "C:\\Users\\farrj\\AppData\\Local\\Temp\\ipykernel_2900\\1822418538.py:8: DtypeWarning: Columns (3) have mixed types. Specify dtype option on import or set low_memory=False.\n",
      "  df_names[df_name] = pd.read_csv(files[i], header= 0, encoding_errors= 'ignore', dtype= dtype_dict)\n"
     ]
    },
    {
     "ename": "MemoryError",
     "evalue": "Unable to allocate 160. MiB for an array with shape (20936845,) and data type object",
     "output_type": "error",
     "traceback": [
      "\u001b[1;31m---------------------------------------------------------------------------\u001b[0m",
      "\u001b[1;31mMemoryError\u001b[0m                               Traceback (most recent call last)",
      "Cell \u001b[1;32mIn[9], line 8\u001b[0m\n\u001b[0;32m      6\u001b[0m bridges_14_23 \u001b[38;5;241m=\u001b[39m pd\u001b[38;5;241m.\u001b[39mDataFrame()\n\u001b[0;32m      7\u001b[0m \u001b[38;5;28;01mfor\u001b[39;00m df_name, df \u001b[38;5;129;01min\u001b[39;00m df_names\u001b[38;5;241m.\u001b[39mitems():\n\u001b[1;32m----> 8\u001b[0m     df_names[df_name] \u001b[38;5;241m=\u001b[39m \u001b[43mpd\u001b[49m\u001b[38;5;241;43m.\u001b[39;49m\u001b[43mread_csv\u001b[49m\u001b[43m(\u001b[49m\u001b[43mfiles\u001b[49m\u001b[43m[\u001b[49m\u001b[43mi\u001b[49m\u001b[43m]\u001b[49m\u001b[43m,\u001b[49m\u001b[43m \u001b[49m\u001b[43mheader\u001b[49m\u001b[38;5;241;43m=\u001b[39;49m\u001b[43m \u001b[49m\u001b[38;5;241;43m0\u001b[39;49m\u001b[43m,\u001b[49m\u001b[43m \u001b[49m\u001b[43mencoding_errors\u001b[49m\u001b[38;5;241;43m=\u001b[39;49m\u001b[43m \u001b[49m\u001b[38;5;124;43m'\u001b[39;49m\u001b[38;5;124;43mignore\u001b[39;49m\u001b[38;5;124;43m'\u001b[39;49m\u001b[43m,\u001b[49m\u001b[43m \u001b[49m\u001b[43mdtype\u001b[49m\u001b[38;5;241;43m=\u001b[39;49m\u001b[43m \u001b[49m\u001b[43mdtype_dict\u001b[49m\u001b[43m)\u001b[49m\n\u001b[0;32m      9\u001b[0m     \u001b[38;5;66;03m# get current data frame\u001b[39;00m\n\u001b[0;32m     10\u001b[0m     df_current \u001b[38;5;241m=\u001b[39m df_names[df_name]\n",
      "File \u001b[1;32m~\\AppData\\Local\\Packages\\PythonSoftwareFoundation.Python.3.10_qbz5n2kfra8p0\\LocalCache\\local-packages\\Python310\\site-packages\\pandas\\io\\parsers\\readers.py:1026\u001b[0m, in \u001b[0;36mread_csv\u001b[1;34m(filepath_or_buffer, sep, delimiter, header, names, index_col, usecols, dtype, engine, converters, true_values, false_values, skipinitialspace, skiprows, skipfooter, nrows, na_values, keep_default_na, na_filter, verbose, skip_blank_lines, parse_dates, infer_datetime_format, keep_date_col, date_parser, date_format, dayfirst, cache_dates, iterator, chunksize, compression, thousands, decimal, lineterminator, quotechar, quoting, doublequote, escapechar, comment, encoding, encoding_errors, dialect, on_bad_lines, delim_whitespace, low_memory, memory_map, float_precision, storage_options, dtype_backend)\u001b[0m\n\u001b[0;32m   1013\u001b[0m kwds_defaults \u001b[38;5;241m=\u001b[39m _refine_defaults_read(\n\u001b[0;32m   1014\u001b[0m     dialect,\n\u001b[0;32m   1015\u001b[0m     delimiter,\n\u001b[1;32m   (...)\u001b[0m\n\u001b[0;32m   1022\u001b[0m     dtype_backend\u001b[38;5;241m=\u001b[39mdtype_backend,\n\u001b[0;32m   1023\u001b[0m )\n\u001b[0;32m   1024\u001b[0m kwds\u001b[38;5;241m.\u001b[39mupdate(kwds_defaults)\n\u001b[1;32m-> 1026\u001b[0m \u001b[38;5;28;01mreturn\u001b[39;00m \u001b[43m_read\u001b[49m\u001b[43m(\u001b[49m\u001b[43mfilepath_or_buffer\u001b[49m\u001b[43m,\u001b[49m\u001b[43m \u001b[49m\u001b[43mkwds\u001b[49m\u001b[43m)\u001b[49m\n",
      "File \u001b[1;32m~\\AppData\\Local\\Packages\\PythonSoftwareFoundation.Python.3.10_qbz5n2kfra8p0\\LocalCache\\local-packages\\Python310\\site-packages\\pandas\\io\\parsers\\readers.py:626\u001b[0m, in \u001b[0;36m_read\u001b[1;34m(filepath_or_buffer, kwds)\u001b[0m\n\u001b[0;32m    623\u001b[0m     \u001b[38;5;28;01mreturn\u001b[39;00m parser\n\u001b[0;32m    625\u001b[0m \u001b[38;5;28;01mwith\u001b[39;00m parser:\n\u001b[1;32m--> 626\u001b[0m     \u001b[38;5;28;01mreturn\u001b[39;00m \u001b[43mparser\u001b[49m\u001b[38;5;241;43m.\u001b[39;49m\u001b[43mread\u001b[49m\u001b[43m(\u001b[49m\u001b[43mnrows\u001b[49m\u001b[43m)\u001b[49m\n",
      "File \u001b[1;32m~\\AppData\\Local\\Packages\\PythonSoftwareFoundation.Python.3.10_qbz5n2kfra8p0\\LocalCache\\local-packages\\Python310\\site-packages\\pandas\\io\\parsers\\readers.py:1968\u001b[0m, in \u001b[0;36mTextFileReader.read\u001b[1;34m(self, nrows)\u001b[0m\n\u001b[0;32m   1965\u001b[0m     \u001b[38;5;28;01melse\u001b[39;00m:\n\u001b[0;32m   1966\u001b[0m         new_col_dict \u001b[38;5;241m=\u001b[39m col_dict\n\u001b[1;32m-> 1968\u001b[0m     df \u001b[38;5;241m=\u001b[39m \u001b[43mDataFrame\u001b[49m\u001b[43m(\u001b[49m\n\u001b[0;32m   1969\u001b[0m \u001b[43m        \u001b[49m\u001b[43mnew_col_dict\u001b[49m\u001b[43m,\u001b[49m\n\u001b[0;32m   1970\u001b[0m \u001b[43m        \u001b[49m\u001b[43mcolumns\u001b[49m\u001b[38;5;241;43m=\u001b[39;49m\u001b[43mcolumns\u001b[49m\u001b[43m,\u001b[49m\n\u001b[0;32m   1971\u001b[0m \u001b[43m        \u001b[49m\u001b[43mindex\u001b[49m\u001b[38;5;241;43m=\u001b[39;49m\u001b[43mindex\u001b[49m\u001b[43m,\u001b[49m\n\u001b[0;32m   1972\u001b[0m \u001b[43m        \u001b[49m\u001b[43mcopy\u001b[49m\u001b[38;5;241;43m=\u001b[39;49m\u001b[38;5;129;43;01mnot\u001b[39;49;00m\u001b[43m \u001b[49m\u001b[43musing_copy_on_write\u001b[49m\u001b[43m(\u001b[49m\u001b[43m)\u001b[49m\u001b[43m,\u001b[49m\n\u001b[0;32m   1973\u001b[0m \u001b[43m    \u001b[49m\u001b[43m)\u001b[49m\n\u001b[0;32m   1975\u001b[0m     \u001b[38;5;28mself\u001b[39m\u001b[38;5;241m.\u001b[39m_currow \u001b[38;5;241m+\u001b[39m\u001b[38;5;241m=\u001b[39m new_rows\n\u001b[0;32m   1976\u001b[0m \u001b[38;5;28;01mreturn\u001b[39;00m df\n",
      "File \u001b[1;32m~\\AppData\\Local\\Packages\\PythonSoftwareFoundation.Python.3.10_qbz5n2kfra8p0\\LocalCache\\local-packages\\Python310\\site-packages\\pandas\\core\\frame.py:767\u001b[0m, in \u001b[0;36mDataFrame.__init__\u001b[1;34m(self, data, index, columns, dtype, copy)\u001b[0m\n\u001b[0;32m    761\u001b[0m     mgr \u001b[38;5;241m=\u001b[39m \u001b[38;5;28mself\u001b[39m\u001b[38;5;241m.\u001b[39m_init_mgr(\n\u001b[0;32m    762\u001b[0m         data, axes\u001b[38;5;241m=\u001b[39m{\u001b[38;5;124m\"\u001b[39m\u001b[38;5;124mindex\u001b[39m\u001b[38;5;124m\"\u001b[39m: index, \u001b[38;5;124m\"\u001b[39m\u001b[38;5;124mcolumns\u001b[39m\u001b[38;5;124m\"\u001b[39m: columns}, dtype\u001b[38;5;241m=\u001b[39mdtype, copy\u001b[38;5;241m=\u001b[39mcopy\n\u001b[0;32m    763\u001b[0m     )\n\u001b[0;32m    765\u001b[0m \u001b[38;5;28;01melif\u001b[39;00m \u001b[38;5;28misinstance\u001b[39m(data, \u001b[38;5;28mdict\u001b[39m):\n\u001b[0;32m    766\u001b[0m     \u001b[38;5;66;03m# GH#38939 de facto copy defaults to False only in non-dict cases\u001b[39;00m\n\u001b[1;32m--> 767\u001b[0m     mgr \u001b[38;5;241m=\u001b[39m \u001b[43mdict_to_mgr\u001b[49m\u001b[43m(\u001b[49m\u001b[43mdata\u001b[49m\u001b[43m,\u001b[49m\u001b[43m \u001b[49m\u001b[43mindex\u001b[49m\u001b[43m,\u001b[49m\u001b[43m \u001b[49m\u001b[43mcolumns\u001b[49m\u001b[43m,\u001b[49m\u001b[43m \u001b[49m\u001b[43mdtype\u001b[49m\u001b[38;5;241;43m=\u001b[39;49m\u001b[43mdtype\u001b[49m\u001b[43m,\u001b[49m\u001b[43m \u001b[49m\u001b[43mcopy\u001b[49m\u001b[38;5;241;43m=\u001b[39;49m\u001b[43mcopy\u001b[49m\u001b[43m,\u001b[49m\u001b[43m \u001b[49m\u001b[43mtyp\u001b[49m\u001b[38;5;241;43m=\u001b[39;49m\u001b[43mmanager\u001b[49m\u001b[43m)\u001b[49m\n\u001b[0;32m    768\u001b[0m \u001b[38;5;28;01melif\u001b[39;00m \u001b[38;5;28misinstance\u001b[39m(data, ma\u001b[38;5;241m.\u001b[39mMaskedArray):\n\u001b[0;32m    769\u001b[0m     \u001b[38;5;28;01mfrom\u001b[39;00m \u001b[38;5;21;01mnumpy\u001b[39;00m\u001b[38;5;21;01m.\u001b[39;00m\u001b[38;5;21;01mma\u001b[39;00m \u001b[38;5;28;01mimport\u001b[39;00m mrecords\n",
      "File \u001b[1;32m~\\AppData\\Local\\Packages\\PythonSoftwareFoundation.Python.3.10_qbz5n2kfra8p0\\LocalCache\\local-packages\\Python310\\site-packages\\pandas\\core\\internals\\construction.py:443\u001b[0m, in \u001b[0;36mdict_to_mgr\u001b[1;34m(data, index, columns, dtype, typ, copy)\u001b[0m\n\u001b[0;32m    440\u001b[0m \u001b[38;5;28;01mif\u001b[39;00m columns \u001b[38;5;129;01mis\u001b[39;00m \u001b[38;5;129;01mnot\u001b[39;00m \u001b[38;5;28;01mNone\u001b[39;00m:\n\u001b[0;32m    441\u001b[0m     \u001b[38;5;28;01mfrom\u001b[39;00m \u001b[38;5;21;01mpandas\u001b[39;00m\u001b[38;5;21;01m.\u001b[39;00m\u001b[38;5;21;01mcore\u001b[39;00m\u001b[38;5;21;01m.\u001b[39;00m\u001b[38;5;21;01mseries\u001b[39;00m \u001b[38;5;28;01mimport\u001b[39;00m Series\n\u001b[1;32m--> 443\u001b[0m     arrays \u001b[38;5;241m=\u001b[39m \u001b[43mSeries\u001b[49m\u001b[43m(\u001b[49m\u001b[43mdata\u001b[49m\u001b[43m,\u001b[49m\u001b[43m \u001b[49m\u001b[43mindex\u001b[49m\u001b[38;5;241;43m=\u001b[39;49m\u001b[43mcolumns\u001b[49m\u001b[43m,\u001b[49m\u001b[43m \u001b[49m\u001b[43mdtype\u001b[49m\u001b[38;5;241;43m=\u001b[39;49m\u001b[38;5;28;43mobject\u001b[39;49m\u001b[43m)\u001b[49m\n\u001b[0;32m    444\u001b[0m     missing \u001b[38;5;241m=\u001b[39m arrays\u001b[38;5;241m.\u001b[39misna()\n\u001b[0;32m    445\u001b[0m     \u001b[38;5;28;01mif\u001b[39;00m index \u001b[38;5;129;01mis\u001b[39;00m \u001b[38;5;28;01mNone\u001b[39;00m:\n\u001b[0;32m    446\u001b[0m         \u001b[38;5;66;03m# GH10856\u001b[39;00m\n\u001b[0;32m    447\u001b[0m         \u001b[38;5;66;03m# raise ValueError if only scalars in dict\u001b[39;00m\n",
      "File \u001b[1;32m~\\AppData\\Local\\Packages\\PythonSoftwareFoundation.Python.3.10_qbz5n2kfra8p0\\LocalCache\\local-packages\\Python310\\site-packages\\pandas\\core\\series.py:537\u001b[0m, in \u001b[0;36mSeries.__init__\u001b[1;34m(self, data, index, dtype, name, copy, fastpath)\u001b[0m\n\u001b[0;32m    535\u001b[0m         data \u001b[38;5;241m=\u001b[39m data\u001b[38;5;241m.\u001b[39m_mgr\n\u001b[0;32m    536\u001b[0m \u001b[38;5;28;01melif\u001b[39;00m is_dict_like(data):\n\u001b[1;32m--> 537\u001b[0m     data, index \u001b[38;5;241m=\u001b[39m \u001b[38;5;28;43mself\u001b[39;49m\u001b[38;5;241;43m.\u001b[39;49m\u001b[43m_init_dict\u001b[49m\u001b[43m(\u001b[49m\u001b[43mdata\u001b[49m\u001b[43m,\u001b[49m\u001b[43m \u001b[49m\u001b[43mindex\u001b[49m\u001b[43m,\u001b[49m\u001b[43m \u001b[49m\u001b[43mdtype\u001b[49m\u001b[43m)\u001b[49m\n\u001b[0;32m    538\u001b[0m     dtype \u001b[38;5;241m=\u001b[39m \u001b[38;5;28;01mNone\u001b[39;00m\n\u001b[0;32m    539\u001b[0m     copy \u001b[38;5;241m=\u001b[39m \u001b[38;5;28;01mFalse\u001b[39;00m\n",
      "File \u001b[1;32m~\\AppData\\Local\\Packages\\PythonSoftwareFoundation.Python.3.10_qbz5n2kfra8p0\\LocalCache\\local-packages\\Python310\\site-packages\\pandas\\core\\series.py:651\u001b[0m, in \u001b[0;36mSeries._init_dict\u001b[1;34m(self, data, index, dtype)\u001b[0m\n\u001b[0;32m    648\u001b[0m     keys, values \u001b[38;5;241m=\u001b[39m default_index(\u001b[38;5;241m0\u001b[39m), []\n\u001b[0;32m    650\u001b[0m \u001b[38;5;66;03m# Input is now list-like, so rely on \"standard\" construction:\u001b[39;00m\n\u001b[1;32m--> 651\u001b[0m s \u001b[38;5;241m=\u001b[39m \u001b[43mSeries\u001b[49m\u001b[43m(\u001b[49m\u001b[43mvalues\u001b[49m\u001b[43m,\u001b[49m\u001b[43m \u001b[49m\u001b[43mindex\u001b[49m\u001b[38;5;241;43m=\u001b[39;49m\u001b[43mkeys\u001b[49m\u001b[43m,\u001b[49m\u001b[43m \u001b[49m\u001b[43mdtype\u001b[49m\u001b[38;5;241;43m=\u001b[39;49m\u001b[43mdtype\u001b[49m\u001b[43m)\u001b[49m\n\u001b[0;32m    653\u001b[0m \u001b[38;5;66;03m# Now we just make sure the order is respected, if any\u001b[39;00m\n\u001b[0;32m    654\u001b[0m \u001b[38;5;28;01mif\u001b[39;00m data \u001b[38;5;129;01mand\u001b[39;00m index \u001b[38;5;129;01mis\u001b[39;00m \u001b[38;5;129;01mnot\u001b[39;00m \u001b[38;5;28;01mNone\u001b[39;00m:\n",
      "File \u001b[1;32m~\\AppData\\Local\\Packages\\PythonSoftwareFoundation.Python.3.10_qbz5n2kfra8p0\\LocalCache\\local-packages\\Python310\\site-packages\\pandas\\core\\series.py:584\u001b[0m, in \u001b[0;36mSeries.__init__\u001b[1;34m(self, data, index, dtype, name, copy, fastpath)\u001b[0m\n\u001b[0;32m    582\u001b[0m         data \u001b[38;5;241m=\u001b[39m data\u001b[38;5;241m.\u001b[39mcopy()\n\u001b[0;32m    583\u001b[0m \u001b[38;5;28;01melse\u001b[39;00m:\n\u001b[1;32m--> 584\u001b[0m     data \u001b[38;5;241m=\u001b[39m \u001b[43msanitize_array\u001b[49m\u001b[43m(\u001b[49m\u001b[43mdata\u001b[49m\u001b[43m,\u001b[49m\u001b[43m \u001b[49m\u001b[43mindex\u001b[49m\u001b[43m,\u001b[49m\u001b[43m \u001b[49m\u001b[43mdtype\u001b[49m\u001b[43m,\u001b[49m\u001b[43m \u001b[49m\u001b[43mcopy\u001b[49m\u001b[43m)\u001b[49m\n\u001b[0;32m    586\u001b[0m     manager \u001b[38;5;241m=\u001b[39m _get_option(\u001b[38;5;124m\"\u001b[39m\u001b[38;5;124mmode.data_manager\u001b[39m\u001b[38;5;124m\"\u001b[39m, silent\u001b[38;5;241m=\u001b[39m\u001b[38;5;28;01mTrue\u001b[39;00m)\n\u001b[0;32m    587\u001b[0m     \u001b[38;5;28;01mif\u001b[39;00m manager \u001b[38;5;241m==\u001b[39m \u001b[38;5;124m\"\u001b[39m\u001b[38;5;124mblock\u001b[39m\u001b[38;5;124m\"\u001b[39m:\n",
      "File \u001b[1;32m~\\AppData\\Local\\Packages\\PythonSoftwareFoundation.Python.3.10_qbz5n2kfra8p0\\LocalCache\\local-packages\\Python310\\site-packages\\pandas\\core\\construction.py:648\u001b[0m, in \u001b[0;36msanitize_array\u001b[1;34m(data, index, dtype, copy, allow_2d)\u001b[0m\n\u001b[0;32m    645\u001b[0m     subarr \u001b[38;5;241m=\u001b[39m np\u001b[38;5;241m.\u001b[39marray([], dtype\u001b[38;5;241m=\u001b[39mnp\u001b[38;5;241m.\u001b[39mfloat64)\n\u001b[0;32m    647\u001b[0m \u001b[38;5;28;01melif\u001b[39;00m dtype \u001b[38;5;129;01mis\u001b[39;00m \u001b[38;5;129;01mnot\u001b[39;00m \u001b[38;5;28;01mNone\u001b[39;00m:\n\u001b[1;32m--> 648\u001b[0m     subarr \u001b[38;5;241m=\u001b[39m \u001b[43m_try_cast\u001b[49m\u001b[43m(\u001b[49m\u001b[43mdata\u001b[49m\u001b[43m,\u001b[49m\u001b[43m \u001b[49m\u001b[43mdtype\u001b[49m\u001b[43m,\u001b[49m\u001b[43m \u001b[49m\u001b[43mcopy\u001b[49m\u001b[43m)\u001b[49m\n\u001b[0;32m    650\u001b[0m \u001b[38;5;28;01melse\u001b[39;00m:\n\u001b[0;32m    651\u001b[0m     subarr \u001b[38;5;241m=\u001b[39m maybe_convert_platform(data)\n",
      "File \u001b[1;32m~\\AppData\\Local\\Packages\\PythonSoftwareFoundation.Python.3.10_qbz5n2kfra8p0\\LocalCache\\local-packages\\Python310\\site-packages\\pandas\\core\\construction.py:787\u001b[0m, in \u001b[0;36m_try_cast\u001b[1;34m(arr, dtype, copy)\u001b[0m\n\u001b[0;32m    785\u001b[0m \u001b[38;5;28;01mif\u001b[39;00m dtype \u001b[38;5;241m==\u001b[39m \u001b[38;5;28mobject\u001b[39m:\n\u001b[0;32m    786\u001b[0m     \u001b[38;5;28;01mif\u001b[39;00m \u001b[38;5;129;01mnot\u001b[39;00m is_ndarray:\n\u001b[1;32m--> 787\u001b[0m         subarr \u001b[38;5;241m=\u001b[39m \u001b[43mconstruct_1d_object_array_from_listlike\u001b[49m\u001b[43m(\u001b[49m\u001b[43marr\u001b[49m\u001b[43m)\u001b[49m\n\u001b[0;32m    788\u001b[0m         \u001b[38;5;28;01mreturn\u001b[39;00m subarr\n\u001b[0;32m    789\u001b[0m     \u001b[38;5;28;01mreturn\u001b[39;00m ensure_wrapped_if_datetimelike(arr)\u001b[38;5;241m.\u001b[39mastype(dtype, copy\u001b[38;5;241m=\u001b[39mcopy)\n",
      "File \u001b[1;32m~\\AppData\\Local\\Packages\\PythonSoftwareFoundation.Python.3.10_qbz5n2kfra8p0\\LocalCache\\local-packages\\Python310\\site-packages\\pandas\\core\\dtypes\\cast.py:1598\u001b[0m, in \u001b[0;36mconstruct_1d_object_array_from_listlike\u001b[1;34m(values)\u001b[0m\n\u001b[0;32m   1595\u001b[0m \u001b[38;5;66;03m# numpy will try to interpret nested lists as further dimensions, hence\u001b[39;00m\n\u001b[0;32m   1596\u001b[0m \u001b[38;5;66;03m# making a 1D array that contains list-likes is a bit tricky:\u001b[39;00m\n\u001b[0;32m   1597\u001b[0m result \u001b[38;5;241m=\u001b[39m np\u001b[38;5;241m.\u001b[39mempty(\u001b[38;5;28mlen\u001b[39m(values), dtype\u001b[38;5;241m=\u001b[39m\u001b[38;5;124m\"\u001b[39m\u001b[38;5;124mobject\u001b[39m\u001b[38;5;124m\"\u001b[39m)\n\u001b[1;32m-> 1598\u001b[0m \u001b[43mresult\u001b[49m\u001b[43m[\u001b[49m\u001b[43m:\u001b[49m\u001b[43m]\u001b[49m \u001b[38;5;241m=\u001b[39m values\n\u001b[0;32m   1599\u001b[0m \u001b[38;5;28;01mreturn\u001b[39;00m result\n",
      "File \u001b[1;32m~\\AppData\\Local\\Packages\\PythonSoftwareFoundation.Python.3.10_qbz5n2kfra8p0\\LocalCache\\local-packages\\Python310\\site-packages\\pandas\\core\\series.py:1022\u001b[0m, in \u001b[0;36mSeries.__array__\u001b[1;34m(self, dtype)\u001b[0m\n\u001b[0;32m    975\u001b[0m \u001b[38;5;250m\u001b[39m\u001b[38;5;124;03m\"\"\"\u001b[39;00m\n\u001b[0;32m    976\u001b[0m \u001b[38;5;124;03mReturn the values as a NumPy array.\u001b[39;00m\n\u001b[0;32m    977\u001b[0m \n\u001b[1;32m   (...)\u001b[0m\n\u001b[0;32m   1019\u001b[0m \u001b[38;5;124;03m      dtype='datetime64[ns]')\u001b[39;00m\n\u001b[0;32m   1020\u001b[0m \u001b[38;5;124;03m\"\"\"\u001b[39;00m\n\u001b[0;32m   1021\u001b[0m values \u001b[38;5;241m=\u001b[39m \u001b[38;5;28mself\u001b[39m\u001b[38;5;241m.\u001b[39m_values\n\u001b[1;32m-> 1022\u001b[0m arr \u001b[38;5;241m=\u001b[39m \u001b[43mnp\u001b[49m\u001b[38;5;241;43m.\u001b[39;49m\u001b[43masarray\u001b[49m\u001b[43m(\u001b[49m\u001b[43mvalues\u001b[49m\u001b[43m,\u001b[49m\u001b[43m \u001b[49m\u001b[43mdtype\u001b[49m\u001b[38;5;241;43m=\u001b[39;49m\u001b[43mdtype\u001b[49m\u001b[43m)\u001b[49m\n\u001b[0;32m   1023\u001b[0m \u001b[38;5;28;01mif\u001b[39;00m using_copy_on_write() \u001b[38;5;129;01mand\u001b[39;00m astype_is_view(values\u001b[38;5;241m.\u001b[39mdtype, arr\u001b[38;5;241m.\u001b[39mdtype):\n\u001b[0;32m   1024\u001b[0m     arr \u001b[38;5;241m=\u001b[39m arr\u001b[38;5;241m.\u001b[39mview()\n",
      "\u001b[1;31mMemoryError\u001b[0m: Unable to allocate 160. MiB for an array with shape (20936845,) and data type object"
     ]
    }
   ],
   "source": [
    "# read in csv files and create dfs\n",
    "i = 0\n",
    "masterBridges = pd.DataFrame()\n",
    "bridges_92_02 = pd.DataFrame()\n",
    "bridges_03_13 = pd.DataFrame()\n",
    "bridges_14_23 = pd.DataFrame()\n",
    "for df_name, df in df_names.items():\n",
    "    df_names[df_name] = pd.read_csv(files[i], header= 0, encoding_errors= 'ignore', dtype= dtype_dict)\n",
    "    # get current data frame\n",
    "    df_current = df_names[df_name]\n",
    "    # drop columns\n",
    "    df_new = colDrop(drop_cols, df_current)\n",
    "    # drop certain rows w/nulls\n",
    "    df_current = naRowDrop(na_rows, df_new)\n",
    "    # add year col\n",
    "    year = 1992 + i\n",
    "    df_current.insert(loc=1, column= 'YEAR', value= year, allow_duplicates=True)\n",
    "    # impute values\n",
    "    df_current.fillna(value= impute_dict)\n",
    "    \n",
    "    #masterBridges = pd.concat([masterBridges, df_current])\n",
    "    # if year in range(1992, 2003):\n",
    "    #     bridges_92_02 = pd.concat([bridges_92_02, df_current])\n",
    "    # elif year in range(2003, 2014):\n",
    "    #     #del bridges_09_02\n",
    "    #     #bridges_03_13 = pd.concat([bridges_03_13, df_current])\n",
    "    #     pass\n",
    "    # else:\n",
    "    #     #del bridges_03_13\n",
    "    #     #bridges_14_23 = pd.concat([bridges_14_23, df_current])\n",
    "    #     pass\n",
    "        \n",
    "    i = i +1\n",
    "    del df_current"
   ]
  },
  {
   "cell_type": "code",
   "execution_count": null,
   "id": "fd0a8f08-3954-40a6-81f1-9e087d85cbcc",
   "metadata": {},
   "outputs": [],
   "source": [
    "# save smaller dfs, just in case\n",
    "decades_dfs = ['bridges_92_02', 'bridges_03_13', 'bridges_14_23']\n",
    "save_dir = \"D:/Scripts/bridges_project/data\"\n",
    "save_path = []\n",
    "for i in range(3):\n",
    "    save_name = decades_dfs[i] + '.csv'\n",
    "    save_path = os.path.join(save_dir, save_name)\n",
    "    save_files.append(save_path)\n",
    "    \n",
    "bridges_92_02.to_csv(save_path[0], index= False)\n",
    "# bridges_03_13.to_csv(save_path[1], index= False)\n",
    "# bridges_14_23.to_csv(save_path[2], index= False)"
   ]
  },
  {
   "cell_type": "code",
   "execution_count": null,
   "id": "52014d8c-194d-4d3a-b34f-64a8dae36c58",
   "metadata": {},
   "outputs": [],
   "source": [
    "del bridges_14_23"
   ]
  },
  {
   "cell_type": "code",
   "execution_count": null,
   "id": "04ffef14-9e0b-440d-8f98-1924a4c3c4c0",
   "metadata": {},
   "outputs": [],
   "source": [
    "masterBridges.head()"
   ]
  },
  {
   "cell_type": "code",
   "execution_count": null,
   "id": "4069fa91-be9a-4ddb-b3dc-62d1dd725038",
   "metadata": {
    "scrolled": true
   },
   "outputs": [],
   "source": [
    "masterBridges.info()"
   ]
  },
  {
   "cell_type": "code",
   "execution_count": null,
   "id": "f0641f92-d072-4c32-bf8f-54e26340a6e2",
   "metadata": {},
   "outputs": [],
   "source": [
    "#save new df as csv\n",
    "save_dir = \"D:/Scripts/bridges_project/data\"\n",
    "save_name = \"masterBridges.csv\"\n",
    "save_path = os.path.join(save_dir, save_name)\n",
    "masterBridges.to_csv(save_path, index= False)"
   ]
  },
  {
   "cell_type": "code",
   "execution_count": null,
   "id": "51ec4f47-9fcb-4e93-82a5-d6b28600c5b6",
   "metadata": {},
   "outputs": [],
   "source": [
    "masterBridges.YEAR.value_counts()"
   ]
  },
  {
   "cell_type": "code",
   "execution_count": null,
   "id": "aefe30eb-59ad-413e-8496-c1310f21b2ff",
   "metadata": {},
   "outputs": [],
   "source": [
    "masterBridges.isna().sum()"
   ]
  },
  {
   "cell_type": "code",
   "execution_count": null,
   "id": "3f78638a-14de-4c51-b52f-12e83dcb4a1f",
   "metadata": {
    "scrolled": true
   },
   "outputs": [],
   "source": [
    "masterBridges.columns.tolist()"
   ]
  },
  {
   "cell_type": "code",
   "execution_count": null,
   "id": "44ffe1c5-4650-4e3a-a5f1-13b6a98c2321",
   "metadata": {},
   "outputs": [],
   "source": [
    "masterBridges['FUNCTIONAL_CLASS_026'].value_counts()"
   ]
  }
 ],
 "metadata": {
  "kernelspec": {
   "display_name": "Python 3 (ipykernel)",
   "language": "python",
   "name": "python3"
  },
  "language_info": {
   "codemirror_mode": {
    "name": "ipython",
    "version": 3
   },
   "file_extension": ".py",
   "mimetype": "text/x-python",
   "name": "python",
   "nbconvert_exporter": "python",
   "pygments_lexer": "ipython3",
   "version": "3.10.11"
  }
 },
 "nbformat": 4,
 "nbformat_minor": 5
}
