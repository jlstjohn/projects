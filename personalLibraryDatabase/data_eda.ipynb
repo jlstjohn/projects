{
 "cells": [
  {
   "cell_type": "markdown",
   "id": "29293fd3-425a-481a-ae8a-a3057e3ec28a",
   "metadata": {},
   "source": [
    "Due to various read in errors (and now with more experience) I want to take a look at the raw dataset to make sure none of the issues are due to inconsistiencies with the data."
   ]
  },
  {
   "cell_type": "code",
   "execution_count": 2,
   "id": "48d23b7d-2e22-4901-a31c-8f7cb3540506",
   "metadata": {},
   "outputs": [],
   "source": [
    "# import libraries\n",
    "import numpy as np\n",
    "import pandas as pd\n",
    "import matplotlib.pyplot as plt"
   ]
  },
  {
   "cell_type": "code",
   "execution_count": 3,
   "id": "7e846ff9-b1a2-4dc2-8522-9c61ed0e55f3",
   "metadata": {},
   "outputs": [
    {
     "data": {
      "text/html": [
       "<div>\n",
       "<style scoped>\n",
       "    .dataframe tbody tr th:only-of-type {\n",
       "        vertical-align: middle;\n",
       "    }\n",
       "\n",
       "    .dataframe tbody tr th {\n",
       "        vertical-align: top;\n",
       "    }\n",
       "\n",
       "    .dataframe thead th {\n",
       "        text-align: right;\n",
       "    }\n",
       "</style>\n",
       "<table border=\"1\" class=\"dataframe\">\n",
       "  <thead>\n",
       "    <tr style=\"text-align: right;\">\n",
       "      <th></th>\n",
       "      <th>image</th>\n",
       "      <th>name</th>\n",
       "      <th>author</th>\n",
       "      <th>format</th>\n",
       "      <th>book_depository_stars</th>\n",
       "      <th>price</th>\n",
       "      <th>currency</th>\n",
       "      <th>old_price</th>\n",
       "      <th>isbn</th>\n",
       "      <th>category</th>\n",
       "      <th>img_paths</th>\n",
       "    </tr>\n",
       "  </thead>\n",
       "  <tbody>\n",
       "    <tr>\n",
       "      <th>0</th>\n",
       "      <td>https://d1w7fb2mkkr3kw.cloudfront.net/assets/i...</td>\n",
       "      <td>This is Going to Hurt</td>\n",
       "      <td>Adam Kay</td>\n",
       "      <td>Paperback</td>\n",
       "      <td>4.5</td>\n",
       "      <td>7.6</td>\n",
       "      <td>$</td>\n",
       "      <td>11.4</td>\n",
       "      <td>9781509858637</td>\n",
       "      <td>Medical</td>\n",
       "      <td>dataset/Medical/0000001.jpg</td>\n",
       "    </tr>\n",
       "    <tr>\n",
       "      <th>1</th>\n",
       "      <td>https://d1w7fb2mkkr3kw.cloudfront.net/assets/i...</td>\n",
       "      <td>Thinking, Fast and Slow</td>\n",
       "      <td>Daniel Kahneman</td>\n",
       "      <td>Paperback</td>\n",
       "      <td>4.0</td>\n",
       "      <td>11.5</td>\n",
       "      <td>$</td>\n",
       "      <td>15.0</td>\n",
       "      <td>9780141033570</td>\n",
       "      <td>Medical</td>\n",
       "      <td>dataset/Medical/0000002.jpg</td>\n",
       "    </tr>\n",
       "    <tr>\n",
       "      <th>2</th>\n",
       "      <td>https://d1w7fb2mkkr3kw.cloudfront.net/assets/i...</td>\n",
       "      <td>When Breath Becomes Air</td>\n",
       "      <td>Paul Kalanithi</td>\n",
       "      <td>Paperback</td>\n",
       "      <td>4.5</td>\n",
       "      <td>9.05</td>\n",
       "      <td>$</td>\n",
       "      <td>11.5</td>\n",
       "      <td>9781784701994</td>\n",
       "      <td>Medical</td>\n",
       "      <td>dataset/Medical/0000003.jpg</td>\n",
       "    </tr>\n",
       "    <tr>\n",
       "      <th>3</th>\n",
       "      <td>https://d1w7fb2mkkr3kw.cloudfront.net/assets/i...</td>\n",
       "      <td>The Happiness Trap</td>\n",
       "      <td>Russ Harris</td>\n",
       "      <td>Paperback</td>\n",
       "      <td>4.0</td>\n",
       "      <td>8.34</td>\n",
       "      <td>$</td>\n",
       "      <td>13.9</td>\n",
       "      <td>9781845298258</td>\n",
       "      <td>Medical</td>\n",
       "      <td>dataset/Medical/0000004.jpg</td>\n",
       "    </tr>\n",
       "    <tr>\n",
       "      <th>4</th>\n",
       "      <td>https://d1w7fb2mkkr3kw.cloudfront.net/assets/i...</td>\n",
       "      <td>Man's Search For Meaning</td>\n",
       "      <td>Viktor E. Frankl</td>\n",
       "      <td>Paperback</td>\n",
       "      <td>4.5</td>\n",
       "      <td>9.66</td>\n",
       "      <td>$</td>\n",
       "      <td>NaN</td>\n",
       "      <td>9781846041242</td>\n",
       "      <td>Medical</td>\n",
       "      <td>dataset/Medical/0000005.jpg</td>\n",
       "    </tr>\n",
       "  </tbody>\n",
       "</table>\n",
       "</div>"
      ],
      "text/plain": [
       "                                               image  \\\n",
       "0  https://d1w7fb2mkkr3kw.cloudfront.net/assets/i...   \n",
       "1  https://d1w7fb2mkkr3kw.cloudfront.net/assets/i...   \n",
       "2  https://d1w7fb2mkkr3kw.cloudfront.net/assets/i...   \n",
       "3  https://d1w7fb2mkkr3kw.cloudfront.net/assets/i...   \n",
       "4  https://d1w7fb2mkkr3kw.cloudfront.net/assets/i...   \n",
       "\n",
       "                       name            author     format  \\\n",
       "0     This is Going to Hurt          Adam Kay  Paperback   \n",
       "1   Thinking, Fast and Slow   Daniel Kahneman  Paperback   \n",
       "2   When Breath Becomes Air    Paul Kalanithi  Paperback   \n",
       "3        The Happiness Trap       Russ Harris  Paperback   \n",
       "4  Man's Search For Meaning  Viktor E. Frankl  Paperback   \n",
       "\n",
       "   book_depository_stars price currency  old_price           isbn category  \\\n",
       "0                    4.5   7.6        $       11.4  9781509858637  Medical   \n",
       "1                    4.0  11.5        $       15.0  9780141033570  Medical   \n",
       "2                    4.5  9.05        $       11.5  9781784701994  Medical   \n",
       "3                    4.0  8.34        $       13.9  9781845298258  Medical   \n",
       "4                    4.5  9.66        $        NaN  9781846041242  Medical   \n",
       "\n",
       "                     img_paths  \n",
       "0  dataset/Medical/0000001.jpg  \n",
       "1  dataset/Medical/0000002.jpg  \n",
       "2  dataset/Medical/0000003.jpg  \n",
       "3  dataset/Medical/0000004.jpg  \n",
       "4  dataset/Medical/0000005.jpg  "
      ]
     },
     "execution_count": 3,
     "metadata": {},
     "output_type": "execute_result"
    }
   ],
   "source": [
    "# read csv file into a pandas dataframe\n",
    "books_df = pd.read_csv('main_dataset.csv')\n",
    "books_df.head()"
   ]
  },
  {
   "cell_type": "code",
   "execution_count": 4,
   "id": "fc4027ef-ab7a-4236-9f53-c796446be87f",
   "metadata": {},
   "outputs": [
    {
     "data": {
      "text/html": [
       "<div>\n",
       "<style scoped>\n",
       "    .dataframe tbody tr th:only-of-type {\n",
       "        vertical-align: middle;\n",
       "    }\n",
       "\n",
       "    .dataframe tbody tr th {\n",
       "        vertical-align: top;\n",
       "    }\n",
       "\n",
       "    .dataframe thead th {\n",
       "        text-align: right;\n",
       "    }\n",
       "</style>\n",
       "<table border=\"1\" class=\"dataframe\">\n",
       "  <thead>\n",
       "    <tr style=\"text-align: right;\">\n",
       "      <th></th>\n",
       "      <th>name</th>\n",
       "      <th>author</th>\n",
       "      <th>book_depository_stars</th>\n",
       "      <th>isbn</th>\n",
       "      <th>category</th>\n",
       "    </tr>\n",
       "  </thead>\n",
       "  <tbody>\n",
       "    <tr>\n",
       "      <th>0</th>\n",
       "      <td>This is Going to Hurt</td>\n",
       "      <td>Adam Kay</td>\n",
       "      <td>4.5</td>\n",
       "      <td>9781509858637</td>\n",
       "      <td>Medical</td>\n",
       "    </tr>\n",
       "    <tr>\n",
       "      <th>1</th>\n",
       "      <td>Thinking, Fast and Slow</td>\n",
       "      <td>Daniel Kahneman</td>\n",
       "      <td>4.0</td>\n",
       "      <td>9780141033570</td>\n",
       "      <td>Medical</td>\n",
       "    </tr>\n",
       "  </tbody>\n",
       "</table>\n",
       "</div>"
      ],
      "text/plain": [
       "                      name           author  book_depository_stars  \\\n",
       "0    This is Going to Hurt         Adam Kay                    4.5   \n",
       "1  Thinking, Fast and Slow  Daniel Kahneman                    4.0   \n",
       "\n",
       "            isbn category  \n",
       "0  9781509858637  Medical  \n",
       "1  9780141033570  Medical  "
      ]
     },
     "execution_count": 4,
     "metadata": {},
     "output_type": "execute_result"
    }
   ],
   "source": [
    "# drop categories that are not needed for library database\n",
    "drop_cols = ['image', 'format', 'price', 'currency', 'old_price', 'img_paths']\n",
    "books_df.drop(columns= drop_cols, inplace= True)\n",
    "books_df.head(2)"
   ]
  },
  {
   "cell_type": "code",
   "execution_count": 5,
   "id": "6047cbb4-ba79-416d-9472-32282f4abc76",
   "metadata": {},
   "outputs": [
    {
     "data": {
      "text/plain": [
       "name                      object\n",
       "author                    object\n",
       "book_depository_stars    float64\n",
       "isbn                       int64\n",
       "category                  object\n",
       "dtype: object"
      ]
     },
     "execution_count": 5,
     "metadata": {},
     "output_type": "execute_result"
    }
   ],
   "source": [
    "# check datatypes\n",
    "books_df.dtypes"
   ]
  },
  {
   "cell_type": "code",
   "execution_count": 7,
   "id": "8ecd9ff5-af29-4e42-a4c9-9a2c63e32d89",
   "metadata": {},
   "outputs": [
    {
     "data": {
      "text/plain": [
       "name                       0\n",
       "author                   198\n",
       "book_depository_stars      0\n",
       "isbn                       0\n",
       "category                   0\n",
       "dtype: int64"
      ]
     },
     "execution_count": 7,
     "metadata": {},
     "output_type": "execute_result"
    }
   ],
   "source": [
    "# check for null values\n",
    "books_df.isna().sum()"
   ]
  },
  {
   "cell_type": "markdown",
   "id": "d61d4488-c5fc-443d-a86f-acb51b98057a",
   "metadata": {},
   "source": [
    "We have found a problem! Nearly 200 books are missing an author. I did not account for this when I originally programmed and set up my database. This could be the cause of some of the read-in errors.\n",
    "\n",
    "Since this project is only for exploratory purposes, I am simply going to drop the rows with the missing author data."
   ]
  },
  {
   "cell_type": "code",
   "execution_count": 8,
   "id": "6c37ba62-1081-4116-a8d7-a535ae556531",
   "metadata": {},
   "outputs": [
    {
     "data": {
      "text/plain": [
       "name                     0\n",
       "author                   0\n",
       "book_depository_stars    0\n",
       "isbn                     0\n",
       "category                 0\n",
       "dtype: int64"
      ]
     },
     "execution_count": 8,
     "metadata": {},
     "output_type": "execute_result"
    }
   ],
   "source": [
    "books_df.dropna(inplace= True)\n",
    "books_df.isna().sum()"
   ]
  },
  {
   "cell_type": "markdown",
   "id": "a1218886-f015-47d4-a778-fc51591fd32d",
   "metadata": {},
   "source": [
    "Visually inspect the distribution of the categories."
   ]
  },
  {
   "cell_type": "code",
   "execution_count": 59,
   "id": "a4871848-5c22-41ed-aeac-2a45ddcb2ec4",
   "metadata": {},
   "outputs": [
    {
     "data": {
      "text/plain": [
       "(array(['Medical', 'Science-Geography', 'Art-Photography', 'Biography',\n",
       "        'Business-Finance-Law', 'Childrens-Books', 'Computing',\n",
       "        'Crafts-Hobbies', 'Crime-Thriller', 'Dictionaries-Languages',\n",
       "        'Entertainment', 'Food-Drink', 'Graphic-Novels-Anime-Manga',\n",
       "        'Health', 'History-Archaeology', 'Home-Garden', 'Humour',\n",
       "        'Mind-Body-Spirit', 'Natural-History', 'Personal-Development',\n",
       "        'Poetry-Drama', 'Reference', 'Religion', 'Romance',\n",
       "        'Science-Fiction-Fantasy-Horror', 'Society-Social-Sciences',\n",
       "        'Sport', 'Stationery', 'Teaching-Resources-Education',\n",
       "        'Technology-Engineering', 'Teen-Young-Adult', 'Transport',\n",
       "        'Travel-Holiday-Guides'], dtype=object),\n",
       " 33)"
      ]
     },
     "execution_count": 59,
     "metadata": {},
     "output_type": "execute_result"
    }
   ],
   "source": [
    "# identify unique categories\n",
    "books_df['category'].unique(), len(books_df['category'].unique())"
   ]
  },
  {
   "cell_type": "code",
   "execution_count": 60,
   "id": "9d8c2413-395d-4361-9993-c8628ae32156",
   "metadata": {},
   "outputs": [],
   "source": [
    "# import additional library for visualization\n",
    "import seaborn as sns"
   ]
  },
  {
   "cell_type": "code",
   "execution_count": 67,
   "id": "6aeb4293-0ccf-42fd-acb6-2f709093a9a5",
   "metadata": {},
   "outputs": [
    {
     "data": {
      "image/png": "[encoded data removed]",
      "text/plain": [
       "<Figure size 600x800 with 1 Axes>"
      ]
     },
     "metadata": {},
     "output_type": "display_data"
    }
   ],
   "source": [
    "# show barchart for proportion of total count each category represents\n",
    "f, ax = plt.subplots(figsize= (6, 8))\n",
    "f = sns.countplot(data= books_df, y= 'category', hue = 'category', stat= 'count')\n",
    "f = sns.despine(top= True)\n",
    "\n",
    "plt.show(f);"
   ]
  },
  {
   "cell_type": "markdown",
   "id": "bf9e84c9-feb5-46ff-ad95-7f771d0408df",
   "metadata": {},
   "source": [
    "All categories are represented equally in the dataset, with 'Stationery' and 'Entertainment' appearing to be the lowest two."
   ]
  },
  {
   "cell_type": "code",
   "execution_count": 82,
   "id": "81b962d3-93e6-458a-9cd3-62b0e5e7e01e",
   "metadata": {},
   "outputs": [
    {
     "data": {
      "text/plain": [
       "category\n",
       "Stationery         926\n",
       "Entertainment      940\n",
       "Art-Photography    962\n",
       "Name: count, dtype: int64"
      ]
     },
     "execution_count": 82,
     "metadata": {},
     "output_type": "execute_result"
    }
   ],
   "source": [
    "# view the lowest three categories\n",
    "genres = books_df['category'].value_counts(sort= True, ascending= True)\n",
    "genres[:3]"
   ]
  },
  {
   "cell_type": "code",
   "execution_count": 83,
   "id": "9a4fbd52-8447-4ea2-a119-8d9c8d4deced",
   "metadata": {},
   "outputs": [
    {
     "data": {
      "text/html": [
       "<div>\n",
       "<style scoped>\n",
       "    .dataframe tbody tr th:only-of-type {\n",
       "        vertical-align: middle;\n",
       "    }\n",
       "\n",
       "    .dataframe tbody tr th {\n",
       "        vertical-align: top;\n",
       "    }\n",
       "\n",
       "    .dataframe thead th {\n",
       "        text-align: right;\n",
       "    }\n",
       "</style>\n",
       "<table border=\"1\" class=\"dataframe\">\n",
       "  <thead>\n",
       "    <tr style=\"text-align: right;\">\n",
       "      <th></th>\n",
       "      <th>name</th>\n",
       "      <th>author</th>\n",
       "      <th>book_depository_stars</th>\n",
       "      <th>isbn</th>\n",
       "      <th>category</th>\n",
       "    </tr>\n",
       "  </thead>\n",
       "  <tbody>\n",
       "    <tr>\n",
       "      <th>3864</th>\n",
       "      <td>Wild</td>\n",
       "      <td>Cheryl Strayed</td>\n",
       "      <td>4.0</td>\n",
       "      <td>9780857897763</td>\n",
       "      <td>Biography</td>\n",
       "    </tr>\n",
       "    <tr>\n",
       "      <th>16140</th>\n",
       "      <td>Guardians of Being</td>\n",
       "      <td>Eckhart Tolle</td>\n",
       "      <td>4.5</td>\n",
       "      <td>9781608681198</td>\n",
       "      <td>Humour</td>\n",
       "    </tr>\n",
       "    <tr>\n",
       "      <th>21158</th>\n",
       "      <td>Edgar Cayce Encyclopedia of Healing</td>\n",
       "      <td>Reba Ann Karp</td>\n",
       "      <td>4.0</td>\n",
       "      <td>9780446608411</td>\n",
       "      <td>Reference</td>\n",
       "    </tr>\n",
       "    <tr>\n",
       "      <th>13326</th>\n",
       "      <td>Parenting from the Inside Out</td>\n",
       "      <td>Daniel J. Siegel</td>\n",
       "      <td>4.0</td>\n",
       "      <td>9781922247445</td>\n",
       "      <td>Health</td>\n",
       "    </tr>\n",
       "    <tr>\n",
       "      <th>3464</th>\n",
       "      <td>Empress Dowager Cixi</td>\n",
       "      <td>Jung Chang</td>\n",
       "      <td>4.0</td>\n",
       "      <td>9780099532392</td>\n",
       "      <td>Biography</td>\n",
       "    </tr>\n",
       "    <tr>\n",
       "      <th>19241</th>\n",
       "      <td>E-Squared</td>\n",
       "      <td>Pam Grout</td>\n",
       "      <td>4.0</td>\n",
       "      <td>9781401938901</td>\n",
       "      <td>Personal-Development</td>\n",
       "    </tr>\n",
       "    <tr>\n",
       "      <th>30570</th>\n",
       "      <td>Scythe</td>\n",
       "      <td>Neal Shusterman</td>\n",
       "      <td>4.5</td>\n",
       "      <td>9781442472426</td>\n",
       "      <td>Teen-Young-Adult</td>\n",
       "    </tr>\n",
       "    <tr>\n",
       "      <th>28606</th>\n",
       "      <td>Words Their Way: Word Study for Phonics, Vocab...</td>\n",
       "      <td>Donald R. Bear</td>\n",
       "      <td>4.0</td>\n",
       "      <td>9781292107530</td>\n",
       "      <td>Teaching-Resources-Education</td>\n",
       "    </tr>\n",
       "    <tr>\n",
       "      <th>15750</th>\n",
       "      <td>Growing Media for Ornamental Plants and Turf</td>\n",
       "      <td>Kevin Handreck</td>\n",
       "      <td>4.5</td>\n",
       "      <td>9781742230825</td>\n",
       "      <td>Home-Garden</td>\n",
       "    </tr>\n",
       "    <tr>\n",
       "      <th>13100</th>\n",
       "      <td>Paleo Diet Cookbook</td>\n",
       "      <td>Loren Cordain</td>\n",
       "      <td>3.5</td>\n",
       "      <td>9780470913048</td>\n",
       "      <td>Health</td>\n",
       "    </tr>\n",
       "  </tbody>\n",
       "</table>\n",
       "</div>"
      ],
      "text/plain": [
       "                                                    name            author  \\\n",
       "3864                                                Wild    Cheryl Strayed   \n",
       "16140                                 Guardians of Being     Eckhart Tolle   \n",
       "21158                Edgar Cayce Encyclopedia of Healing     Reba Ann Karp   \n",
       "13326                      Parenting from the Inside Out  Daniel J. Siegel   \n",
       "3464                                Empress Dowager Cixi        Jung Chang   \n",
       "19241                                          E-Squared         Pam Grout   \n",
       "30570                                             Scythe   Neal Shusterman   \n",
       "28606  Words Their Way: Word Study for Phonics, Vocab...    Donald R. Bear   \n",
       "15750       Growing Media for Ornamental Plants and Turf    Kevin Handreck   \n",
       "13100                                Paleo Diet Cookbook     Loren Cordain   \n",
       "\n",
       "       book_depository_stars           isbn                      category  \n",
       "3864                     4.0  9780857897763                     Biography  \n",
       "16140                    4.5  9781608681198                        Humour  \n",
       "21158                    4.0  9780446608411                     Reference  \n",
       "13326                    4.0  9781922247445                        Health  \n",
       "3464                     4.0  9780099532392                     Biography  \n",
       "19241                    4.0  9781401938901          Personal-Development  \n",
       "30570                    4.5  9781442472426              Teen-Young-Adult  \n",
       "28606                    4.0  9781292107530  Teaching-Resources-Education  \n",
       "15750                    4.5  9781742230825                   Home-Garden  \n",
       "13100                    3.5  9780470913048                        Health  "
      ]
     },
     "execution_count": 83,
     "metadata": {},
     "output_type": "execute_result"
    }
   ],
   "source": [
    "books_df.sample(10)"
   ]
  },
  {
   "cell_type": "markdown",
   "id": "c1627345-9c9f-422e-8367-8a29cec30fd2",
   "metadata": {},
   "source": [
    "This is all the EDA I am going to do for now. Next will be to save the newly cleaned data and then load that into the database, and then evaluate the database from there."
   ]
  },
  {
   "cell_type": "code",
   "execution_count": 85,
   "id": "c864d150-99df-4bd5-bb56-b0f78ceff407",
   "metadata": {},
   "outputs": [],
   "source": [
    "books_df.to_csv('main_dataset_revised_v2.csv')"
   ]
  },
  {
   "cell_type": "code",
   "execution_count": 86,
   "id": "4f07c12a-5663-4526-9323-b9813cc150e9",
   "metadata": {},
   "outputs": [],
   "source": [
    "plt.close('all')"
   ]
  },
  {
   "cell_type": "code",
   "execution_count": null,
   "id": "417b5dae-926a-45d4-b61f-b45b46e11051",
   "metadata": {},
   "outputs": [],
   "source": []
  }
 ],
 "metadata": {
  "kernelspec": {
   "display_name": "Python 3 (ipykernel)",
   "language": "python",
   "name": "python3"
  },
  "language_info": {
   "codemirror_mode": {
    "name": "ipython",
    "version": 3
   },
   "file_extension": ".py",
   "mimetype": "text/x-python",
   "name": "python",
   "nbconvert_exporter": "python",
   "pygments_lexer": "ipython3",
   "version": "3.10.11"
  }
 },
 "nbformat": 4,
 "nbformat_minor": 5
}
