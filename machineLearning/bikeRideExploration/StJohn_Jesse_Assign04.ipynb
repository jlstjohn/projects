{
 "cells": [
  {
   "cell_type": "markdown",
   "id": "7c9f9287-df02-4130-8eab-862c586bf012",
   "metadata": {},
   "source": [
    "# Bike Ride Share Data"
   ]
  },
  {
   "cell_type": "code",
   "execution_count": 1,
   "id": "615261e9-764d-4c6a-be37-2e41d7260bc1",
   "metadata": {},
   "outputs": [],
   "source": [
    "# import libriaries\n",
    "import numpy as np\n",
    "import pandas as pd\n",
    "import matplotlib.pyplot as plt\n",
    "import seaborn as sns\n",
    "\n",
    "from sklearn.preprocessing import StandardScaler\n",
    "from sklearn.metrics import mean_squared_error\n",
    "from sklearn.model_selection import train_test_split, cross_val_score, GridSearchCV, RandomizedSearchCV\n",
    "from sklearn.linear_model import LinearRegression, SGDRegressor, Lasso, ElasticNet, Ridge\n",
    "from sklearn.tree import DecisionTreeRegressor\n",
    "from sklearn.ensemble import RandomForestRegressor, BaggingRegressor"
   ]
  },
  {
   "cell_type": "markdown",
   "id": "6d12b36c-3807-4704-8625-465c14d4d98e",
   "metadata": {},
   "source": [
    "## Part 1: Data Exploration"
   ]
  },
  {
   "cell_type": "code",
   "execution_count": 2,
   "id": "2601c073-d3eb-421b-b20c-8dd9ae626e4e",
   "metadata": {},
   "outputs": [
    {
     "data": {
      "text/html": [
       "<div>\n",
       "<style scoped>\n",
       "    .dataframe tbody tr th:only-of-type {\n",
       "        vertical-align: middle;\n",
       "    }\n",
       "\n",
       "    .dataframe tbody tr th {\n",
       "        vertical-align: top;\n",
       "    }\n",
       "\n",
       "    .dataframe thead th {\n",
       "        text-align: right;\n",
       "    }\n",
       "</style>\n",
       "<table border=\"1\" class=\"dataframe\">\n",
       "  <thead>\n",
       "    <tr style=\"text-align: right;\">\n",
       "      <th></th>\n",
       "      <th>instant</th>\n",
       "      <th>dteday</th>\n",
       "      <th>season</th>\n",
       "      <th>yr</th>\n",
       "      <th>mnth</th>\n",
       "      <th>hr</th>\n",
       "      <th>holiday</th>\n",
       "      <th>weekday</th>\n",
       "      <th>workingday</th>\n",
       "      <th>weathersit</th>\n",
       "      <th>temp</th>\n",
       "      <th>atemp</th>\n",
       "      <th>hum</th>\n",
       "      <th>windspeed</th>\n",
       "      <th>casual</th>\n",
       "      <th>registered</th>\n",
       "      <th>cnt</th>\n",
       "    </tr>\n",
       "  </thead>\n",
       "  <tbody>\n",
       "    <tr>\n",
       "      <th>0</th>\n",
       "      <td>1</td>\n",
       "      <td>2011-01-01</td>\n",
       "      <td>1</td>\n",
       "      <td>0</td>\n",
       "      <td>1</td>\n",
       "      <td>0</td>\n",
       "      <td>0</td>\n",
       "      <td>6</td>\n",
       "      <td>0</td>\n",
       "      <td>1</td>\n",
       "      <td>0.24</td>\n",
       "      <td>0.2879</td>\n",
       "      <td>0.81</td>\n",
       "      <td>0.0</td>\n",
       "      <td>3</td>\n",
       "      <td>13</td>\n",
       "      <td>16</td>\n",
       "    </tr>\n",
       "    <tr>\n",
       "      <th>1</th>\n",
       "      <td>2</td>\n",
       "      <td>2011-01-01</td>\n",
       "      <td>1</td>\n",
       "      <td>0</td>\n",
       "      <td>1</td>\n",
       "      <td>1</td>\n",
       "      <td>0</td>\n",
       "      <td>6</td>\n",
       "      <td>0</td>\n",
       "      <td>1</td>\n",
       "      <td>0.22</td>\n",
       "      <td>0.2727</td>\n",
       "      <td>0.80</td>\n",
       "      <td>0.0</td>\n",
       "      <td>8</td>\n",
       "      <td>32</td>\n",
       "      <td>40</td>\n",
       "    </tr>\n",
       "    <tr>\n",
       "      <th>2</th>\n",
       "      <td>3</td>\n",
       "      <td>2011-01-01</td>\n",
       "      <td>1</td>\n",
       "      <td>0</td>\n",
       "      <td>1</td>\n",
       "      <td>2</td>\n",
       "      <td>0</td>\n",
       "      <td>6</td>\n",
       "      <td>0</td>\n",
       "      <td>1</td>\n",
       "      <td>0.22</td>\n",
       "      <td>0.2727</td>\n",
       "      <td>0.80</td>\n",
       "      <td>0.0</td>\n",
       "      <td>5</td>\n",
       "      <td>27</td>\n",
       "      <td>32</td>\n",
       "    </tr>\n",
       "    <tr>\n",
       "      <th>3</th>\n",
       "      <td>4</td>\n",
       "      <td>2011-01-01</td>\n",
       "      <td>1</td>\n",
       "      <td>0</td>\n",
       "      <td>1</td>\n",
       "      <td>3</td>\n",
       "      <td>0</td>\n",
       "      <td>6</td>\n",
       "      <td>0</td>\n",
       "      <td>1</td>\n",
       "      <td>0.24</td>\n",
       "      <td>0.2879</td>\n",
       "      <td>0.75</td>\n",
       "      <td>0.0</td>\n",
       "      <td>3</td>\n",
       "      <td>10</td>\n",
       "      <td>13</td>\n",
       "    </tr>\n",
       "    <tr>\n",
       "      <th>4</th>\n",
       "      <td>5</td>\n",
       "      <td>2011-01-01</td>\n",
       "      <td>1</td>\n",
       "      <td>0</td>\n",
       "      <td>1</td>\n",
       "      <td>4</td>\n",
       "      <td>0</td>\n",
       "      <td>6</td>\n",
       "      <td>0</td>\n",
       "      <td>1</td>\n",
       "      <td>0.24</td>\n",
       "      <td>0.2879</td>\n",
       "      <td>0.75</td>\n",
       "      <td>0.0</td>\n",
       "      <td>0</td>\n",
       "      <td>1</td>\n",
       "      <td>1</td>\n",
       "    </tr>\n",
       "  </tbody>\n",
       "</table>\n",
       "</div>"
      ],
      "text/plain": [
       "   instant      dteday  season  yr  mnth  hr  holiday  weekday  workingday  \\\n",
       "0        1  2011-01-01       1   0     1   0        0        6           0   \n",
       "1        2  2011-01-01       1   0     1   1        0        6           0   \n",
       "2        3  2011-01-01       1   0     1   2        0        6           0   \n",
       "3        4  2011-01-01       1   0     1   3        0        6           0   \n",
       "4        5  2011-01-01       1   0     1   4        0        6           0   \n",
       "\n",
       "   weathersit  temp   atemp   hum  windspeed  casual  registered  cnt  \n",
       "0           1  0.24  0.2879  0.81        0.0       3          13   16  \n",
       "1           1  0.22  0.2727  0.80        0.0       8          32   40  \n",
       "2           1  0.22  0.2727  0.80        0.0       5          27   32  \n",
       "3           1  0.24  0.2879  0.75        0.0       3          10   13  \n",
       "4           1  0.24  0.2879  0.75        0.0       0           1    1  "
      ]
     },
     "execution_count": 2,
     "metadata": {},
     "output_type": "execute_result"
    }
   ],
   "source": [
    "# read in bike_share_hour.csv as a pandas dataframe.\n",
    "# The columns are described in the bike_share_readme.txt if you need more information about them. \n",
    "# https://github.com/arjayit/cs4432_data/blob/master/bike_share_Readme.txt\n",
    "url = 'https://raw.githubusercontent.com/arjayit/cs4432_data/master/bike_share_hour.csv'\n",
    "bikes = pd.read_csv(url)\n",
    "bikes.head()"
   ]
  },
  {
   "cell_type": "code",
   "execution_count": 3,
   "id": "d2ff64bc-0110-4e66-bc2c-dee279fed832",
   "metadata": {},
   "outputs": [],
   "source": [
    "# Look at the dataset and convert the columns that are categorical to a pandas \"category\" type.\n",
    "categories = ['season', 'yr', 'holiday', 'weekday', 'workingday', 'weathersit']\n",
    "for category in categories:\n",
    "    bikes[category] = bikes[category].astype('category')"
   ]
  },
  {
   "cell_type": "code",
   "execution_count": 4,
   "id": "b638b9b8-6513-40ef-b26d-630618bb7c6f",
   "metadata": {},
   "outputs": [
    {
     "name": "stdout",
     "output_type": "stream",
     "text": [
      "<class 'pandas.core.frame.DataFrame'>\n",
      "RangeIndex: 17379 entries, 0 to 17378\n",
      "Data columns (total 17 columns):\n",
      " #   Column      Non-Null Count  Dtype   \n",
      "---  ------      --------------  -----   \n",
      " 0   instant     17379 non-null  int64   \n",
      " 1   dteday      17379 non-null  object  \n",
      " 2   season      17379 non-null  category\n",
      " 3   yr          17379 non-null  category\n",
      " 4   mnth        17379 non-null  int64   \n",
      " 5   hr          17379 non-null  int64   \n",
      " 6   holiday     17379 non-null  category\n",
      " 7   weekday     17379 non-null  category\n",
      " 8   workingday  17379 non-null  category\n",
      " 9   weathersit  17379 non-null  category\n",
      " 10  temp        17379 non-null  float64 \n",
      " 11  atemp       17379 non-null  float64 \n",
      " 12  hum         17379 non-null  float64 \n",
      " 13  windspeed   17379 non-null  float64 \n",
      " 14  casual      17379 non-null  int64   \n",
      " 15  registered  17379 non-null  int64   \n",
      " 16  cnt         17379 non-null  int64   \n",
      "dtypes: category(6), float64(4), int64(6), object(1)\n",
      "memory usage: 1.6+ MB\n"
     ]
    }
   ],
   "source": [
    "# Look for non-null values in the dataset\n",
    "bikes.info()"
   ]
  },
  {
   "cell_type": "code",
   "execution_count": 5,
   "id": "81261f05-d9dd-4343-a25b-1f6f63e30df2",
   "metadata": {},
   "outputs": [
    {
     "data": {
      "image/png": "[encoded data removed]",
      "text/plain": [
       "<Figure size 640x480 with 2 Axes>"
      ]
     },
     "metadata": {},
     "output_type": "display_data"
    }
   ],
   "source": [
    "sns.heatmap(bikes.isnull(), cmap= 'viridis')\n",
    "plt.show()"
   ]
  },
  {
   "cell_type": "markdown",
   "id": "efbb44dd-b82e-49cf-b89b-5c40ab81bb70",
   "metadata": {},
   "source": [
    "As can be seen in our numerical and visual heatmap inspection of the data, there are no null values."
   ]
  },
  {
   "cell_type": "code",
   "execution_count": 6,
   "id": "bbe0746d-ef72-49d1-8e48-08857b1e8dd0",
   "metadata": {},
   "outputs": [
    {
     "data": {
      "text/plain": [
       "mnth\n",
       "5     1488\n",
       "7     1488\n",
       "12    1483\n",
       "8     1475\n",
       "3     1473\n",
       "10    1451\n",
       "6     1440\n",
       "4     1437\n",
       "9     1437\n",
       "11    1437\n",
       "1     1429\n",
       "2     1341\n",
       "Name: count, dtype: int64"
      ]
     },
     "execution_count": 6,
     "metadata": {},
     "output_type": "execute_result"
    }
   ],
   "source": [
    "bikes.mnth.value_counts()"
   ]
  },
  {
   "cell_type": "code",
   "execution_count": 7,
   "id": "f2a33b56-e7d1-4291-a25b-81ba4e6046ee",
   "metadata": {},
   "outputs": [
    {
     "data": {
      "text/html": [
       "<div>\n",
       "<style scoped>\n",
       "    .dataframe tbody tr th:only-of-type {\n",
       "        vertical-align: middle;\n",
       "    }\n",
       "\n",
       "    .dataframe tbody tr th {\n",
       "        vertical-align: top;\n",
       "    }\n",
       "\n",
       "    .dataframe thead th {\n",
       "        text-align: right;\n",
       "    }\n",
       "</style>\n",
       "<table border=\"1\" class=\"dataframe\">\n",
       "  <thead>\n",
       "    <tr style=\"text-align: right;\">\n",
       "      <th></th>\n",
       "      <th>instant</th>\n",
       "      <th>mnth</th>\n",
       "      <th>hr</th>\n",
       "      <th>temp</th>\n",
       "      <th>atemp</th>\n",
       "      <th>hum</th>\n",
       "      <th>windspeed</th>\n",
       "      <th>casual</th>\n",
       "      <th>registered</th>\n",
       "      <th>cnt</th>\n",
       "    </tr>\n",
       "  </thead>\n",
       "  <tbody>\n",
       "    <tr>\n",
       "      <th>count</th>\n",
       "      <td>17379.0000</td>\n",
       "      <td>17379.000000</td>\n",
       "      <td>17379.000000</td>\n",
       "      <td>17379.000000</td>\n",
       "      <td>17379.000000</td>\n",
       "      <td>17379.000000</td>\n",
       "      <td>17379.000000</td>\n",
       "      <td>17379.000000</td>\n",
       "      <td>17379.000000</td>\n",
       "      <td>17379.000000</td>\n",
       "    </tr>\n",
       "    <tr>\n",
       "      <th>mean</th>\n",
       "      <td>8690.0000</td>\n",
       "      <td>6.537775</td>\n",
       "      <td>11.546752</td>\n",
       "      <td>0.496987</td>\n",
       "      <td>0.475775</td>\n",
       "      <td>0.627229</td>\n",
       "      <td>0.190098</td>\n",
       "      <td>35.676218</td>\n",
       "      <td>153.786869</td>\n",
       "      <td>189.463088</td>\n",
       "    </tr>\n",
       "    <tr>\n",
       "      <th>std</th>\n",
       "      <td>5017.0295</td>\n",
       "      <td>3.438776</td>\n",
       "      <td>6.914405</td>\n",
       "      <td>0.192556</td>\n",
       "      <td>0.171850</td>\n",
       "      <td>0.192930</td>\n",
       "      <td>0.122340</td>\n",
       "      <td>49.305030</td>\n",
       "      <td>151.357286</td>\n",
       "      <td>181.387599</td>\n",
       "    </tr>\n",
       "    <tr>\n",
       "      <th>min</th>\n",
       "      <td>1.0000</td>\n",
       "      <td>1.000000</td>\n",
       "      <td>0.000000</td>\n",
       "      <td>0.020000</td>\n",
       "      <td>0.000000</td>\n",
       "      <td>0.000000</td>\n",
       "      <td>0.000000</td>\n",
       "      <td>0.000000</td>\n",
       "      <td>0.000000</td>\n",
       "      <td>1.000000</td>\n",
       "    </tr>\n",
       "    <tr>\n",
       "      <th>25%</th>\n",
       "      <td>4345.5000</td>\n",
       "      <td>4.000000</td>\n",
       "      <td>6.000000</td>\n",
       "      <td>0.340000</td>\n",
       "      <td>0.333300</td>\n",
       "      <td>0.480000</td>\n",
       "      <td>0.104500</td>\n",
       "      <td>4.000000</td>\n",
       "      <td>34.000000</td>\n",
       "      <td>40.000000</td>\n",
       "    </tr>\n",
       "    <tr>\n",
       "      <th>50%</th>\n",
       "      <td>8690.0000</td>\n",
       "      <td>7.000000</td>\n",
       "      <td>12.000000</td>\n",
       "      <td>0.500000</td>\n",
       "      <td>0.484800</td>\n",
       "      <td>0.630000</td>\n",
       "      <td>0.194000</td>\n",
       "      <td>17.000000</td>\n",
       "      <td>115.000000</td>\n",
       "      <td>142.000000</td>\n",
       "    </tr>\n",
       "    <tr>\n",
       "      <th>75%</th>\n",
       "      <td>13034.5000</td>\n",
       "      <td>10.000000</td>\n",
       "      <td>18.000000</td>\n",
       "      <td>0.660000</td>\n",
       "      <td>0.621200</td>\n",
       "      <td>0.780000</td>\n",
       "      <td>0.253700</td>\n",
       "      <td>48.000000</td>\n",
       "      <td>220.000000</td>\n",
       "      <td>281.000000</td>\n",
       "    </tr>\n",
       "    <tr>\n",
       "      <th>max</th>\n",
       "      <td>17379.0000</td>\n",
       "      <td>12.000000</td>\n",
       "      <td>23.000000</td>\n",
       "      <td>1.000000</td>\n",
       "      <td>1.000000</td>\n",
       "      <td>1.000000</td>\n",
       "      <td>0.850700</td>\n",
       "      <td>367.000000</td>\n",
       "      <td>886.000000</td>\n",
       "      <td>977.000000</td>\n",
       "    </tr>\n",
       "  </tbody>\n",
       "</table>\n",
       "</div>"
      ],
      "text/plain": [
       "          instant          mnth            hr          temp         atemp  \\\n",
       "count  17379.0000  17379.000000  17379.000000  17379.000000  17379.000000   \n",
       "mean    8690.0000      6.537775     11.546752      0.496987      0.475775   \n",
       "std     5017.0295      3.438776      6.914405      0.192556      0.171850   \n",
       "min        1.0000      1.000000      0.000000      0.020000      0.000000   \n",
       "25%     4345.5000      4.000000      6.000000      0.340000      0.333300   \n",
       "50%     8690.0000      7.000000     12.000000      0.500000      0.484800   \n",
       "75%    13034.5000     10.000000     18.000000      0.660000      0.621200   \n",
       "max    17379.0000     12.000000     23.000000      1.000000      1.000000   \n",
       "\n",
       "                hum     windspeed        casual    registered           cnt  \n",
       "count  17379.000000  17379.000000  17379.000000  17379.000000  17379.000000  \n",
       "mean       0.627229      0.190098     35.676218    153.786869    189.463088  \n",
       "std        0.192930      0.122340     49.305030    151.357286    181.387599  \n",
       "min        0.000000      0.000000      0.000000      0.000000      1.000000  \n",
       "25%        0.480000      0.104500      4.000000     34.000000     40.000000  \n",
       "50%        0.630000      0.194000     17.000000    115.000000    142.000000  \n",
       "75%        0.780000      0.253700     48.000000    220.000000    281.000000  \n",
       "max        1.000000      0.850700    367.000000    886.000000    977.000000  "
      ]
     },
     "execution_count": 7,
     "metadata": {},
     "output_type": "execute_result"
    }
   ],
   "source": [
    "# Do a descriptive analysis of the numeric columns\n",
    "bikes.describe()"
   ]
  },
  {
   "cell_type": "code",
   "execution_count": 8,
   "id": "41c1adb8-0f08-4eb9-a1b2-d932ea553c4f",
   "metadata": {},
   "outputs": [
    {
     "data": {
      "text/plain": [
       "season\n",
       "1      [1, 2, 3, 12]\n",
       "2       [3, 4, 5, 6]\n",
       "3       [6, 7, 8, 9]\n",
       "4    [9, 10, 11, 12]\n",
       "Name: mnth, dtype: object"
      ]
     },
     "execution_count": 8,
     "metadata": {},
     "output_type": "execute_result"
    }
   ],
   "source": [
    "# Implement code to figure out which months belong to which seasons.\n",
    "bikes.groupby('season')['mnth'].unique()"
   ]
  },
  {
   "cell_type": "markdown",
   "id": "94f5a4bf-5623-4cd5-9d97-18fd3e76f04f",
   "metadata": {},
   "source": [
    "You should see that season definitions in the README file are not correct. According to the README file, the seasons are as follows:\n",
    "- 1: Spring\n",
    "- 2: Summer\n",
    "- 3: Fall\n",
    "- 4: Winter\n",
    "\n",
    "However, based on what we observe above, the actual seasonal break down should be as follows:\n",
    "- 1: Winter\n",
    "- 2: Spring\n",
    "- 3: Summer\n",
    "- 4: Fall"
   ]
  },
  {
   "cell_type": "code",
   "execution_count": 9,
   "id": "745a2280-ba20-4d85-baf6-18f27d95478f",
   "metadata": {},
   "outputs": [
    {
     "data": {
      "image/png": "[encoded data removed]",
      "text/plain": [
       "<Figure size 800x600 with 1 Axes>"
      ]
     },
     "metadata": {},
     "output_type": "display_data"
    }
   ],
   "source": [
    "# Implement a bar plot of cnt vs season. Document which season has the most bike rides and which season has the least.\n",
    "plt.figure(figsize= (8, 6), num= 1)\n",
    "labels = ['winter', 'spring', 'summer', 'fall']\n",
    "sns.barplot(data= bikes, x= 'season', y= 'cnt', hue= 'season', errorbar= None)\n",
    "plt.xticks([0, 1, 2, 3], labels)\n",
    "plt.title('Bikes per Season')\n",
    "plt.xlabel('Season')\n",
    "plt.ylabel('Bikes (avg count)')\n",
    "\n",
    "plt.show()"
   ]
  },
  {
   "cell_type": "markdown",
   "id": "3472ba61-24cf-420a-b276-cdcf048e8fc4",
   "metadata": {},
   "source": [
    "Summer has the most bikes rides, while winter has the least amount of bike rides."
   ]
  },
  {
   "cell_type": "code",
   "execution_count": 10,
   "id": "96af0316-1c3b-4075-83aa-3cb8ee2183dd",
   "metadata": {},
   "outputs": [
    {
     "data": {
      "image/png": "[encoded data removed]",
      "text/plain": [
       "<Figure size 800x600 with 1 Axes>"
      ]
     },
     "metadata": {},
     "output_type": "display_data"
    }
   ],
   "source": [
    "# Implement a bar chart for working day vs count. Document how bike rides are distributed across these two classes.\n",
    "plt.figure(figsize= (8, 6), num= 2)\n",
    "\n",
    "labels= ['non-workingday', 'workingday']\n",
    "ax= sns.barplot(data= bikes, x= 'workingday', y= 'cnt', hue= 'yr', errorbar= None)\n",
    "plt.xticks([0, 1], labels)\n",
    "plt.title('Bikes on Workdays vs Non-Workdays')\n",
    "plt.xlabel('Workingday')\n",
    "plt.ylabel('Bikes (avg count)')\n",
    "\n",
    "for i in ax.containers:\n",
    "    ax.bar_label(i,)\n",
    "\n",
    "\n",
    "plt.show()"
   ]
  },
  {
   "cell_type": "markdown",
   "id": "42318727-c092-4354-9ae3-b3304f341667",
   "metadata": {},
   "source": [
    "The number of people renting bikes went up from 2011 (year 0) to 2012 (year 1), more so on workingdays than on non-workingdays. Non-workingday rentals and workingday rentals between the two years are actually fairly close in value (141.5 vs 144.9)."
   ]
  },
  {
   "cell_type": "code",
   "execution_count": 11,
   "id": "5bd9bc7b-15f5-4939-9b46-564c78977945",
   "metadata": {},
   "outputs": [
    {
     "data": {
      "image/png": "[encoded data removed]",
      "text/plain": [
       "<Figure size 1000x800 with 1 Axes>"
      ]
     },
     "metadata": {},
     "output_type": "display_data"
    }
   ],
   "source": [
    "# Implement a bar chart for month vs count. Document which months have the most bike rides.\n",
    "plt.figure(figsize= (10, 8), num= 3)\n",
    "\n",
    "ax = sns.barplot(data= bikes, x= 'mnth', y= 'cnt', errorbar= None)\n",
    "plt.title('Bikes per Month')\n",
    "plt.xlabel('Month')\n",
    "plt.ylabel('Bikes (avg count)')\n",
    "\n",
    "for i in ax.containers:\n",
    "    ax.bar_label(i,)\n",
    "\n",
    "plt.show()"
   ]
  },
  {
   "cell_type": "code",
   "execution_count": 12,
   "id": "594d354a-0fa0-4699-86a6-415763e1ba7a",
   "metadata": {},
   "outputs": [
    {
     "data": {
      "text/html": [
       "<div>\n",
       "<style scoped>\n",
       "    .dataframe tbody tr th:only-of-type {\n",
       "        vertical-align: middle;\n",
       "    }\n",
       "\n",
       "    .dataframe tbody tr th {\n",
       "        vertical-align: top;\n",
       "    }\n",
       "\n",
       "    .dataframe thead th {\n",
       "        text-align: right;\n",
       "    }\n",
       "</style>\n",
       "<table border=\"1\" class=\"dataframe\">\n",
       "  <thead>\n",
       "    <tr style=\"text-align: right;\">\n",
       "      <th></th>\n",
       "      <th>mnth</th>\n",
       "      <th>cnt</th>\n",
       "    </tr>\n",
       "  </thead>\n",
       "  <tbody>\n",
       "    <tr>\n",
       "      <th>8</th>\n",
       "      <td>9</td>\n",
       "      <td>240.773138</td>\n",
       "    </tr>\n",
       "    <tr>\n",
       "      <th>5</th>\n",
       "      <td>6</td>\n",
       "      <td>240.515278</td>\n",
       "    </tr>\n",
       "    <tr>\n",
       "      <th>7</th>\n",
       "      <td>8</td>\n",
       "      <td>238.097627</td>\n",
       "    </tr>\n",
       "    <tr>\n",
       "      <th>6</th>\n",
       "      <td>7</td>\n",
       "      <td>231.819892</td>\n",
       "    </tr>\n",
       "  </tbody>\n",
       "</table>\n",
       "</div>"
      ],
      "text/plain": [
       "   mnth         cnt\n",
       "8     9  240.773138\n",
       "5     6  240.515278\n",
       "7     8  238.097627\n",
       "6     7  231.819892"
      ]
     },
     "execution_count": 12,
     "metadata": {},
     "output_type": "execute_result"
    }
   ],
   "source": [
    "bike_cnt = bikes.groupby('mnth')['cnt'].mean().reset_index()\n",
    "bike_cnt.query('cnt > 230').sort_values(by= 'cnt', ascending= False)"
   ]
  },
  {
   "cell_type": "markdown",
   "id": "1a651749-b71f-4959-978e-53e7bfe24aaa",
   "metadata": {},
   "source": [
    "The following months have the most bike rides:\n",
    "- September\n",
    "- June\n",
    "- August"
   ]
  },
  {
   "cell_type": "code",
   "execution_count": 13,
   "id": "83ee3bbe-3358-4ff3-a967-b2541a58bfc0",
   "metadata": {},
   "outputs": [
    {
     "data": {
      "image/png": "[encoded data removed]",
      "text/plain": [
       "<Figure size 800x600 with 1 Axes>"
      ]
     },
     "metadata": {},
     "output_type": "display_data"
    }
   ],
   "source": [
    "# Implement a bar plot of weathersit vs cnt. Document which weather situation has less bike rentals.\n",
    "plt.figure(figsize= (8, 6), num= 4)\n",
    "\n",
    "labels= ['clear/mostly clear', 'misty/overcast', 'light rain/snow', 'heavy rain/snow/fog']\n",
    "g = sns.barplot(data= bikes, x= 'weathersit', y= 'cnt', hue= 'weathersit', errorbar= None)\n",
    "\n",
    "plt.xticks([0, 1, 2, 3], labels)\n",
    "plt.title('Bikes in Various Weather Conditions')\n",
    "plt.xlabel('Weather Conditions')\n",
    "plt.ylabel('Bikes (avg count)')\n",
    "for t, l in zip(g.legend_.texts, labels):\n",
    "    t.set_text(l)\n",
    "\n",
    "plt.show()"
   ]
  },
  {
   "cell_type": "markdown",
   "id": "a5d4332e-f915-4c01-ba88-cc8663662268",
   "metadata": {},
   "source": [
    "Weather with heavy rain + ice pellets, thunderstorms, mist, snow and fog, (i.e. inclement bad weather) has less bike rentals compared to other weather conditions."
   ]
  },
  {
   "cell_type": "code",
   "execution_count": 14,
   "id": "a32fc62a-6802-4f85-98bc-feffe174c83f",
   "metadata": {},
   "outputs": [
    {
     "data": {
      "image/png": "[encoded data removed]",
      "text/plain": [
       "<Figure size 800x600 with 1 Axes>"
      ]
     },
     "metadata": {},
     "output_type": "display_data"
    }
   ],
   "source": [
    "# Implement a point plot of weathersit on the x-axis, count on the y-axis, and the season as the hue.\n",
    "# Document how season and weathersit are related.\n",
    "plt.figure(figsize= (8, 6), num= 5)\n",
    "\n",
    "xlabels= ['clear/mostly clear', 'misty/overcast', 'light rain/snow', 'heavy rain/snow/fog']\n",
    "legend_labels = ['winter', 'spring', 'summer', 'fall']\n",
    "\n",
    "g = sns.pointplot(data= bikes, x= 'weathersit', y= 'cnt', hue= 'season', errorbar= None)\n",
    "\n",
    "plt.title('Bike Rental Weather Conditions per Season')\n",
    "plt.xticks([0, 1, 2, 3], labels)\n",
    "plt.xlabel('Weather Conditions')\n",
    "plt.ylabel('Bikes (avg count)')\n",
    "for t, l in zip(g.legend_.texts, legend_labels):\n",
    "    t.set_text(l)\n",
    "\n",
    "plt.show()"
   ]
  },
  {
   "cell_type": "markdown",
   "id": "31be8c84-076a-49ef-b7a9-b209f96004f8",
   "metadata": {},
   "source": [
    "Days with better weather (i.e., days that were clear/mostly clear) had higher bike rentals than days with increasingly worse weather.\n",
    "Seasons with a higher content of \"bad weather\" days (i.e., winter and heavy/rain/snow/fog days) have a lower overall count of bike rentals."
   ]
  },
  {
   "cell_type": "code",
   "execution_count": 15,
   "id": "9206b699-99f7-4a7c-9b00-816815af54a3",
   "metadata": {},
   "outputs": [
    {
     "data": {
      "image/png": "[encoded data removed]",
      "text/plain": [
       "<Figure size 800x600 with 1 Axes>"
      ]
     },
     "metadata": {},
     "output_type": "display_data"
    }
   ],
   "source": [
    "# Implement a bar plot of hour vs count. Are there any specific hours that are busier than others?\n",
    "plt.figure(figsize= (8, 6), num= 6)\n",
    "\n",
    "sns.barplot(data= bikes, x= 'hr', y= 'cnt', errorbar= None)\n",
    "\n",
    "plt.title('Bike Rental per Hour')\n",
    "plt.xlabel('Hour of Day') \n",
    "plt.ylabel('Bikes (avg count)')\n",
    "\n",
    "plt.show()"
   ]
  },
  {
   "cell_type": "markdown",
   "id": "22eb05d2-0ecf-4534-a170-eb56a3fe1df8",
   "metadata": {},
   "source": [
    "Around 8:00 AM and between 5:00-7:00 PM are the busiest times of days."
   ]
  },
  {
   "cell_type": "code",
   "execution_count": 16,
   "id": "9459d6a5-d6ee-405a-8e3d-b83da8d489f4",
   "metadata": {},
   "outputs": [
    {
     "data": {
      "image/png": "[encoded data removed]",
      "text/plain": [
       "<Figure size 1000x600 with 1 Axes>"
      ]
     },
     "metadata": {},
     "output_type": "display_data"
    }
   ],
   "source": [
    "# Implement a bar plot of hour vs count on weekends and holidays (when workingday = 0).\n",
    "# Does the hourly trend change on weekends?\n",
    "plt.figure(figsize= (10, 6), num= 7)\n",
    "\n",
    "legend_labels = ['weekend/holiday', 'workingday']\n",
    "\n",
    "g = sns.barplot(data= bikes, x= 'hr', y= 'cnt', hue= 'workingday', errorbar= None)\n",
    "\n",
    "plt.title('Bike Rental per Hour Depending on Workingday')\n",
    "plt.xlabel('Hour of Day')\n",
    "plt.ylabel('Bikes (avg count)')\n",
    "for t, l in zip(g.legend_.texts, legend_labels):\n",
    "    t.set_text(l)\n",
    "\n",
    "plt.show()"
   ]
  },
  {
   "cell_type": "markdown",
   "id": "5ca86e3b-87cc-4621-8dfd-d5070fd1b927",
   "metadata": {},
   "source": [
    "The hourly trend does change on weekends. On weekends, the busiest hours are between 12:00-4:00 PM."
   ]
  },
  {
   "cell_type": "code",
   "execution_count": 17,
   "id": "9c954c62-b442-4d19-998b-a805b0e969de",
   "metadata": {},
   "outputs": [],
   "source": [
    "plt.close('all')"
   ]
  },
  {
   "cell_type": "markdown",
   "id": "0d4723e7-8cfe-4c96-b880-56951fef62f2",
   "metadata": {},
   "source": [
    "## Part 2: Data Preparation"
   ]
  },
  {
   "cell_type": "code",
   "execution_count": 18,
   "id": "eac1c30a-b92e-4e4d-929f-3fad99410c1d",
   "metadata": {},
   "outputs": [
    {
     "data": {
      "image/png": "[encoded data removed]",
      "text/plain": [
       "<Figure size 800x600 with 2 Axes>"
      ]
     },
     "metadata": {},
     "output_type": "display_data"
    }
   ],
   "source": [
    "# Implement and graph a correlation matrix with the remaining numeric features. Any interesting relationships?\n",
    "plt.figure(figsize= (8, 6), num= 8)\n",
    "sns.heatmap(bikes.corr(numeric_only= True).round(2), annot= True, vmin= -1.0, vmax= 1.0, cmap= 'bwr')\n",
    "plt.show()"
   ]
  },
  {
   "cell_type": "markdown",
   "id": "5464017e-d32e-4c64-b4d2-853818529e55",
   "metadata": {},
   "source": [
    "Registered, casual, and count appear to be correlated together in some way. Temp and atemp appear to be almost identical."
   ]
  },
  {
   "cell_type": "code",
   "execution_count": 19,
   "id": "fe3f5c27-8313-48a0-b89e-78899756dfd4",
   "metadata": {},
   "outputs": [
    {
     "data": {
      "text/html": [
       "<div>\n",
       "<style scoped>\n",
       "    .dataframe tbody tr th:only-of-type {\n",
       "        vertical-align: middle;\n",
       "    }\n",
       "\n",
       "    .dataframe tbody tr th {\n",
       "        vertical-align: top;\n",
       "    }\n",
       "\n",
       "    .dataframe thead th {\n",
       "        text-align: right;\n",
       "    }\n",
       "</style>\n",
       "<table border=\"1\" class=\"dataframe\">\n",
       "  <thead>\n",
       "    <tr style=\"text-align: right;\">\n",
       "      <th></th>\n",
       "      <th>casual</th>\n",
       "      <th>registered</th>\n",
       "    </tr>\n",
       "  </thead>\n",
       "  <tbody>\n",
       "    <tr>\n",
       "      <th>count</th>\n",
       "      <td>1.737900e+04</td>\n",
       "      <td>1.737900e+04</td>\n",
       "    </tr>\n",
       "    <tr>\n",
       "      <th>mean</th>\n",
       "      <td>2.289567e-17</td>\n",
       "      <td>-3.924973e-17</td>\n",
       "    </tr>\n",
       "    <tr>\n",
       "      <th>std</th>\n",
       "      <td>1.000029e+00</td>\n",
       "      <td>1.000029e+00</td>\n",
       "    </tr>\n",
       "    <tr>\n",
       "      <th>min</th>\n",
       "      <td>-7.236025e-01</td>\n",
       "      <td>-1.016081e+00</td>\n",
       "    </tr>\n",
       "    <tr>\n",
       "      <th>25%</th>\n",
       "      <td>-6.424726e-01</td>\n",
       "      <td>-7.914407e-01</td>\n",
       "    </tr>\n",
       "    <tr>\n",
       "      <th>50%</th>\n",
       "      <td>-3.788002e-01</td>\n",
       "      <td>-2.562677e-01</td>\n",
       "    </tr>\n",
       "    <tr>\n",
       "      <th>75%</th>\n",
       "      <td>2.499570e-01</td>\n",
       "      <td>4.374750e-01</td>\n",
       "    </tr>\n",
       "    <tr>\n",
       "      <th>max</th>\n",
       "      <td>6.720071e+00</td>\n",
       "      <td>4.837786e+00</td>\n",
       "    </tr>\n",
       "  </tbody>\n",
       "</table>\n",
       "</div>"
      ],
      "text/plain": [
       "             casual    registered\n",
       "count  1.737900e+04  1.737900e+04\n",
       "mean   2.289567e-17 -3.924973e-17\n",
       "std    1.000029e+00  1.000029e+00\n",
       "min   -7.236025e-01 -1.016081e+00\n",
       "25%   -6.424726e-01 -7.914407e-01\n",
       "50%   -3.788002e-01 -2.562677e-01\n",
       "75%    2.499570e-01  4.374750e-01\n",
       "max    6.720071e+00  4.837786e+00"
      ]
     },
     "execution_count": 19,
     "metadata": {},
     "output_type": "execute_result"
    }
   ],
   "source": [
    "# Scale the numerical features using StandardScaler()\n",
    "columns= ['casual', 'registered']    # other numerical features (such as temp/atemp were not included because they were already normalized)\n",
    "scaler = StandardScaler()\n",
    "bikes_scaled = pd.DataFrame(scaler.fit_transform(bikes[columns]), index= bikes.index, columns= columns)\n",
    "bikes_scaled.describe()"
   ]
  },
  {
   "cell_type": "code",
   "execution_count": 21,
   "id": "b5576840-4eab-4190-bee1-82e3591a4b58",
   "metadata": {},
   "outputs": [
    {
     "data": {
      "text/html": [
       "<div>\n",
       "<style scoped>\n",
       "    .dataframe tbody tr th:only-of-type {\n",
       "        vertical-align: middle;\n",
       "    }\n",
       "\n",
       "    .dataframe tbody tr th {\n",
       "        vertical-align: top;\n",
       "    }\n",
       "\n",
       "    .dataframe thead th {\n",
       "        text-align: right;\n",
       "    }\n",
       "</style>\n",
       "<table border=\"1\" class=\"dataframe\">\n",
       "  <thead>\n",
       "    <tr style=\"text-align: right;\">\n",
       "      <th></th>\n",
       "      <th>instant</th>\n",
       "      <th>dteday</th>\n",
       "      <th>season</th>\n",
       "      <th>yr</th>\n",
       "      <th>mnth</th>\n",
       "      <th>hr</th>\n",
       "      <th>holiday</th>\n",
       "      <th>weekday</th>\n",
       "      <th>workingday</th>\n",
       "      <th>weathersit</th>\n",
       "      <th>temp</th>\n",
       "      <th>atemp</th>\n",
       "      <th>hum</th>\n",
       "      <th>windspeed</th>\n",
       "      <th>casual</th>\n",
       "      <th>registered</th>\n",
       "      <th>cnt</th>\n",
       "    </tr>\n",
       "  </thead>\n",
       "  <tbody>\n",
       "    <tr>\n",
       "      <th>0</th>\n",
       "      <td>1</td>\n",
       "      <td>2011-01-01</td>\n",
       "      <td>1</td>\n",
       "      <td>0</td>\n",
       "      <td>1</td>\n",
       "      <td>0</td>\n",
       "      <td>0</td>\n",
       "      <td>6</td>\n",
       "      <td>0</td>\n",
       "      <td>1</td>\n",
       "      <td>0.24</td>\n",
       "      <td>0.2879</td>\n",
       "      <td>0.81</td>\n",
       "      <td>0.0</td>\n",
       "      <td>-0.662755</td>\n",
       "      <td>-0.930189</td>\n",
       "      <td>16</td>\n",
       "    </tr>\n",
       "    <tr>\n",
       "      <th>1</th>\n",
       "      <td>2</td>\n",
       "      <td>2011-01-01</td>\n",
       "      <td>1</td>\n",
       "      <td>0</td>\n",
       "      <td>1</td>\n",
       "      <td>1</td>\n",
       "      <td>0</td>\n",
       "      <td>6</td>\n",
       "      <td>0</td>\n",
       "      <td>1</td>\n",
       "      <td>0.22</td>\n",
       "      <td>0.2727</td>\n",
       "      <td>0.80</td>\n",
       "      <td>0.0</td>\n",
       "      <td>-0.561343</td>\n",
       "      <td>-0.804655</td>\n",
       "      <td>40</td>\n",
       "    </tr>\n",
       "    <tr>\n",
       "      <th>2</th>\n",
       "      <td>3</td>\n",
       "      <td>2011-01-01</td>\n",
       "      <td>1</td>\n",
       "      <td>0</td>\n",
       "      <td>1</td>\n",
       "      <td>2</td>\n",
       "      <td>0</td>\n",
       "      <td>6</td>\n",
       "      <td>0</td>\n",
       "      <td>1</td>\n",
       "      <td>0.22</td>\n",
       "      <td>0.2727</td>\n",
       "      <td>0.80</td>\n",
       "      <td>0.0</td>\n",
       "      <td>-0.622190</td>\n",
       "      <td>-0.837690</td>\n",
       "      <td>32</td>\n",
       "    </tr>\n",
       "    <tr>\n",
       "      <th>3</th>\n",
       "      <td>4</td>\n",
       "      <td>2011-01-01</td>\n",
       "      <td>1</td>\n",
       "      <td>0</td>\n",
       "      <td>1</td>\n",
       "      <td>3</td>\n",
       "      <td>0</td>\n",
       "      <td>6</td>\n",
       "      <td>0</td>\n",
       "      <td>1</td>\n",
       "      <td>0.24</td>\n",
       "      <td>0.2879</td>\n",
       "      <td>0.75</td>\n",
       "      <td>0.0</td>\n",
       "      <td>-0.662755</td>\n",
       "      <td>-0.950010</td>\n",
       "      <td>13</td>\n",
       "    </tr>\n",
       "    <tr>\n",
       "      <th>4</th>\n",
       "      <td>5</td>\n",
       "      <td>2011-01-01</td>\n",
       "      <td>1</td>\n",
       "      <td>0</td>\n",
       "      <td>1</td>\n",
       "      <td>4</td>\n",
       "      <td>0</td>\n",
       "      <td>6</td>\n",
       "      <td>0</td>\n",
       "      <td>1</td>\n",
       "      <td>0.24</td>\n",
       "      <td>0.2879</td>\n",
       "      <td>0.75</td>\n",
       "      <td>0.0</td>\n",
       "      <td>-0.723603</td>\n",
       "      <td>-1.009474</td>\n",
       "      <td>1</td>\n",
       "    </tr>\n",
       "  </tbody>\n",
       "</table>\n",
       "</div>"
      ],
      "text/plain": [
       "   instant      dteday season yr  mnth  hr holiday weekday workingday  \\\n",
       "0        1  2011-01-01      1  0     1   0       0       6          0   \n",
       "1        2  2011-01-01      1  0     1   1       0       6          0   \n",
       "2        3  2011-01-01      1  0     1   2       0       6          0   \n",
       "3        4  2011-01-01      1  0     1   3       0       6          0   \n",
       "4        5  2011-01-01      1  0     1   4       0       6          0   \n",
       "\n",
       "  weathersit  temp   atemp   hum  windspeed    casual  registered  cnt  \n",
       "0          1  0.24  0.2879  0.81        0.0 -0.662755   -0.930189   16  \n",
       "1          1  0.22  0.2727  0.80        0.0 -0.561343   -0.804655   40  \n",
       "2          1  0.22  0.2727  0.80        0.0 -0.622190   -0.837690   32  \n",
       "3          1  0.24  0.2879  0.75        0.0 -0.662755   -0.950010   13  \n",
       "4          1  0.24  0.2879  0.75        0.0 -0.723603   -1.009474    1  "
      ]
     },
     "execution_count": 21,
     "metadata": {},
     "output_type": "execute_result"
    }
   ],
   "source": [
    "# replace the original columns in the dataframe\n",
    "bikes['casual'] = bikes_scaled['casual']\n",
    "bikes['registered'] = bikes_scaled['registered']\n",
    "#bikes['cnt'] = bikes_scaled['cnt']\n",
    "bikes.head()"
   ]
  },
  {
   "cell_type": "code",
   "execution_count": 22,
   "id": "394e6f53-6e2d-4b4b-be92-f5700c4345fe",
   "metadata": {},
   "outputs": [
    {
     "data": {
      "text/html": [
       "<div>\n",
       "<style scoped>\n",
       "    .dataframe tbody tr th:only-of-type {\n",
       "        vertical-align: middle;\n",
       "    }\n",
       "\n",
       "    .dataframe tbody tr th {\n",
       "        vertical-align: top;\n",
       "    }\n",
       "\n",
       "    .dataframe thead th {\n",
       "        text-align: right;\n",
       "    }\n",
       "</style>\n",
       "<table border=\"1\" class=\"dataframe\">\n",
       "  <thead>\n",
       "    <tr style=\"text-align: right;\">\n",
       "      <th></th>\n",
       "      <th>season</th>\n",
       "      <th>yr</th>\n",
       "      <th>mnth</th>\n",
       "      <th>hr</th>\n",
       "      <th>holiday</th>\n",
       "      <th>weekday</th>\n",
       "      <th>workingday</th>\n",
       "      <th>weathersit</th>\n",
       "      <th>temp</th>\n",
       "      <th>atemp</th>\n",
       "      <th>hum</th>\n",
       "      <th>windspeed</th>\n",
       "      <th>cnt</th>\n",
       "    </tr>\n",
       "  </thead>\n",
       "  <tbody>\n",
       "    <tr>\n",
       "      <th>0</th>\n",
       "      <td>1</td>\n",
       "      <td>0</td>\n",
       "      <td>1</td>\n",
       "      <td>0</td>\n",
       "      <td>0</td>\n",
       "      <td>6</td>\n",
       "      <td>0</td>\n",
       "      <td>1</td>\n",
       "      <td>0.24</td>\n",
       "      <td>0.2879</td>\n",
       "      <td>0.81</td>\n",
       "      <td>0.0</td>\n",
       "      <td>16</td>\n",
       "    </tr>\n",
       "    <tr>\n",
       "      <th>1</th>\n",
       "      <td>1</td>\n",
       "      <td>0</td>\n",
       "      <td>1</td>\n",
       "      <td>1</td>\n",
       "      <td>0</td>\n",
       "      <td>6</td>\n",
       "      <td>0</td>\n",
       "      <td>1</td>\n",
       "      <td>0.22</td>\n",
       "      <td>0.2727</td>\n",
       "      <td>0.80</td>\n",
       "      <td>0.0</td>\n",
       "      <td>40</td>\n",
       "    </tr>\n",
       "    <tr>\n",
       "      <th>2</th>\n",
       "      <td>1</td>\n",
       "      <td>0</td>\n",
       "      <td>1</td>\n",
       "      <td>2</td>\n",
       "      <td>0</td>\n",
       "      <td>6</td>\n",
       "      <td>0</td>\n",
       "      <td>1</td>\n",
       "      <td>0.22</td>\n",
       "      <td>0.2727</td>\n",
       "      <td>0.80</td>\n",
       "      <td>0.0</td>\n",
       "      <td>32</td>\n",
       "    </tr>\n",
       "    <tr>\n",
       "      <th>3</th>\n",
       "      <td>1</td>\n",
       "      <td>0</td>\n",
       "      <td>1</td>\n",
       "      <td>3</td>\n",
       "      <td>0</td>\n",
       "      <td>6</td>\n",
       "      <td>0</td>\n",
       "      <td>1</td>\n",
       "      <td>0.24</td>\n",
       "      <td>0.2879</td>\n",
       "      <td>0.75</td>\n",
       "      <td>0.0</td>\n",
       "      <td>13</td>\n",
       "    </tr>\n",
       "    <tr>\n",
       "      <th>4</th>\n",
       "      <td>1</td>\n",
       "      <td>0</td>\n",
       "      <td>1</td>\n",
       "      <td>4</td>\n",
       "      <td>0</td>\n",
       "      <td>6</td>\n",
       "      <td>0</td>\n",
       "      <td>1</td>\n",
       "      <td>0.24</td>\n",
       "      <td>0.2879</td>\n",
       "      <td>0.75</td>\n",
       "      <td>0.0</td>\n",
       "      <td>1</td>\n",
       "    </tr>\n",
       "  </tbody>\n",
       "</table>\n",
       "</div>"
      ],
      "text/plain": [
       "  season yr  mnth  hr holiday weekday workingday weathersit  temp   atemp  \\\n",
       "0      1  0     1   0       0       6          0          1  0.24  0.2879   \n",
       "1      1  0     1   1       0       6          0          1  0.22  0.2727   \n",
       "2      1  0     1   2       0       6          0          1  0.22  0.2727   \n",
       "3      1  0     1   3       0       6          0          1  0.24  0.2879   \n",
       "4      1  0     1   4       0       6          0          1  0.24  0.2879   \n",
       "\n",
       "    hum  windspeed  cnt  \n",
       "0  0.81        0.0   16  \n",
       "1  0.80        0.0   40  \n",
       "2  0.80        0.0   32  \n",
       "3  0.75        0.0   13  \n",
       "4  0.75        0.0    1  "
      ]
     },
     "execution_count": 22,
     "metadata": {},
     "output_type": "execute_result"
    }
   ],
   "source": [
    "# Drop the following columns from your dataset: casual, registered, dteday, instant.\n",
    "bikes.drop(columns= ['casual', 'registered', 'dteday', 'instant'], inplace= True)\n",
    "bikes.head()"
   ]
  },
  {
   "cell_type": "code",
   "execution_count": 23,
   "id": "97c8e8db-0b1f-4e98-98f0-4f85fd981fc2",
   "metadata": {},
   "outputs": [
    {
     "data": {
      "image/png": "[encoded data removed]",
      "text/plain": [
       "<Figure size 800x600 with 1 Axes>"
      ]
     },
     "metadata": {},
     "output_type": "display_data"
    }
   ],
   "source": [
    "# Implement a histogram of the count column. What can be said based on the resulting distribution?\n",
    "plt.figure(figsize= (8, 6), num= 9)\n",
    "\n",
    "sns.histplot(data= bikes, x= 'cnt')\n",
    "plt.title('Bike Rental Count Distribution')\n",
    "plt.xlabel('Scaled Count')\n",
    "plt.ylabel('Count')\n",
    "\n",
    "plt.show()"
   ]
  },
  {
   "cell_type": "markdown",
   "id": "91a06c6f-9ea4-4e7f-83e8-166c9a141818",
   "metadata": {},
   "source": [
    "This distribution is right-skewed."
   ]
  },
  {
   "cell_type": "code",
   "execution_count": 24,
   "id": "467cfb48-ef75-4ee8-83e1-70cd913faf6a",
   "metadata": {},
   "outputs": [],
   "source": [
    "# Implement a train/test split with a test size of 33%.\n",
    "features_train, features_test, target_train, target_test = train_test_split(bikes.drop(columns= ['cnt']), bikes['cnt'],\n",
    "                                                                            test_size= 0.33, random_state= 42)"
   ]
  },
  {
   "cell_type": "code",
   "execution_count": 25,
   "id": "f6619eba-e558-4e4d-952e-0d6426ce5d0a",
   "metadata": {},
   "outputs": [
    {
     "data": {
      "text/html": [
       "<style>#sk-container-id-1 {color: black;}#sk-container-id-1 pre{padding: 0;}#sk-container-id-1 div.sk-toggleable {background-color: white;}#sk-container-id-1 label.sk-toggleable__label {cursor: pointer;display: block;width: 100%;margin-bottom: 0;padding: 0.3em;box-sizing: border-box;text-align: center;}#sk-container-id-1 label.sk-toggleable__label-arrow:before {content: \"▸\";float: left;margin-right: 0.25em;color: #696969;}#sk-container-id-1 label.sk-toggleable__label-arrow:hover:before {color: black;}#sk-container-id-1 div.sk-estimator:hover label.sk-toggleable__label-arrow:before {color: black;}#sk-container-id-1 div.sk-toggleable__content {max-height: 0;max-width: 0;overflow: hidden;text-align: left;background-color: #f0f8ff;}#sk-container-id-1 div.sk-toggleable__content pre {margin: 0.2em;color: black;border-radius: 0.25em;background-color: #f0f8ff;}#sk-container-id-1 input.sk-toggleable__control:checked~div.sk-toggleable__content {max-height: 200px;max-width: 100%;overflow: auto;}#sk-container-id-1 input.sk-toggleable__control:checked~label.sk-toggleable__label-arrow:before {content: \"▾\";}#sk-container-id-1 div.sk-estimator input.sk-toggleable__control:checked~label.sk-toggleable__label {background-color: #d4ebff;}#sk-container-id-1 div.sk-label input.sk-toggleable__control:checked~label.sk-toggleable__label {background-color: #d4ebff;}#sk-container-id-1 input.sk-hidden--visually {border: 0;clip: rect(1px 1px 1px 1px);clip: rect(1px, 1px, 1px, 1px);height: 1px;margin: -1px;overflow: hidden;padding: 0;position: absolute;width: 1px;}#sk-container-id-1 div.sk-estimator {font-family: monospace;background-color: #f0f8ff;border: 1px dotted black;border-radius: 0.25em;box-sizing: border-box;margin-bottom: 0.5em;}#sk-container-id-1 div.sk-estimator:hover {background-color: #d4ebff;}#sk-container-id-1 div.sk-parallel-item::after {content: \"\";width: 100%;border-bottom: 1px solid gray;flex-grow: 1;}#sk-container-id-1 div.sk-label:hover label.sk-toggleable__label {background-color: #d4ebff;}#sk-container-id-1 div.sk-serial::before {content: \"\";position: absolute;border-left: 1px solid gray;box-sizing: border-box;top: 0;bottom: 0;left: 50%;z-index: 0;}#sk-container-id-1 div.sk-serial {display: flex;flex-direction: column;align-items: center;background-color: white;padding-right: 0.2em;padding-left: 0.2em;position: relative;}#sk-container-id-1 div.sk-item {position: relative;z-index: 1;}#sk-container-id-1 div.sk-parallel {display: flex;align-items: stretch;justify-content: center;background-color: white;position: relative;}#sk-container-id-1 div.sk-item::before, #sk-container-id-1 div.sk-parallel-item::before {content: \"\";position: absolute;border-left: 1px solid gray;box-sizing: border-box;top: 0;bottom: 0;left: 50%;z-index: -1;}#sk-container-id-1 div.sk-parallel-item {display: flex;flex-direction: column;z-index: 1;position: relative;background-color: white;}#sk-container-id-1 div.sk-parallel-item:first-child::after {align-self: flex-end;width: 50%;}#sk-container-id-1 div.sk-parallel-item:last-child::after {align-self: flex-start;width: 50%;}#sk-container-id-1 div.sk-parallel-item:only-child::after {width: 0;}#sk-container-id-1 div.sk-dashed-wrapped {border: 1px dashed gray;margin: 0 0.4em 0.5em 0.4em;box-sizing: border-box;padding-bottom: 0.4em;background-color: white;}#sk-container-id-1 div.sk-label label {font-family: monospace;font-weight: bold;display: inline-block;line-height: 1.2em;}#sk-container-id-1 div.sk-label-container {text-align: center;}#sk-container-id-1 div.sk-container {/* jupyter's `normalize.less` sets `[hidden] { display: none; }` but bootstrap.min.css set `[hidden] { display: none !important; }` so we also need the `!important` here to be able to override the default hidden behavior on the sphinx rendered scikit-learn.org. See: https://github.com/scikit-learn/scikit-learn/issues/21755 */display: inline-block !important;position: relative;}#sk-container-id-1 div.sk-text-repr-fallback {display: none;}</style><div id=\"sk-container-id-1\" class=\"sk-top-container\"><div class=\"sk-text-repr-fallback\"><pre>LinearRegression()</pre><b>In a Jupyter environment, please rerun this cell to show the HTML representation or trust the notebook. <br />On GitHub, the HTML representation is unable to render, please try loading this page with nbviewer.org.</b></div><div class=\"sk-container\" hidden><div class=\"sk-item\"><div class=\"sk-estimator sk-toggleable\"><input class=\"sk-toggleable__control sk-hidden--visually\" id=\"sk-estimator-id-1\" type=\"checkbox\" checked><label for=\"sk-estimator-id-1\" class=\"sk-toggleable__label sk-toggleable__label-arrow\">LinearRegression</label><div class=\"sk-toggleable__content\"><pre>LinearRegression()</pre></div></div></div></div></div>"
      ],
      "text/plain": [
       "LinearRegression()"
      ]
     },
     "execution_count": 25,
     "metadata": {},
     "output_type": "execute_result"
    }
   ],
   "source": [
    "# Implement a baseline linear regression algorithm.\n",
    "lin_model = LinearRegression()\n",
    "lin_model.fit(features_train, target_train)"
   ]
  },
  {
   "cell_type": "code",
   "execution_count": 26,
   "id": "a179b99e-6a3b-4f96-b695-737e2c567f97",
   "metadata": {},
   "outputs": [
    {
     "name": "stdout",
     "output_type": "stream",
     "text": [
      "Avg R2 Score: 0.38506139505029086\n",
      "MSE Score: 20511.172540839827\n"
     ]
    }
   ],
   "source": [
    "# implement cross validation to get r2 and mse\n",
    "lin_cv_score_r2 = cross_val_score(estimator= lin_model, X= features_train, y= target_train, scoring= 'r2')\n",
    "lin_cv_score_mse = cross_val_score(estimator= lin_model, X= features_train, y= target_train, scoring= 'neg_mean_squared_error')\n",
    "print(f'Avg R2 Score: {np.mean(lin_cv_score_r2)}')\n",
    "print(f'MSE Score: {np.mean(-lin_cv_score_mse)}')"
   ]
  },
  {
   "cell_type": "code",
   "execution_count": 27,
   "id": "2a5e1a4d-c9f5-4757-a22c-cfb80d460919",
   "metadata": {},
   "outputs": [
    {
     "name": "stdout",
     "output_type": "stream",
     "text": [
      "RMSE Score: 143.21722152325057\n"
     ]
    }
   ],
   "source": [
    "# calculate RMSE based on MSE\n",
    "print(f'RMSE Score: {np.sqrt(np.mean(-lin_cv_score_mse))}')"
   ]
  },
  {
   "cell_type": "code",
   "execution_count": 28,
   "id": "589912b5-056d-4166-a2ac-7273f50b3597",
   "metadata": {},
   "outputs": [],
   "source": [
    "# VERIFYING THE CODE WORKED\n",
    "# yhat = lin_model.predict(features_train)"
   ]
  },
  {
   "cell_type": "code",
   "execution_count": 29,
   "id": "b7b93a84-cf50-42ff-85e9-79029e58a867",
   "metadata": {},
   "outputs": [],
   "source": [
    "#d = target_train -yhat\n",
    "#mse= np.mean(d**2)\n",
    "#r2= 1-(sum(d**2)/sum((target_train-np.mean(target_train))**2))\n",
    "#rmse= np.sqrt(mse)\n",
    "#mse, r2, rmse"
   ]
  },
  {
   "cell_type": "markdown",
   "id": "11579f7e-6d76-4ba0-bc84-70a9d59be6e5",
   "metadata": {},
   "source": [
    "## Part 3: Model Training"
   ]
  },
  {
   "cell_type": "code",
   "execution_count": 30,
   "id": "eb1854f6-6a41-4bc8-ad84-48e3c086033e",
   "metadata": {},
   "outputs": [
    {
     "data": {
      "text/html": [
       "<div>\n",
       "<style scoped>\n",
       "    .dataframe tbody tr th:only-of-type {\n",
       "        vertical-align: middle;\n",
       "    }\n",
       "\n",
       "    .dataframe tbody tr th {\n",
       "        vertical-align: top;\n",
       "    }\n",
       "\n",
       "    .dataframe thead th {\n",
       "        text-align: right;\n",
       "    }\n",
       "</style>\n",
       "<table border=\"1\" class=\"dataframe\">\n",
       "  <thead>\n",
       "    <tr style=\"text-align: right;\">\n",
       "      <th></th>\n",
       "      <th>season</th>\n",
       "      <th>yr</th>\n",
       "      <th>mnth</th>\n",
       "      <th>hr</th>\n",
       "      <th>holiday</th>\n",
       "      <th>weekday</th>\n",
       "      <th>workingday</th>\n",
       "      <th>weathersit</th>\n",
       "      <th>temp</th>\n",
       "      <th>atemp</th>\n",
       "      <th>hum</th>\n",
       "      <th>windspeed</th>\n",
       "      <th>cnt</th>\n",
       "    </tr>\n",
       "  </thead>\n",
       "  <tbody>\n",
       "    <tr>\n",
       "      <th>0</th>\n",
       "      <td>1</td>\n",
       "      <td>0</td>\n",
       "      <td>1</td>\n",
       "      <td>0</td>\n",
       "      <td>0</td>\n",
       "      <td>6</td>\n",
       "      <td>0</td>\n",
       "      <td>1</td>\n",
       "      <td>0.24</td>\n",
       "      <td>0.2879</td>\n",
       "      <td>0.81</td>\n",
       "      <td>0.0</td>\n",
       "      <td>16</td>\n",
       "    </tr>\n",
       "    <tr>\n",
       "      <th>1</th>\n",
       "      <td>1</td>\n",
       "      <td>0</td>\n",
       "      <td>1</td>\n",
       "      <td>1</td>\n",
       "      <td>0</td>\n",
       "      <td>6</td>\n",
       "      <td>0</td>\n",
       "      <td>1</td>\n",
       "      <td>0.22</td>\n",
       "      <td>0.2727</td>\n",
       "      <td>0.80</td>\n",
       "      <td>0.0</td>\n",
       "      <td>40</td>\n",
       "    </tr>\n",
       "    <tr>\n",
       "      <th>2</th>\n",
       "      <td>1</td>\n",
       "      <td>0</td>\n",
       "      <td>1</td>\n",
       "      <td>2</td>\n",
       "      <td>0</td>\n",
       "      <td>6</td>\n",
       "      <td>0</td>\n",
       "      <td>1</td>\n",
       "      <td>0.22</td>\n",
       "      <td>0.2727</td>\n",
       "      <td>0.80</td>\n",
       "      <td>0.0</td>\n",
       "      <td>32</td>\n",
       "    </tr>\n",
       "    <tr>\n",
       "      <th>3</th>\n",
       "      <td>1</td>\n",
       "      <td>0</td>\n",
       "      <td>1</td>\n",
       "      <td>3</td>\n",
       "      <td>0</td>\n",
       "      <td>6</td>\n",
       "      <td>0</td>\n",
       "      <td>1</td>\n",
       "      <td>0.24</td>\n",
       "      <td>0.2879</td>\n",
       "      <td>0.75</td>\n",
       "      <td>0.0</td>\n",
       "      <td>13</td>\n",
       "    </tr>\n",
       "    <tr>\n",
       "      <th>4</th>\n",
       "      <td>1</td>\n",
       "      <td>0</td>\n",
       "      <td>1</td>\n",
       "      <td>4</td>\n",
       "      <td>0</td>\n",
       "      <td>6</td>\n",
       "      <td>0</td>\n",
       "      <td>1</td>\n",
       "      <td>0.24</td>\n",
       "      <td>0.2879</td>\n",
       "      <td>0.75</td>\n",
       "      <td>0.0</td>\n",
       "      <td>1</td>\n",
       "    </tr>\n",
       "  </tbody>\n",
       "</table>\n",
       "</div>"
      ],
      "text/plain": [
       "  season yr  mnth  hr holiday weekday workingday weathersit  temp   atemp  \\\n",
       "0      1  0     1   0       0       6          0          1  0.24  0.2879   \n",
       "1      1  0     1   1       0       6          0          1  0.22  0.2727   \n",
       "2      1  0     1   2       0       6          0          1  0.22  0.2727   \n",
       "3      1  0     1   3       0       6          0          1  0.24  0.2879   \n",
       "4      1  0     1   4       0       6          0          1  0.24  0.2879   \n",
       "\n",
       "    hum  windspeed  cnt  \n",
       "0  0.81        0.0   16  \n",
       "1  0.80        0.0   40  \n",
       "2  0.80        0.0   32  \n",
       "3  0.75        0.0   13  \n",
       "4  0.75        0.0    1  "
      ]
     },
     "execution_count": 30,
     "metadata": {},
     "output_type": "execute_result"
    }
   ],
   "source": [
    "# revist our dataset\n",
    "bikes.head()"
   ]
  },
  {
   "cell_type": "code",
   "execution_count": 31,
   "id": "97984ae6-ea03-4b36-96ba-b4eaa7276c33",
   "metadata": {},
   "outputs": [
    {
     "name": "stdout",
     "output_type": "stream",
     "text": [
      "<class 'pandas.core.frame.DataFrame'>\n",
      "RangeIndex: 17379 entries, 0 to 17378\n",
      "Data columns (total 13 columns):\n",
      " #   Column      Non-Null Count  Dtype   \n",
      "---  ------      --------------  -----   \n",
      " 0   season      17379 non-null  category\n",
      " 1   yr          17379 non-null  category\n",
      " 2   mnth        17379 non-null  int64   \n",
      " 3   hr          17379 non-null  int64   \n",
      " 4   holiday     17379 non-null  category\n",
      " 5   weekday     17379 non-null  category\n",
      " 6   workingday  17379 non-null  category\n",
      " 7   weathersit  17379 non-null  category\n",
      " 8   temp        17379 non-null  float64 \n",
      " 9   atemp       17379 non-null  float64 \n",
      " 10  hum         17379 non-null  float64 \n",
      " 11  windspeed   17379 non-null  float64 \n",
      " 12  cnt         17379 non-null  int64   \n",
      "dtypes: category(6), float64(4), int64(3)\n",
      "memory usage: 1.0 MB\n"
     ]
    }
   ],
   "source": [
    "bikes.info()"
   ]
  },
  {
   "cell_type": "code",
   "execution_count": 32,
   "id": "143a3500-fdef-4cb3-a39f-e55186290ee1",
   "metadata": {},
   "outputs": [
    {
     "data": {
      "text/html": [
       "<div>\n",
       "<style scoped>\n",
       "    .dataframe tbody tr th:only-of-type {\n",
       "        vertical-align: middle;\n",
       "    }\n",
       "\n",
       "    .dataframe tbody tr th {\n",
       "        vertical-align: top;\n",
       "    }\n",
       "\n",
       "    .dataframe thead th {\n",
       "        text-align: right;\n",
       "    }\n",
       "</style>\n",
       "<table border=\"1\" class=\"dataframe\">\n",
       "  <thead>\n",
       "    <tr style=\"text-align: right;\">\n",
       "      <th></th>\n",
       "      <th>mnth</th>\n",
       "      <th>hr</th>\n",
       "      <th>temp</th>\n",
       "      <th>atemp</th>\n",
       "      <th>hum</th>\n",
       "      <th>windspeed</th>\n",
       "      <th>cnt</th>\n",
       "      <th>season_2</th>\n",
       "      <th>season_3</th>\n",
       "      <th>season_4</th>\n",
       "      <th>...</th>\n",
       "      <th>weekday_1</th>\n",
       "      <th>weekday_2</th>\n",
       "      <th>weekday_3</th>\n",
       "      <th>weekday_4</th>\n",
       "      <th>weekday_5</th>\n",
       "      <th>weekday_6</th>\n",
       "      <th>workingday_1</th>\n",
       "      <th>weathersit_2</th>\n",
       "      <th>weathersit_3</th>\n",
       "      <th>weathersit_4</th>\n",
       "    </tr>\n",
       "  </thead>\n",
       "  <tbody>\n",
       "    <tr>\n",
       "      <th>0</th>\n",
       "      <td>1</td>\n",
       "      <td>0</td>\n",
       "      <td>0.24</td>\n",
       "      <td>0.2879</td>\n",
       "      <td>0.81</td>\n",
       "      <td>0.0</td>\n",
       "      <td>16</td>\n",
       "      <td>0</td>\n",
       "      <td>0</td>\n",
       "      <td>0</td>\n",
       "      <td>...</td>\n",
       "      <td>0</td>\n",
       "      <td>0</td>\n",
       "      <td>0</td>\n",
       "      <td>0</td>\n",
       "      <td>0</td>\n",
       "      <td>1</td>\n",
       "      <td>0</td>\n",
       "      <td>0</td>\n",
       "      <td>0</td>\n",
       "      <td>0</td>\n",
       "    </tr>\n",
       "    <tr>\n",
       "      <th>1</th>\n",
       "      <td>1</td>\n",
       "      <td>1</td>\n",
       "      <td>0.22</td>\n",
       "      <td>0.2727</td>\n",
       "      <td>0.80</td>\n",
       "      <td>0.0</td>\n",
       "      <td>40</td>\n",
       "      <td>0</td>\n",
       "      <td>0</td>\n",
       "      <td>0</td>\n",
       "      <td>...</td>\n",
       "      <td>0</td>\n",
       "      <td>0</td>\n",
       "      <td>0</td>\n",
       "      <td>0</td>\n",
       "      <td>0</td>\n",
       "      <td>1</td>\n",
       "      <td>0</td>\n",
       "      <td>0</td>\n",
       "      <td>0</td>\n",
       "      <td>0</td>\n",
       "    </tr>\n",
       "    <tr>\n",
       "      <th>2</th>\n",
       "      <td>1</td>\n",
       "      <td>2</td>\n",
       "      <td>0.22</td>\n",
       "      <td>0.2727</td>\n",
       "      <td>0.80</td>\n",
       "      <td>0.0</td>\n",
       "      <td>32</td>\n",
       "      <td>0</td>\n",
       "      <td>0</td>\n",
       "      <td>0</td>\n",
       "      <td>...</td>\n",
       "      <td>0</td>\n",
       "      <td>0</td>\n",
       "      <td>0</td>\n",
       "      <td>0</td>\n",
       "      <td>0</td>\n",
       "      <td>1</td>\n",
       "      <td>0</td>\n",
       "      <td>0</td>\n",
       "      <td>0</td>\n",
       "      <td>0</td>\n",
       "    </tr>\n",
       "    <tr>\n",
       "      <th>3</th>\n",
       "      <td>1</td>\n",
       "      <td>3</td>\n",
       "      <td>0.24</td>\n",
       "      <td>0.2879</td>\n",
       "      <td>0.75</td>\n",
       "      <td>0.0</td>\n",
       "      <td>13</td>\n",
       "      <td>0</td>\n",
       "      <td>0</td>\n",
       "      <td>0</td>\n",
       "      <td>...</td>\n",
       "      <td>0</td>\n",
       "      <td>0</td>\n",
       "      <td>0</td>\n",
       "      <td>0</td>\n",
       "      <td>0</td>\n",
       "      <td>1</td>\n",
       "      <td>0</td>\n",
       "      <td>0</td>\n",
       "      <td>0</td>\n",
       "      <td>0</td>\n",
       "    </tr>\n",
       "    <tr>\n",
       "      <th>4</th>\n",
       "      <td>1</td>\n",
       "      <td>4</td>\n",
       "      <td>0.24</td>\n",
       "      <td>0.2879</td>\n",
       "      <td>0.75</td>\n",
       "      <td>0.0</td>\n",
       "      <td>1</td>\n",
       "      <td>0</td>\n",
       "      <td>0</td>\n",
       "      <td>0</td>\n",
       "      <td>...</td>\n",
       "      <td>0</td>\n",
       "      <td>0</td>\n",
       "      <td>0</td>\n",
       "      <td>0</td>\n",
       "      <td>0</td>\n",
       "      <td>1</td>\n",
       "      <td>0</td>\n",
       "      <td>0</td>\n",
       "      <td>0</td>\n",
       "      <td>0</td>\n",
       "    </tr>\n",
       "  </tbody>\n",
       "</table>\n",
       "<p>5 rows × 22 columns</p>\n",
       "</div>"
      ],
      "text/plain": [
       "   mnth  hr  temp   atemp   hum  windspeed  cnt  season_2  season_3  season_4  \\\n",
       "0     1   0  0.24  0.2879  0.81        0.0   16         0         0         0   \n",
       "1     1   1  0.22  0.2727  0.80        0.0   40         0         0         0   \n",
       "2     1   2  0.22  0.2727  0.80        0.0   32         0         0         0   \n",
       "3     1   3  0.24  0.2879  0.75        0.0   13         0         0         0   \n",
       "4     1   4  0.24  0.2879  0.75        0.0    1         0         0         0   \n",
       "\n",
       "   ...  weekday_1  weekday_2  weekday_3  weekday_4  weekday_5  weekday_6  \\\n",
       "0  ...          0          0          0          0          0          1   \n",
       "1  ...          0          0          0          0          0          1   \n",
       "2  ...          0          0          0          0          0          1   \n",
       "3  ...          0          0          0          0          0          1   \n",
       "4  ...          0          0          0          0          0          1   \n",
       "\n",
       "   workingday_1  weathersit_2  weathersit_3  weathersit_4  \n",
       "0             0             0             0             0  \n",
       "1             0             0             0             0  \n",
       "2             0             0             0             0  \n",
       "3             0             0             0             0  \n",
       "4             0             0             0             0  \n",
       "\n",
       "[5 rows x 22 columns]"
      ]
     },
     "execution_count": 32,
     "metadata": {},
     "output_type": "execute_result"
    }
   ],
   "source": [
    "# Create one-hot-encoded values for your categorical columns using get_dummies and add them to your source dataset.\n",
    "# Drop the original categorical columns from your source datasource\n",
    "dummy_bikes = pd.get_dummies(bikes, columns= ['season', 'yr', 'holiday', 'weekday', 'workingday', 'weathersit'], drop_first= True, dtype= int)\n",
    "dummy_bikes.head()"
   ]
  },
  {
   "cell_type": "code",
   "execution_count": 33,
   "id": "97551185-24ea-4b63-ba0d-b8e2da0cb3d9",
   "metadata": {},
   "outputs": [
    {
     "data": {
      "text/html": [
       "<style>#sk-container-id-2 {color: black;}#sk-container-id-2 pre{padding: 0;}#sk-container-id-2 div.sk-toggleable {background-color: white;}#sk-container-id-2 label.sk-toggleable__label {cursor: pointer;display: block;width: 100%;margin-bottom: 0;padding: 0.3em;box-sizing: border-box;text-align: center;}#sk-container-id-2 label.sk-toggleable__label-arrow:before {content: \"▸\";float: left;margin-right: 0.25em;color: #696969;}#sk-container-id-2 label.sk-toggleable__label-arrow:hover:before {color: black;}#sk-container-id-2 div.sk-estimator:hover label.sk-toggleable__label-arrow:before {color: black;}#sk-container-id-2 div.sk-toggleable__content {max-height: 0;max-width: 0;overflow: hidden;text-align: left;background-color: #f0f8ff;}#sk-container-id-2 div.sk-toggleable__content pre {margin: 0.2em;color: black;border-radius: 0.25em;background-color: #f0f8ff;}#sk-container-id-2 input.sk-toggleable__control:checked~div.sk-toggleable__content {max-height: 200px;max-width: 100%;overflow: auto;}#sk-container-id-2 input.sk-toggleable__control:checked~label.sk-toggleable__label-arrow:before {content: \"▾\";}#sk-container-id-2 div.sk-estimator input.sk-toggleable__control:checked~label.sk-toggleable__label {background-color: #d4ebff;}#sk-container-id-2 div.sk-label input.sk-toggleable__control:checked~label.sk-toggleable__label {background-color: #d4ebff;}#sk-container-id-2 input.sk-hidden--visually {border: 0;clip: rect(1px 1px 1px 1px);clip: rect(1px, 1px, 1px, 1px);height: 1px;margin: -1px;overflow: hidden;padding: 0;position: absolute;width: 1px;}#sk-container-id-2 div.sk-estimator {font-family: monospace;background-color: #f0f8ff;border: 1px dotted black;border-radius: 0.25em;box-sizing: border-box;margin-bottom: 0.5em;}#sk-container-id-2 div.sk-estimator:hover {background-color: #d4ebff;}#sk-container-id-2 div.sk-parallel-item::after {content: \"\";width: 100%;border-bottom: 1px solid gray;flex-grow: 1;}#sk-container-id-2 div.sk-label:hover label.sk-toggleable__label {background-color: #d4ebff;}#sk-container-id-2 div.sk-serial::before {content: \"\";position: absolute;border-left: 1px solid gray;box-sizing: border-box;top: 0;bottom: 0;left: 50%;z-index: 0;}#sk-container-id-2 div.sk-serial {display: flex;flex-direction: column;align-items: center;background-color: white;padding-right: 0.2em;padding-left: 0.2em;position: relative;}#sk-container-id-2 div.sk-item {position: relative;z-index: 1;}#sk-container-id-2 div.sk-parallel {display: flex;align-items: stretch;justify-content: center;background-color: white;position: relative;}#sk-container-id-2 div.sk-item::before, #sk-container-id-2 div.sk-parallel-item::before {content: \"\";position: absolute;border-left: 1px solid gray;box-sizing: border-box;top: 0;bottom: 0;left: 50%;z-index: -1;}#sk-container-id-2 div.sk-parallel-item {display: flex;flex-direction: column;z-index: 1;position: relative;background-color: white;}#sk-container-id-2 div.sk-parallel-item:first-child::after {align-self: flex-end;width: 50%;}#sk-container-id-2 div.sk-parallel-item:last-child::after {align-self: flex-start;width: 50%;}#sk-container-id-2 div.sk-parallel-item:only-child::after {width: 0;}#sk-container-id-2 div.sk-dashed-wrapped {border: 1px dashed gray;margin: 0 0.4em 0.5em 0.4em;box-sizing: border-box;padding-bottom: 0.4em;background-color: white;}#sk-container-id-2 div.sk-label label {font-family: monospace;font-weight: bold;display: inline-block;line-height: 1.2em;}#sk-container-id-2 div.sk-label-container {text-align: center;}#sk-container-id-2 div.sk-container {/* jupyter's `normalize.less` sets `[hidden] { display: none; }` but bootstrap.min.css set `[hidden] { display: none !important; }` so we also need the `!important` here to be able to override the default hidden behavior on the sphinx rendered scikit-learn.org. See: https://github.com/scikit-learn/scikit-learn/issues/21755 */display: inline-block !important;position: relative;}#sk-container-id-2 div.sk-text-repr-fallback {display: none;}</style><div id=\"sk-container-id-2\" class=\"sk-top-container\"><div class=\"sk-text-repr-fallback\"><pre>LinearRegression()</pre><b>In a Jupyter environment, please rerun this cell to show the HTML representation or trust the notebook. <br />On GitHub, the HTML representation is unable to render, please try loading this page with nbviewer.org.</b></div><div class=\"sk-container\" hidden><div class=\"sk-item\"><div class=\"sk-estimator sk-toggleable\"><input class=\"sk-toggleable__control sk-hidden--visually\" id=\"sk-estimator-id-2\" type=\"checkbox\" checked><label for=\"sk-estimator-id-2\" class=\"sk-toggleable__label sk-toggleable__label-arrow\">LinearRegression</label><div class=\"sk-toggleable__content\"><pre>LinearRegression()</pre></div></div></div></div></div>"
      ],
      "text/plain": [
       "LinearRegression()"
      ]
     },
     "execution_count": 33,
     "metadata": {},
     "output_type": "execute_result"
    }
   ],
   "source": [
    "# Do a test/train split based on your new source dataset.\n",
    "X_train, X_test, y_train, y_test = train_test_split(dummy_bikes.drop(columns= ['cnt']), dummy_bikes['cnt'],\n",
    "                                                                            test_size= 0.33, random_state= 42)\n",
    "\n",
    "# Implement and fit a new linear model on the new training set\n",
    "lin_model_dummy = LinearRegression()\n",
    "lin_model_dummy.fit(X_train, y_train)"
   ]
  },
  {
   "cell_type": "markdown",
   "id": "7b18bcdd-6d43-4503-acf6-9f918ecab636",
   "metadata": {},
   "source": [
    "What are the new values for R2, MSE, and RMSE?"
   ]
  },
  {
   "cell_type": "code",
   "execution_count": 34,
   "id": "1d56f090-486d-49c7-a2b7-582764b3e334",
   "metadata": {},
   "outputs": [
    {
     "name": "stdout",
     "output_type": "stream",
     "text": [
      "Linear Regression Model:\n",
      "R2 Score: 0.3935667722101157\n",
      "MSE Score: 20228.695435685302\n",
      "RMSE Score: 142.2276183998217\n"
     ]
    }
   ],
   "source": [
    "# implement cross validation to get r2 and mse\n",
    "lin_cvs_r2 = cross_val_score(estimator= lin_model_dummy, X= X_train, y= y_train, scoring= 'r2')\n",
    "lin_cvs_mse = cross_val_score(estimator= lin_model_dummy, X= X_train, y= y_train, scoring= 'neg_mean_squared_error')\n",
    "r2 = np.mean(lin_cvs_r2)\n",
    "mse = np.mean(-lin_cvs_mse)\n",
    "\n",
    "# calculate RMSE based on MSE\n",
    "rmse = np.sqrt(np.mean(-lin_cvs_mse))\n",
    "model_info = ['Linear Regression', r2, mse, rmse]\n",
    "arr = np.reshape(model_info, (1, 4))\n",
    "\n",
    "print('Linear Regression Model:')\n",
    "print(f'R2 Score: {r2}')\n",
    "print(f'MSE Score: {mse}')\n",
    "print(f'RMSE Score: {rmse}')\n",
    "\n",
    "cv_scores = pd.DataFrame(arr, columns= ['model type', 'r2', 'mse', 'rmse'])"
   ]
  },
  {
   "cell_type": "code",
   "execution_count": 35,
   "id": "c966215d-9d5a-4195-8ffe-3db4d2e587af",
   "metadata": {},
   "outputs": [
    {
     "data": {
      "text/html": [
       "<div>\n",
       "<style scoped>\n",
       "    .dataframe tbody tr th:only-of-type {\n",
       "        vertical-align: middle;\n",
       "    }\n",
       "\n",
       "    .dataframe tbody tr th {\n",
       "        vertical-align: top;\n",
       "    }\n",
       "\n",
       "    .dataframe thead th {\n",
       "        text-align: right;\n",
       "    }\n",
       "</style>\n",
       "<table border=\"1\" class=\"dataframe\">\n",
       "  <thead>\n",
       "    <tr style=\"text-align: right;\">\n",
       "      <th></th>\n",
       "      <th>model type</th>\n",
       "      <th>r2</th>\n",
       "      <th>mse</th>\n",
       "      <th>rmse</th>\n",
       "    </tr>\n",
       "  </thead>\n",
       "  <tbody>\n",
       "    <tr>\n",
       "      <th>0</th>\n",
       "      <td>Linear Regression</td>\n",
       "      <td>0.3935667722101157</td>\n",
       "      <td>20228.695435685302</td>\n",
       "      <td>142.2276183998217</td>\n",
       "    </tr>\n",
       "  </tbody>\n",
       "</table>\n",
       "</div>"
      ],
      "text/plain": [
       "          model type                  r2                 mse  \\\n",
       "0  Linear Regression  0.3935667722101157  20228.695435685302   \n",
       "\n",
       "                rmse  \n",
       "0  142.2276183998217  "
      ]
     },
     "execution_count": 35,
     "metadata": {},
     "output_type": "execute_result"
    }
   ],
   "source": [
    "cv_scores"
   ]
  },
  {
   "cell_type": "markdown",
   "id": "bdc08cae-c71a-44a2-9e28-9107dd1674f3",
   "metadata": {},
   "source": [
    "For implement and score requests, instantiate the algorithm and use cross_val_score or cross_validation."
   ]
  },
  {
   "cell_type": "code",
   "execution_count": 36,
   "id": "5085f094-2d9b-47ad-a6fe-8f7659d339a5",
   "metadata": {},
   "outputs": [],
   "source": [
    "# Implement a decision tree regressor with random_state = 0.\n",
    "dec_tree = DecisionTreeRegressor(random_state= 0)"
   ]
  },
  {
   "cell_type": "code",
   "execution_count": 37,
   "id": "39c019e1-9218-496f-a70c-afb06a7dd5b7",
   "metadata": {},
   "outputs": [],
   "source": [
    "# Implement a RandomForestRegressor with random_state = 0 and n_estimators = 30.\n",
    "rf_regr = RandomForestRegressor(n_estimators= 30, random_state= 0)"
   ]
  },
  {
   "cell_type": "code",
   "execution_count": 38,
   "id": "f5242fae-d04d-4449-b672-293ff9269df6",
   "metadata": {},
   "outputs": [],
   "source": [
    "# Implement an SGDRegressor with max_iter = 1000 and tol = 1e-3.\n",
    "sgd_reg = SGDRegressor(max_iter= 1000, tol= 1e-3, random_state= 42)"
   ]
  },
  {
   "cell_type": "code",
   "execution_count": 39,
   "id": "154bda28-aec6-4050-a76a-cb0834ad9fe0",
   "metadata": {},
   "outputs": [],
   "source": [
    "# Implement a Lasso Regressor with alpha = 0.1\n",
    "lasso = Lasso(alpha= 0.1, random_state= 42)"
   ]
  },
  {
   "cell_type": "code",
   "execution_count": 40,
   "id": "ef5d5f30-5e8d-41c7-b884-552653a7174a",
   "metadata": {},
   "outputs": [],
   "source": [
    "# Implement an ElasticNetRegressor with random_state = 0.\n",
    "elastic = ElasticNet(random_state= 0)"
   ]
  },
  {
   "cell_type": "code",
   "execution_count": 41,
   "id": "2d9f9bdd-8362-462a-9486-ddf03e9d8364",
   "metadata": {},
   "outputs": [],
   "source": [
    "# Implement a RidgeRegressor with alpha = 0.5.\n",
    "ridge = Ridge(alpha= 0.5, random_state= 42)"
   ]
  },
  {
   "cell_type": "code",
   "execution_count": 42,
   "id": "018de571-e046-466e-bb49-9ca605af4eeb",
   "metadata": {},
   "outputs": [],
   "source": [
    "# Implement a BaggingRegressor.\n",
    "bag_reg = BaggingRegressor(random_state= 42)"
   ]
  },
  {
   "cell_type": "code",
   "execution_count": 43,
   "id": "7034ca96-ab0b-42a6-b10f-774f3a7a8381",
   "metadata": {},
   "outputs": [
    {
     "name": "stdout",
     "output_type": "stream",
     "text": [
      "DecisionTreeRegressor(random_state=0):\n",
      "R2 Score: 0.8768560655809692\n",
      "MSE Score: 4101.957338241565\n",
      "RMSE Score: 64.04652479441461\n",
      "\n",
      "\n",
      "RandomForestRegressor(n_estimators=30, random_state=0):\n",
      "R2 Score: 0.9349395283561114\n",
      "MSE Score: 2168.9316770037003\n",
      "RMSE Score: 46.57179057115692\n",
      "\n",
      "\n",
      "SGDRegressor(random_state=42):\n",
      "R2 Score: 0.34893798343951865\n",
      "MSE Score: 21734.679767614907\n",
      "RMSE Score: 147.4268624356325\n",
      "\n",
      "\n",
      "Lasso(alpha=0.1, random_state=42):\n",
      "R2 Score: 0.3936304176557792\n",
      "MSE Score: 20227.014734331617\n",
      "RMSE Score: 142.22170978557253\n",
      "\n",
      "\n",
      "ElasticNet(random_state=0):\n",
      "R2 Score: 0.24425520756873462\n",
      "MSE Score: 25223.986029332817\n",
      "RMSE Score: 158.82060958620207\n",
      "\n",
      "\n",
      "Ridge(alpha=0.5, random_state=42):\n",
      "R2 Score: 0.39359013541537574\n",
      "MSE Score: 20227.921499428754\n",
      "RMSE Score: 142.2248976073766\n",
      "\n",
      "\n",
      "BaggingRegressor(random_state=42):\n",
      "R2 Score: 0.9285344232679332\n",
      "MSE Score: 2381.2071048886874\n",
      "RMSE Score: 48.7976137212537\n",
      "\n",
      "\n"
     ]
    },
    {
     "data": {
      "text/html": [
       "<div>\n",
       "<style scoped>\n",
       "    .dataframe tbody tr th:only-of-type {\n",
       "        vertical-align: middle;\n",
       "    }\n",
       "\n",
       "    .dataframe tbody tr th {\n",
       "        vertical-align: top;\n",
       "    }\n",
       "\n",
       "    .dataframe thead th {\n",
       "        text-align: right;\n",
       "    }\n",
       "</style>\n",
       "<table border=\"1\" class=\"dataframe\">\n",
       "  <thead>\n",
       "    <tr style=\"text-align: right;\">\n",
       "      <th></th>\n",
       "      <th>model type</th>\n",
       "      <th>r2</th>\n",
       "      <th>mse</th>\n",
       "      <th>rmse</th>\n",
       "    </tr>\n",
       "  </thead>\n",
       "  <tbody>\n",
       "    <tr>\n",
       "      <th>0</th>\n",
       "      <td>Linear Regression</td>\n",
       "      <td>0.3935667722101157</td>\n",
       "      <td>20228.695435685302</td>\n",
       "      <td>142.2276183998217</td>\n",
       "    </tr>\n",
       "    <tr>\n",
       "      <th>1</th>\n",
       "      <td>DecisionTreeRegressor(random_state=0)</td>\n",
       "      <td>0.876856</td>\n",
       "      <td>4101.957338</td>\n",
       "      <td>64.046525</td>\n",
       "    </tr>\n",
       "    <tr>\n",
       "      <th>2</th>\n",
       "      <td>(DecisionTreeRegressor(max_features=1.0, rando...</td>\n",
       "      <td>0.93494</td>\n",
       "      <td>2168.931677</td>\n",
       "      <td>46.571791</td>\n",
       "    </tr>\n",
       "    <tr>\n",
       "      <th>3</th>\n",
       "      <td>SGDRegressor(random_state=42)</td>\n",
       "      <td>0.348938</td>\n",
       "      <td>21734.679768</td>\n",
       "      <td>147.426862</td>\n",
       "    </tr>\n",
       "    <tr>\n",
       "      <th>4</th>\n",
       "      <td>Lasso(alpha=0.1, random_state=42)</td>\n",
       "      <td>0.39363</td>\n",
       "      <td>20227.014734</td>\n",
       "      <td>142.22171</td>\n",
       "    </tr>\n",
       "    <tr>\n",
       "      <th>5</th>\n",
       "      <td>ElasticNet(random_state=0)</td>\n",
       "      <td>0.244255</td>\n",
       "      <td>25223.986029</td>\n",
       "      <td>158.82061</td>\n",
       "    </tr>\n",
       "    <tr>\n",
       "      <th>6</th>\n",
       "      <td>Ridge(alpha=0.5, random_state=42)</td>\n",
       "      <td>0.39359</td>\n",
       "      <td>20227.921499</td>\n",
       "      <td>142.224898</td>\n",
       "    </tr>\n",
       "    <tr>\n",
       "      <th>7</th>\n",
       "      <td>(DecisionTreeRegressor(random_state=1952926171...</td>\n",
       "      <td>0.928534</td>\n",
       "      <td>2381.207105</td>\n",
       "      <td>48.797614</td>\n",
       "    </tr>\n",
       "  </tbody>\n",
       "</table>\n",
       "</div>"
      ],
      "text/plain": [
       "                                          model type                  r2  \\\n",
       "0                                  Linear Regression  0.3935667722101157   \n",
       "1              DecisionTreeRegressor(random_state=0)            0.876856   \n",
       "2  (DecisionTreeRegressor(max_features=1.0, rando...             0.93494   \n",
       "3                      SGDRegressor(random_state=42)            0.348938   \n",
       "4                  Lasso(alpha=0.1, random_state=42)             0.39363   \n",
       "5                         ElasticNet(random_state=0)            0.244255   \n",
       "6                  Ridge(alpha=0.5, random_state=42)             0.39359   \n",
       "7  (DecisionTreeRegressor(random_state=1952926171...            0.928534   \n",
       "\n",
       "                  mse               rmse  \n",
       "0  20228.695435685302  142.2276183998217  \n",
       "1         4101.957338          64.046525  \n",
       "2         2168.931677          46.571791  \n",
       "3        21734.679768         147.426862  \n",
       "4        20227.014734          142.22171  \n",
       "5        25223.986029          158.82061  \n",
       "6        20227.921499         142.224898  \n",
       "7         2381.207105          48.797614  "
      ]
     },
     "execution_count": 43,
     "metadata": {},
     "output_type": "execute_result"
    }
   ],
   "source": [
    "# fit and score all the instantiated models\n",
    "models = [dec_tree, rf_regr, sgd_reg, lasso, elastic, ridge, bag_reg]\n",
    "\n",
    "for model in models:\n",
    "    model.fit(X_train, y_train)\n",
    "\n",
    "    model_cv_r2 = cross_val_score(estimator= model, X= X_train, y= y_train, scoring= 'r2')\n",
    "    model_cv_mse = cross_val_score(estimator= model, X= X_train, y= y_train, scoring= 'neg_mean_squared_error')\n",
    "\n",
    "    r2 = np.mean(model_cv_r2)\n",
    "    mse = np.mean(-model_cv_mse)\n",
    "    rmse = np.sqrt(np.mean(-model_cv_mse))\n",
    "    model_info = [model, r2, mse, rmse]\n",
    "    #arr = np.reshape(model_info, (1, 4))\n",
    "\n",
    "    print(f'{model}:')\n",
    "    print(f'R2 Score: {r2}')\n",
    "    print(f'MSE Score: {mse}')\n",
    "    print(f'RMSE Score: {rmse}')\n",
    "    print('\\n')\n",
    "\n",
    "    #pd.DataFrame(np.insert(cv_scores.values, values= model_info, axis= 0), columns= cv_scores.columns)\n",
    "    #cv_scores.reset_index(inplace= True)\n",
    "    #cv_scores = pd.concat((cv_scores.iloc[[0]], model_info), ignore_index= True)\n",
    "    cv_scores.loc[len(cv_scores.index)] = model_info\n",
    "\n",
    "cv_scores"
   ]
  },
  {
   "cell_type": "code",
   "execution_count": 44,
   "id": "a8d05ed9-d32c-4596-90ec-3fb242e06087",
   "metadata": {},
   "outputs": [
    {
     "data": {
      "text/html": [
       "<div>\n",
       "<style scoped>\n",
       "    .dataframe tbody tr th:only-of-type {\n",
       "        vertical-align: middle;\n",
       "    }\n",
       "\n",
       "    .dataframe tbody tr th {\n",
       "        vertical-align: top;\n",
       "    }\n",
       "\n",
       "    .dataframe thead th {\n",
       "        text-align: right;\n",
       "    }\n",
       "</style>\n",
       "<table border=\"1\" class=\"dataframe\">\n",
       "  <thead>\n",
       "    <tr style=\"text-align: right;\">\n",
       "      <th></th>\n",
       "      <th>model type</th>\n",
       "      <th>r2</th>\n",
       "      <th>mse</th>\n",
       "      <th>rmse</th>\n",
       "    </tr>\n",
       "  </thead>\n",
       "  <tbody>\n",
       "    <tr>\n",
       "      <th>0</th>\n",
       "      <td>Linear Regression</td>\n",
       "      <td>0.3935667722101157</td>\n",
       "      <td>20228.695435685302</td>\n",
       "      <td>142.2276183998217</td>\n",
       "    </tr>\n",
       "    <tr>\n",
       "      <th>1</th>\n",
       "      <td>DecisionTreeRegressor(random_state=0)</td>\n",
       "      <td>0.876856</td>\n",
       "      <td>4101.957338</td>\n",
       "      <td>64.046525</td>\n",
       "    </tr>\n",
       "    <tr>\n",
       "      <th>2</th>\n",
       "      <td>Random Forest</td>\n",
       "      <td>0.93494</td>\n",
       "      <td>2168.931677</td>\n",
       "      <td>46.571791</td>\n",
       "    </tr>\n",
       "    <tr>\n",
       "      <th>3</th>\n",
       "      <td>SGDRegressor(random_state=42)</td>\n",
       "      <td>0.348938</td>\n",
       "      <td>21734.679768</td>\n",
       "      <td>147.426862</td>\n",
       "    </tr>\n",
       "    <tr>\n",
       "      <th>4</th>\n",
       "      <td>Lasso(alpha=0.1, random_state=42)</td>\n",
       "      <td>0.39363</td>\n",
       "      <td>20227.014734</td>\n",
       "      <td>142.22171</td>\n",
       "    </tr>\n",
       "    <tr>\n",
       "      <th>5</th>\n",
       "      <td>ElasticNet(random_state=0)</td>\n",
       "      <td>0.244255</td>\n",
       "      <td>25223.986029</td>\n",
       "      <td>158.82061</td>\n",
       "    </tr>\n",
       "    <tr>\n",
       "      <th>6</th>\n",
       "      <td>Ridge(alpha=0.5, random_state=42)</td>\n",
       "      <td>0.39359</td>\n",
       "      <td>20227.921499</td>\n",
       "      <td>142.224898</td>\n",
       "    </tr>\n",
       "    <tr>\n",
       "      <th>7</th>\n",
       "      <td>Bagging Regression</td>\n",
       "      <td>0.928534</td>\n",
       "      <td>2381.207105</td>\n",
       "      <td>48.797614</td>\n",
       "    </tr>\n",
       "  </tbody>\n",
       "</table>\n",
       "</div>"
      ],
      "text/plain": [
       "                              model type                  r2  \\\n",
       "0                      Linear Regression  0.3935667722101157   \n",
       "1  DecisionTreeRegressor(random_state=0)            0.876856   \n",
       "2                          Random Forest             0.93494   \n",
       "3          SGDRegressor(random_state=42)            0.348938   \n",
       "4      Lasso(alpha=0.1, random_state=42)             0.39363   \n",
       "5             ElasticNet(random_state=0)            0.244255   \n",
       "6      Ridge(alpha=0.5, random_state=42)             0.39359   \n",
       "7                     Bagging Regression            0.928534   \n",
       "\n",
       "                  mse               rmse  \n",
       "0  20228.695435685302  142.2276183998217  \n",
       "1         4101.957338          64.046525  \n",
       "2         2168.931677          46.571791  \n",
       "3        21734.679768         147.426862  \n",
       "4        20227.014734          142.22171  \n",
       "5        25223.986029          158.82061  \n",
       "6        20227.921499         142.224898  \n",
       "7         2381.207105          48.797614  "
      ]
     },
     "execution_count": 44,
     "metadata": {},
     "output_type": "execute_result"
    }
   ],
   "source": [
    "# change the names of models at index 2 and 7 to more clearly reflect the model type\n",
    "cv_scores.iloc[2, 0] = 'Random Forest'\n",
    "cv_scores.iloc[7, 0] = 'Bagging Regression'\n",
    "cv_scores"
   ]
  },
  {
   "cell_type": "code",
   "execution_count": 45,
   "id": "47edf569-fb0f-4d2c-a730-7498928aa2c3",
   "metadata": {},
   "outputs": [
    {
     "data": {
      "text/html": [
       "<div>\n",
       "<style scoped>\n",
       "    .dataframe tbody tr th:only-of-type {\n",
       "        vertical-align: middle;\n",
       "    }\n",
       "\n",
       "    .dataframe tbody tr th {\n",
       "        vertical-align: top;\n",
       "    }\n",
       "\n",
       "    .dataframe thead th {\n",
       "        text-align: right;\n",
       "    }\n",
       "</style>\n",
       "<table border=\"1\" class=\"dataframe\">\n",
       "  <thead>\n",
       "    <tr style=\"text-align: right;\">\n",
       "      <th></th>\n",
       "      <th>model type</th>\n",
       "      <th>r2</th>\n",
       "      <th>mse</th>\n",
       "      <th>rmse</th>\n",
       "    </tr>\n",
       "  </thead>\n",
       "  <tbody>\n",
       "    <tr>\n",
       "      <th>2</th>\n",
       "      <td>Random Forest</td>\n",
       "      <td>0.93494</td>\n",
       "      <td>2168.931677</td>\n",
       "      <td>46.571791</td>\n",
       "    </tr>\n",
       "    <tr>\n",
       "      <th>7</th>\n",
       "      <td>Bagging Regression</td>\n",
       "      <td>0.928534</td>\n",
       "      <td>2381.207105</td>\n",
       "      <td>48.797614</td>\n",
       "    </tr>\n",
       "    <tr>\n",
       "      <th>1</th>\n",
       "      <td>DecisionTreeRegressor(random_state=0)</td>\n",
       "      <td>0.876856</td>\n",
       "      <td>4101.957338</td>\n",
       "      <td>64.046525</td>\n",
       "    </tr>\n",
       "    <tr>\n",
       "      <th>4</th>\n",
       "      <td>Lasso(alpha=0.1, random_state=42)</td>\n",
       "      <td>0.39363</td>\n",
       "      <td>20227.014734</td>\n",
       "      <td>142.221710</td>\n",
       "    </tr>\n",
       "    <tr>\n",
       "      <th>6</th>\n",
       "      <td>Ridge(alpha=0.5, random_state=42)</td>\n",
       "      <td>0.39359</td>\n",
       "      <td>20227.921499</td>\n",
       "      <td>142.224898</td>\n",
       "    </tr>\n",
       "    <tr>\n",
       "      <th>0</th>\n",
       "      <td>Linear Regression</td>\n",
       "      <td>0.3935667722101157</td>\n",
       "      <td>20228.695435685302</td>\n",
       "      <td>142.227618</td>\n",
       "    </tr>\n",
       "    <tr>\n",
       "      <th>3</th>\n",
       "      <td>SGDRegressor(random_state=42)</td>\n",
       "      <td>0.348938</td>\n",
       "      <td>21734.679768</td>\n",
       "      <td>147.426862</td>\n",
       "    </tr>\n",
       "    <tr>\n",
       "      <th>5</th>\n",
       "      <td>ElasticNet(random_state=0)</td>\n",
       "      <td>0.244255</td>\n",
       "      <td>25223.986029</td>\n",
       "      <td>158.820610</td>\n",
       "    </tr>\n",
       "  </tbody>\n",
       "</table>\n",
       "</div>"
      ],
      "text/plain": [
       "                              model type                  r2  \\\n",
       "2                          Random Forest             0.93494   \n",
       "7                     Bagging Regression            0.928534   \n",
       "1  DecisionTreeRegressor(random_state=0)            0.876856   \n",
       "4      Lasso(alpha=0.1, random_state=42)             0.39363   \n",
       "6      Ridge(alpha=0.5, random_state=42)             0.39359   \n",
       "0                      Linear Regression  0.3935667722101157   \n",
       "3          SGDRegressor(random_state=42)            0.348938   \n",
       "5             ElasticNet(random_state=0)            0.244255   \n",
       "\n",
       "                  mse        rmse  \n",
       "2         2168.931677   46.571791  \n",
       "7         2381.207105   48.797614  \n",
       "1         4101.957338   64.046525  \n",
       "4        20227.014734  142.221710  \n",
       "6        20227.921499  142.224898  \n",
       "0  20228.695435685302  142.227618  \n",
       "3        21734.679768  147.426862  \n",
       "5        25223.986029  158.820610  "
      ]
     },
     "execution_count": 45,
     "metadata": {},
     "output_type": "execute_result"
    }
   ],
   "source": [
    "# convert all scores to same datatype then sort by lowest rmse\n",
    "cv_scores['rmse'] = cv_scores['rmse'].apply(pd.to_numeric)\n",
    "cv_scores.sort_values(by= 'rmse', inplace= True)\n",
    "cv_scores"
   ]
  },
  {
   "cell_type": "markdown",
   "id": "e7e34a5d-89d6-4e92-8fef-e525968d38b6",
   "metadata": {},
   "source": [
    "## Part 4: Model Tuning"
   ]
  },
  {
   "cell_type": "markdown",
   "id": "e5a66a85-1833-4b72-9421-51d6d1254c39",
   "metadata": {},
   "source": [
    "Take the top three performing models and implement cross-validation on them."
   ]
  },
  {
   "cell_type": "code",
   "execution_count": 46,
   "id": "689bed67-c08b-4ea9-94a7-29f4152001ca",
   "metadata": {},
   "outputs": [],
   "source": [
    "# Hint: They should be Decision Tree Regressor, RandomForest Regressor, and BaggingRegressor."
   ]
  },
  {
   "cell_type": "markdown",
   "id": "8d97a601-cad8-462a-bdd3-37d501c68793",
   "metadata": {},
   "source": [
    "The top three performing models were indeed the Decision Tree Regressor, the RandomForest Regressor, and the BaggingRegressor."
   ]
  },
  {
   "cell_type": "code",
   "execution_count": 47,
   "id": "693366ac-9176-450f-8caa-0d238abccc7a",
   "metadata": {},
   "outputs": [],
   "source": [
    "# set up the parameter grid\n",
    "cv_param_grid = {'random_state': [42],\n",
    "              'max_features': [0.2, 0.4, 0.6, 0.8, 1.0],\n",
    "             }"
   ]
  },
  {
   "cell_type": "markdown",
   "id": "64bc29e3-25e1-432f-b990-b08639e6ab19",
   "metadata": {},
   "source": [
    "Execute the grid search for each of the top three models."
   ]
  },
  {
   "cell_type": "code",
   "execution_count": 48,
   "id": "ac663b34-5c3f-4faf-b7ff-b3a756ed498c",
   "metadata": {},
   "outputs": [
    {
     "name": "stdout",
     "output_type": "stream",
     "text": [
      "Fitting 5 folds for each of 5 candidates, totalling 25 fits\n"
     ]
    },
    {
     "data": {
      "text/html": [
       "<style>#sk-container-id-3 {color: black;}#sk-container-id-3 pre{padding: 0;}#sk-container-id-3 div.sk-toggleable {background-color: white;}#sk-container-id-3 label.sk-toggleable__label {cursor: pointer;display: block;width: 100%;margin-bottom: 0;padding: 0.3em;box-sizing: border-box;text-align: center;}#sk-container-id-3 label.sk-toggleable__label-arrow:before {content: \"▸\";float: left;margin-right: 0.25em;color: #696969;}#sk-container-id-3 label.sk-toggleable__label-arrow:hover:before {color: black;}#sk-container-id-3 div.sk-estimator:hover label.sk-toggleable__label-arrow:before {color: black;}#sk-container-id-3 div.sk-toggleable__content {max-height: 0;max-width: 0;overflow: hidden;text-align: left;background-color: #f0f8ff;}#sk-container-id-3 div.sk-toggleable__content pre {margin: 0.2em;color: black;border-radius: 0.25em;background-color: #f0f8ff;}#sk-container-id-3 input.sk-toggleable__control:checked~div.sk-toggleable__content {max-height: 200px;max-width: 100%;overflow: auto;}#sk-container-id-3 input.sk-toggleable__control:checked~label.sk-toggleable__label-arrow:before {content: \"▾\";}#sk-container-id-3 div.sk-estimator input.sk-toggleable__control:checked~label.sk-toggleable__label {background-color: #d4ebff;}#sk-container-id-3 div.sk-label input.sk-toggleable__control:checked~label.sk-toggleable__label {background-color: #d4ebff;}#sk-container-id-3 input.sk-hidden--visually {border: 0;clip: rect(1px 1px 1px 1px);clip: rect(1px, 1px, 1px, 1px);height: 1px;margin: -1px;overflow: hidden;padding: 0;position: absolute;width: 1px;}#sk-container-id-3 div.sk-estimator {font-family: monospace;background-color: #f0f8ff;border: 1px dotted black;border-radius: 0.25em;box-sizing: border-box;margin-bottom: 0.5em;}#sk-container-id-3 div.sk-estimator:hover {background-color: #d4ebff;}#sk-container-id-3 div.sk-parallel-item::after {content: \"\";width: 100%;border-bottom: 1px solid gray;flex-grow: 1;}#sk-container-id-3 div.sk-label:hover label.sk-toggleable__label {background-color: #d4ebff;}#sk-container-id-3 div.sk-serial::before {content: \"\";position: absolute;border-left: 1px solid gray;box-sizing: border-box;top: 0;bottom: 0;left: 50%;z-index: 0;}#sk-container-id-3 div.sk-serial {display: flex;flex-direction: column;align-items: center;background-color: white;padding-right: 0.2em;padding-left: 0.2em;position: relative;}#sk-container-id-3 div.sk-item {position: relative;z-index: 1;}#sk-container-id-3 div.sk-parallel {display: flex;align-items: stretch;justify-content: center;background-color: white;position: relative;}#sk-container-id-3 div.sk-item::before, #sk-container-id-3 div.sk-parallel-item::before {content: \"\";position: absolute;border-left: 1px solid gray;box-sizing: border-box;top: 0;bottom: 0;left: 50%;z-index: -1;}#sk-container-id-3 div.sk-parallel-item {display: flex;flex-direction: column;z-index: 1;position: relative;background-color: white;}#sk-container-id-3 div.sk-parallel-item:first-child::after {align-self: flex-end;width: 50%;}#sk-container-id-3 div.sk-parallel-item:last-child::after {align-self: flex-start;width: 50%;}#sk-container-id-3 div.sk-parallel-item:only-child::after {width: 0;}#sk-container-id-3 div.sk-dashed-wrapped {border: 1px dashed gray;margin: 0 0.4em 0.5em 0.4em;box-sizing: border-box;padding-bottom: 0.4em;background-color: white;}#sk-container-id-3 div.sk-label label {font-family: monospace;font-weight: bold;display: inline-block;line-height: 1.2em;}#sk-container-id-3 div.sk-label-container {text-align: center;}#sk-container-id-3 div.sk-container {/* jupyter's `normalize.less` sets `[hidden] { display: none; }` but bootstrap.min.css set `[hidden] { display: none !important; }` so we also need the `!important` here to be able to override the default hidden behavior on the sphinx rendered scikit-learn.org. See: https://github.com/scikit-learn/scikit-learn/issues/21755 */display: inline-block !important;position: relative;}#sk-container-id-3 div.sk-text-repr-fallback {display: none;}</style><div id=\"sk-container-id-3\" class=\"sk-top-container\"><div class=\"sk-text-repr-fallback\"><pre>GridSearchCV(cv=5, estimator=DecisionTreeRegressor(random_state=0),\n",
       "             param_grid={&#x27;max_features&#x27;: [0.2, 0.4, 0.6, 0.8, 1.0],\n",
       "                         &#x27;random_state&#x27;: [42]},\n",
       "             scoring=&#x27;neg_mean_squared_error&#x27;, verbose=1)</pre><b>In a Jupyter environment, please rerun this cell to show the HTML representation or trust the notebook. <br />On GitHub, the HTML representation is unable to render, please try loading this page with nbviewer.org.</b></div><div class=\"sk-container\" hidden><div class=\"sk-item sk-dashed-wrapped\"><div class=\"sk-label-container\"><div class=\"sk-label sk-toggleable\"><input class=\"sk-toggleable__control sk-hidden--visually\" id=\"sk-estimator-id-3\" type=\"checkbox\" ><label for=\"sk-estimator-id-3\" class=\"sk-toggleable__label sk-toggleable__label-arrow\">GridSearchCV</label><div class=\"sk-toggleable__content\"><pre>GridSearchCV(cv=5, estimator=DecisionTreeRegressor(random_state=0),\n",
       "             param_grid={&#x27;max_features&#x27;: [0.2, 0.4, 0.6, 0.8, 1.0],\n",
       "                         &#x27;random_state&#x27;: [42]},\n",
       "             scoring=&#x27;neg_mean_squared_error&#x27;, verbose=1)</pre></div></div></div><div class=\"sk-parallel\"><div class=\"sk-parallel-item\"><div class=\"sk-item\"><div class=\"sk-label-container\"><div class=\"sk-label sk-toggleable\"><input class=\"sk-toggleable__control sk-hidden--visually\" id=\"sk-estimator-id-4\" type=\"checkbox\" ><label for=\"sk-estimator-id-4\" class=\"sk-toggleable__label sk-toggleable__label-arrow\">estimator: DecisionTreeRegressor</label><div class=\"sk-toggleable__content\"><pre>DecisionTreeRegressor(random_state=0)</pre></div></div></div><div class=\"sk-serial\"><div class=\"sk-item\"><div class=\"sk-estimator sk-toggleable\"><input class=\"sk-toggleable__control sk-hidden--visually\" id=\"sk-estimator-id-5\" type=\"checkbox\" ><label for=\"sk-estimator-id-5\" class=\"sk-toggleable__label sk-toggleable__label-arrow\">DecisionTreeRegressor</label><div class=\"sk-toggleable__content\"><pre>DecisionTreeRegressor(random_state=0)</pre></div></div></div></div></div></div></div></div></div></div>"
      ],
      "text/plain": [
       "GridSearchCV(cv=5, estimator=DecisionTreeRegressor(random_state=0),\n",
       "             param_grid={'max_features': [0.2, 0.4, 0.6, 0.8, 1.0],\n",
       "                         'random_state': [42]},\n",
       "             scoring='neg_mean_squared_error', verbose=1)"
      ]
     },
     "execution_count": 48,
     "metadata": {},
     "output_type": "execute_result"
    }
   ],
   "source": [
    "# grid search for decision tree\n",
    "dt_grid_search = GridSearchCV(estimator= dec_tree,\n",
    "                              param_grid= cv_param_grid,\n",
    "                              cv= 5,\n",
    "                              verbose = 1,\n",
    "                              scoring= 'neg_mean_squared_error')\n",
    "\n",
    "dt_grid_search.fit(X_train, y_train)"
   ]
  },
  {
   "cell_type": "code",
   "execution_count": 49,
   "id": "622afe29-5460-4309-ab80-338441998d52",
   "metadata": {},
   "outputs": [
    {
     "name": "stdout",
     "output_type": "stream",
     "text": [
      "Fitting 5 folds for each of 5 candidates, totalling 25 fits\n"
     ]
    },
    {
     "data": {
      "text/html": [
       "<style>#sk-container-id-4 {color: black;}#sk-container-id-4 pre{padding: 0;}#sk-container-id-4 div.sk-toggleable {background-color: white;}#sk-container-id-4 label.sk-toggleable__label {cursor: pointer;display: block;width: 100%;margin-bottom: 0;padding: 0.3em;box-sizing: border-box;text-align: center;}#sk-container-id-4 label.sk-toggleable__label-arrow:before {content: \"▸\";float: left;margin-right: 0.25em;color: #696969;}#sk-container-id-4 label.sk-toggleable__label-arrow:hover:before {color: black;}#sk-container-id-4 div.sk-estimator:hover label.sk-toggleable__label-arrow:before {color: black;}#sk-container-id-4 div.sk-toggleable__content {max-height: 0;max-width: 0;overflow: hidden;text-align: left;background-color: #f0f8ff;}#sk-container-id-4 div.sk-toggleable__content pre {margin: 0.2em;color: black;border-radius: 0.25em;background-color: #f0f8ff;}#sk-container-id-4 input.sk-toggleable__control:checked~div.sk-toggleable__content {max-height: 200px;max-width: 100%;overflow: auto;}#sk-container-id-4 input.sk-toggleable__control:checked~label.sk-toggleable__label-arrow:before {content: \"▾\";}#sk-container-id-4 div.sk-estimator input.sk-toggleable__control:checked~label.sk-toggleable__label {background-color: #d4ebff;}#sk-container-id-4 div.sk-label input.sk-toggleable__control:checked~label.sk-toggleable__label {background-color: #d4ebff;}#sk-container-id-4 input.sk-hidden--visually {border: 0;clip: rect(1px 1px 1px 1px);clip: rect(1px, 1px, 1px, 1px);height: 1px;margin: -1px;overflow: hidden;padding: 0;position: absolute;width: 1px;}#sk-container-id-4 div.sk-estimator {font-family: monospace;background-color: #f0f8ff;border: 1px dotted black;border-radius: 0.25em;box-sizing: border-box;margin-bottom: 0.5em;}#sk-container-id-4 div.sk-estimator:hover {background-color: #d4ebff;}#sk-container-id-4 div.sk-parallel-item::after {content: \"\";width: 100%;border-bottom: 1px solid gray;flex-grow: 1;}#sk-container-id-4 div.sk-label:hover label.sk-toggleable__label {background-color: #d4ebff;}#sk-container-id-4 div.sk-serial::before {content: \"\";position: absolute;border-left: 1px solid gray;box-sizing: border-box;top: 0;bottom: 0;left: 50%;z-index: 0;}#sk-container-id-4 div.sk-serial {display: flex;flex-direction: column;align-items: center;background-color: white;padding-right: 0.2em;padding-left: 0.2em;position: relative;}#sk-container-id-4 div.sk-item {position: relative;z-index: 1;}#sk-container-id-4 div.sk-parallel {display: flex;align-items: stretch;justify-content: center;background-color: white;position: relative;}#sk-container-id-4 div.sk-item::before, #sk-container-id-4 div.sk-parallel-item::before {content: \"\";position: absolute;border-left: 1px solid gray;box-sizing: border-box;top: 0;bottom: 0;left: 50%;z-index: -1;}#sk-container-id-4 div.sk-parallel-item {display: flex;flex-direction: column;z-index: 1;position: relative;background-color: white;}#sk-container-id-4 div.sk-parallel-item:first-child::after {align-self: flex-end;width: 50%;}#sk-container-id-4 div.sk-parallel-item:last-child::after {align-self: flex-start;width: 50%;}#sk-container-id-4 div.sk-parallel-item:only-child::after {width: 0;}#sk-container-id-4 div.sk-dashed-wrapped {border: 1px dashed gray;margin: 0 0.4em 0.5em 0.4em;box-sizing: border-box;padding-bottom: 0.4em;background-color: white;}#sk-container-id-4 div.sk-label label {font-family: monospace;font-weight: bold;display: inline-block;line-height: 1.2em;}#sk-container-id-4 div.sk-label-container {text-align: center;}#sk-container-id-4 div.sk-container {/* jupyter's `normalize.less` sets `[hidden] { display: none; }` but bootstrap.min.css set `[hidden] { display: none !important; }` so we also need the `!important` here to be able to override the default hidden behavior on the sphinx rendered scikit-learn.org. See: https://github.com/scikit-learn/scikit-learn/issues/21755 */display: inline-block !important;position: relative;}#sk-container-id-4 div.sk-text-repr-fallback {display: none;}</style><div id=\"sk-container-id-4\" class=\"sk-top-container\"><div class=\"sk-text-repr-fallback\"><pre>GridSearchCV(cv=5,\n",
       "             estimator=RandomForestRegressor(n_estimators=30, random_state=0),\n",
       "             param_grid={&#x27;max_features&#x27;: [0.2, 0.4, 0.6, 0.8, 1.0],\n",
       "                         &#x27;random_state&#x27;: [42]},\n",
       "             scoring=&#x27;neg_mean_squared_error&#x27;, verbose=1)</pre><b>In a Jupyter environment, please rerun this cell to show the HTML representation or trust the notebook. <br />On GitHub, the HTML representation is unable to render, please try loading this page with nbviewer.org.</b></div><div class=\"sk-container\" hidden><div class=\"sk-item sk-dashed-wrapped\"><div class=\"sk-label-container\"><div class=\"sk-label sk-toggleable\"><input class=\"sk-toggleable__control sk-hidden--visually\" id=\"sk-estimator-id-6\" type=\"checkbox\" ><label for=\"sk-estimator-id-6\" class=\"sk-toggleable__label sk-toggleable__label-arrow\">GridSearchCV</label><div class=\"sk-toggleable__content\"><pre>GridSearchCV(cv=5,\n",
       "             estimator=RandomForestRegressor(n_estimators=30, random_state=0),\n",
       "             param_grid={&#x27;max_features&#x27;: [0.2, 0.4, 0.6, 0.8, 1.0],\n",
       "                         &#x27;random_state&#x27;: [42]},\n",
       "             scoring=&#x27;neg_mean_squared_error&#x27;, verbose=1)</pre></div></div></div><div class=\"sk-parallel\"><div class=\"sk-parallel-item\"><div class=\"sk-item\"><div class=\"sk-label-container\"><div class=\"sk-label sk-toggleable\"><input class=\"sk-toggleable__control sk-hidden--visually\" id=\"sk-estimator-id-7\" type=\"checkbox\" ><label for=\"sk-estimator-id-7\" class=\"sk-toggleable__label sk-toggleable__label-arrow\">estimator: RandomForestRegressor</label><div class=\"sk-toggleable__content\"><pre>RandomForestRegressor(n_estimators=30, random_state=0)</pre></div></div></div><div class=\"sk-serial\"><div class=\"sk-item\"><div class=\"sk-estimator sk-toggleable\"><input class=\"sk-toggleable__control sk-hidden--visually\" id=\"sk-estimator-id-8\" type=\"checkbox\" ><label for=\"sk-estimator-id-8\" class=\"sk-toggleable__label sk-toggleable__label-arrow\">RandomForestRegressor</label><div class=\"sk-toggleable__content\"><pre>RandomForestRegressor(n_estimators=30, random_state=0)</pre></div></div></div></div></div></div></div></div></div></div>"
      ],
      "text/plain": [
       "GridSearchCV(cv=5,\n",
       "             estimator=RandomForestRegressor(n_estimators=30, random_state=0),\n",
       "             param_grid={'max_features': [0.2, 0.4, 0.6, 0.8, 1.0],\n",
       "                         'random_state': [42]},\n",
       "             scoring='neg_mean_squared_error', verbose=1)"
      ]
     },
     "execution_count": 49,
     "metadata": {},
     "output_type": "execute_result"
    }
   ],
   "source": [
    "rf_grid_search = GridSearchCV(estimator= rf_regr,\n",
    "                              param_grid= cv_param_grid,\n",
    "                              cv= 5,\n",
    "                              verbose = 1,\n",
    "                              scoring= 'neg_mean_squared_error')\n",
    "\n",
    "rf_grid_search.fit(X_train, y_train)"
   ]
  },
  {
   "cell_type": "code",
   "execution_count": 50,
   "id": "5169ce2f-02c5-4a75-831c-94fab8789854",
   "metadata": {},
   "outputs": [
    {
     "name": "stdout",
     "output_type": "stream",
     "text": [
      "Fitting 5 folds for each of 5 candidates, totalling 25 fits\n"
     ]
    },
    {
     "data": {
      "text/html": [
       "<style>#sk-container-id-5 {color: black;}#sk-container-id-5 pre{padding: 0;}#sk-container-id-5 div.sk-toggleable {background-color: white;}#sk-container-id-5 label.sk-toggleable__label {cursor: pointer;display: block;width: 100%;margin-bottom: 0;padding: 0.3em;box-sizing: border-box;text-align: center;}#sk-container-id-5 label.sk-toggleable__label-arrow:before {content: \"▸\";float: left;margin-right: 0.25em;color: #696969;}#sk-container-id-5 label.sk-toggleable__label-arrow:hover:before {color: black;}#sk-container-id-5 div.sk-estimator:hover label.sk-toggleable__label-arrow:before {color: black;}#sk-container-id-5 div.sk-toggleable__content {max-height: 0;max-width: 0;overflow: hidden;text-align: left;background-color: #f0f8ff;}#sk-container-id-5 div.sk-toggleable__content pre {margin: 0.2em;color: black;border-radius: 0.25em;background-color: #f0f8ff;}#sk-container-id-5 input.sk-toggleable__control:checked~div.sk-toggleable__content {max-height: 200px;max-width: 100%;overflow: auto;}#sk-container-id-5 input.sk-toggleable__control:checked~label.sk-toggleable__label-arrow:before {content: \"▾\";}#sk-container-id-5 div.sk-estimator input.sk-toggleable__control:checked~label.sk-toggleable__label {background-color: #d4ebff;}#sk-container-id-5 div.sk-label input.sk-toggleable__control:checked~label.sk-toggleable__label {background-color: #d4ebff;}#sk-container-id-5 input.sk-hidden--visually {border: 0;clip: rect(1px 1px 1px 1px);clip: rect(1px, 1px, 1px, 1px);height: 1px;margin: -1px;overflow: hidden;padding: 0;position: absolute;width: 1px;}#sk-container-id-5 div.sk-estimator {font-family: monospace;background-color: #f0f8ff;border: 1px dotted black;border-radius: 0.25em;box-sizing: border-box;margin-bottom: 0.5em;}#sk-container-id-5 div.sk-estimator:hover {background-color: #d4ebff;}#sk-container-id-5 div.sk-parallel-item::after {content: \"\";width: 100%;border-bottom: 1px solid gray;flex-grow: 1;}#sk-container-id-5 div.sk-label:hover label.sk-toggleable__label {background-color: #d4ebff;}#sk-container-id-5 div.sk-serial::before {content: \"\";position: absolute;border-left: 1px solid gray;box-sizing: border-box;top: 0;bottom: 0;left: 50%;z-index: 0;}#sk-container-id-5 div.sk-serial {display: flex;flex-direction: column;align-items: center;background-color: white;padding-right: 0.2em;padding-left: 0.2em;position: relative;}#sk-container-id-5 div.sk-item {position: relative;z-index: 1;}#sk-container-id-5 div.sk-parallel {display: flex;align-items: stretch;justify-content: center;background-color: white;position: relative;}#sk-container-id-5 div.sk-item::before, #sk-container-id-5 div.sk-parallel-item::before {content: \"\";position: absolute;border-left: 1px solid gray;box-sizing: border-box;top: 0;bottom: 0;left: 50%;z-index: -1;}#sk-container-id-5 div.sk-parallel-item {display: flex;flex-direction: column;z-index: 1;position: relative;background-color: white;}#sk-container-id-5 div.sk-parallel-item:first-child::after {align-self: flex-end;width: 50%;}#sk-container-id-5 div.sk-parallel-item:last-child::after {align-self: flex-start;width: 50%;}#sk-container-id-5 div.sk-parallel-item:only-child::after {width: 0;}#sk-container-id-5 div.sk-dashed-wrapped {border: 1px dashed gray;margin: 0 0.4em 0.5em 0.4em;box-sizing: border-box;padding-bottom: 0.4em;background-color: white;}#sk-container-id-5 div.sk-label label {font-family: monospace;font-weight: bold;display: inline-block;line-height: 1.2em;}#sk-container-id-5 div.sk-label-container {text-align: center;}#sk-container-id-5 div.sk-container {/* jupyter's `normalize.less` sets `[hidden] { display: none; }` but bootstrap.min.css set `[hidden] { display: none !important; }` so we also need the `!important` here to be able to override the default hidden behavior on the sphinx rendered scikit-learn.org. See: https://github.com/scikit-learn/scikit-learn/issues/21755 */display: inline-block !important;position: relative;}#sk-container-id-5 div.sk-text-repr-fallback {display: none;}</style><div id=\"sk-container-id-5\" class=\"sk-top-container\"><div class=\"sk-text-repr-fallback\"><pre>GridSearchCV(cv=5, estimator=BaggingRegressor(random_state=42),\n",
       "             param_grid={&#x27;max_features&#x27;: [0.2, 0.4, 0.6, 0.8, 1.0],\n",
       "                         &#x27;random_state&#x27;: [42]},\n",
       "             scoring=&#x27;neg_mean_squared_error&#x27;, verbose=1)</pre><b>In a Jupyter environment, please rerun this cell to show the HTML representation or trust the notebook. <br />On GitHub, the HTML representation is unable to render, please try loading this page with nbviewer.org.</b></div><div class=\"sk-container\" hidden><div class=\"sk-item sk-dashed-wrapped\"><div class=\"sk-label-container\"><div class=\"sk-label sk-toggleable\"><input class=\"sk-toggleable__control sk-hidden--visually\" id=\"sk-estimator-id-9\" type=\"checkbox\" ><label for=\"sk-estimator-id-9\" class=\"sk-toggleable__label sk-toggleable__label-arrow\">GridSearchCV</label><div class=\"sk-toggleable__content\"><pre>GridSearchCV(cv=5, estimator=BaggingRegressor(random_state=42),\n",
       "             param_grid={&#x27;max_features&#x27;: [0.2, 0.4, 0.6, 0.8, 1.0],\n",
       "                         &#x27;random_state&#x27;: [42]},\n",
       "             scoring=&#x27;neg_mean_squared_error&#x27;, verbose=1)</pre></div></div></div><div class=\"sk-parallel\"><div class=\"sk-parallel-item\"><div class=\"sk-item\"><div class=\"sk-label-container\"><div class=\"sk-label sk-toggleable\"><input class=\"sk-toggleable__control sk-hidden--visually\" id=\"sk-estimator-id-10\" type=\"checkbox\" ><label for=\"sk-estimator-id-10\" class=\"sk-toggleable__label sk-toggleable__label-arrow\">estimator: BaggingRegressor</label><div class=\"sk-toggleable__content\"><pre>BaggingRegressor(random_state=42)</pre></div></div></div><div class=\"sk-serial\"><div class=\"sk-item\"><div class=\"sk-estimator sk-toggleable\"><input class=\"sk-toggleable__control sk-hidden--visually\" id=\"sk-estimator-id-11\" type=\"checkbox\" ><label for=\"sk-estimator-id-11\" class=\"sk-toggleable__label sk-toggleable__label-arrow\">BaggingRegressor</label><div class=\"sk-toggleable__content\"><pre>BaggingRegressor(random_state=42)</pre></div></div></div></div></div></div></div></div></div></div>"
      ],
      "text/plain": [
       "GridSearchCV(cv=5, estimator=BaggingRegressor(random_state=42),\n",
       "             param_grid={'max_features': [0.2, 0.4, 0.6, 0.8, 1.0],\n",
       "                         'random_state': [42]},\n",
       "             scoring='neg_mean_squared_error', verbose=1)"
      ]
     },
     "execution_count": 50,
     "metadata": {},
     "output_type": "execute_result"
    }
   ],
   "source": [
    "br_grid_search = GridSearchCV(estimator= bag_reg,\n",
    "                              param_grid= cv_param_grid,\n",
    "                              cv= 5,\n",
    "                              verbose = 1,\n",
    "                              scoring= 'neg_mean_squared_error')\n",
    "\n",
    "br_grid_search.fit(X_train, y_train)"
   ]
  },
  {
   "cell_type": "code",
   "execution_count": 51,
   "id": "4f9f7e9e-16fa-4321-8633-b2cc0aea10a7",
   "metadata": {},
   "outputs": [
    {
     "name": "stdout",
     "output_type": "stream",
     "text": [
      "Best Decision Tree estimator parameters: {'max_features': 1.0, 'random_state': 42}\n",
      "Best RMSE Score: 63.79719832847778\n",
      "\n",
      "\n",
      "Best Random Forrest estimator parameters: {'max_features': 0.8, 'random_state': 42}\n",
      "Best RMSE Score: 46.267210631169874\n",
      "\n",
      "\n",
      "Best Bagging estimator parameters: {'max_features': 1.0, 'random_state': 42}\n",
      "Best RMSE Score: 48.7976137212537\n",
      "\n",
      "\n"
     ]
    }
   ],
   "source": [
    "# print the estimator, its best resulting parameters, and the best resulting score\n",
    "print(f'Best Decision Tree estimator parameters: {dt_grid_search.best_params_}')\n",
    "print(f'Best RMSE Score: {np.sqrt(-dt_grid_search.best_score_)}')\n",
    "print('\\n')\n",
    "print(f'Best Random Forrest estimator parameters: {rf_grid_search.best_params_}')\n",
    "print(f'Best RMSE Score: {np.sqrt(-rf_grid_search.best_score_)}')\n",
    "print('\\n')\n",
    "print(f'Best Bagging estimator parameters: {br_grid_search.best_params_}')\n",
    "print(f'Best RMSE Score: {np.sqrt(-br_grid_search.best_score_)}')\n",
    "print('\\n')"
   ]
  },
  {
   "cell_type": "markdown",
   "id": "f90e3fbb-31ec-4fdc-b5e2-8c3bbfc0a9fc",
   "metadata": {},
   "source": [
    "Take your top performing model (mine was the RandomForestRegressor) and do a randomized search cv with 20 iterations and three folds.\n",
    "- I found it is best to set your n_jobs = (# of cpu's you have - 1). This took about 10 minutes on my MacBook with 4 CPUs and 8 GB of memory.\n",
    "- Your param distributions should include the following:\n",
    "  - Boostrap: true, false\n",
    "  - Max_depth: 10-110, number of bins 11\n",
    "  - Max_features: auto, sqrt\n",
    "  - Min_samples_split: 2, 5, 10\n",
    "  - Min_samples_leaf: 1, 2, 4\n",
    "  - N_estimators: 200-2000, number of bins 10"
   ]
  },
  {
   "cell_type": "code",
   "execution_count": 52,
   "id": "3757228e-41d9-4639-826b-551d9b5e6775",
   "metadata": {},
   "outputs": [
    {
     "name": "stdout",
     "output_type": "stream",
     "text": [
      "Fitting 3 folds for each of 20 candidates, totalling 60 fits\n"
     ]
    },
    {
     "data": {
      "text/html": [
       "<style>#sk-container-id-6 {color: black;}#sk-container-id-6 pre{padding: 0;}#sk-container-id-6 div.sk-toggleable {background-color: white;}#sk-container-id-6 label.sk-toggleable__label {cursor: pointer;display: block;width: 100%;margin-bottom: 0;padding: 0.3em;box-sizing: border-box;text-align: center;}#sk-container-id-6 label.sk-toggleable__label-arrow:before {content: \"▸\";float: left;margin-right: 0.25em;color: #696969;}#sk-container-id-6 label.sk-toggleable__label-arrow:hover:before {color: black;}#sk-container-id-6 div.sk-estimator:hover label.sk-toggleable__label-arrow:before {color: black;}#sk-container-id-6 div.sk-toggleable__content {max-height: 0;max-width: 0;overflow: hidden;text-align: left;background-color: #f0f8ff;}#sk-container-id-6 div.sk-toggleable__content pre {margin: 0.2em;color: black;border-radius: 0.25em;background-color: #f0f8ff;}#sk-container-id-6 input.sk-toggleable__control:checked~div.sk-toggleable__content {max-height: 200px;max-width: 100%;overflow: auto;}#sk-container-id-6 input.sk-toggleable__control:checked~label.sk-toggleable__label-arrow:before {content: \"▾\";}#sk-container-id-6 div.sk-estimator input.sk-toggleable__control:checked~label.sk-toggleable__label {background-color: #d4ebff;}#sk-container-id-6 div.sk-label input.sk-toggleable__control:checked~label.sk-toggleable__label {background-color: #d4ebff;}#sk-container-id-6 input.sk-hidden--visually {border: 0;clip: rect(1px 1px 1px 1px);clip: rect(1px, 1px, 1px, 1px);height: 1px;margin: -1px;overflow: hidden;padding: 0;position: absolute;width: 1px;}#sk-container-id-6 div.sk-estimator {font-family: monospace;background-color: #f0f8ff;border: 1px dotted black;border-radius: 0.25em;box-sizing: border-box;margin-bottom: 0.5em;}#sk-container-id-6 div.sk-estimator:hover {background-color: #d4ebff;}#sk-container-id-6 div.sk-parallel-item::after {content: \"\";width: 100%;border-bottom: 1px solid gray;flex-grow: 1;}#sk-container-id-6 div.sk-label:hover label.sk-toggleable__label {background-color: #d4ebff;}#sk-container-id-6 div.sk-serial::before {content: \"\";position: absolute;border-left: 1px solid gray;box-sizing: border-box;top: 0;bottom: 0;left: 50%;z-index: 0;}#sk-container-id-6 div.sk-serial {display: flex;flex-direction: column;align-items: center;background-color: white;padding-right: 0.2em;padding-left: 0.2em;position: relative;}#sk-container-id-6 div.sk-item {position: relative;z-index: 1;}#sk-container-id-6 div.sk-parallel {display: flex;align-items: stretch;justify-content: center;background-color: white;position: relative;}#sk-container-id-6 div.sk-item::before, #sk-container-id-6 div.sk-parallel-item::before {content: \"\";position: absolute;border-left: 1px solid gray;box-sizing: border-box;top: 0;bottom: 0;left: 50%;z-index: -1;}#sk-container-id-6 div.sk-parallel-item {display: flex;flex-direction: column;z-index: 1;position: relative;background-color: white;}#sk-container-id-6 div.sk-parallel-item:first-child::after {align-self: flex-end;width: 50%;}#sk-container-id-6 div.sk-parallel-item:last-child::after {align-self: flex-start;width: 50%;}#sk-container-id-6 div.sk-parallel-item:only-child::after {width: 0;}#sk-container-id-6 div.sk-dashed-wrapped {border: 1px dashed gray;margin: 0 0.4em 0.5em 0.4em;box-sizing: border-box;padding-bottom: 0.4em;background-color: white;}#sk-container-id-6 div.sk-label label {font-family: monospace;font-weight: bold;display: inline-block;line-height: 1.2em;}#sk-container-id-6 div.sk-label-container {text-align: center;}#sk-container-id-6 div.sk-container {/* jupyter's `normalize.less` sets `[hidden] { display: none; }` but bootstrap.min.css set `[hidden] { display: none !important; }` so we also need the `!important` here to be able to override the default hidden behavior on the sphinx rendered scikit-learn.org. See: https://github.com/scikit-learn/scikit-learn/issues/21755 */display: inline-block !important;position: relative;}#sk-container-id-6 div.sk-text-repr-fallback {display: none;}</style><div id=\"sk-container-id-6\" class=\"sk-top-container\"><div class=\"sk-text-repr-fallback\"><pre>RandomizedSearchCV(cv=3,\n",
       "                   estimator=RandomForestRegressor(n_estimators=30,\n",
       "                                                   random_state=0),\n",
       "                   n_iter=20, n_jobs=1,\n",
       "                   param_distributions={&#x27;bootstrap&#x27;: [True, False],\n",
       "                                        &#x27;max_depth&#x27;: [10, 20, 30, 40, 50, 60,\n",
       "                                                      70, 80, 90, 100, 110],\n",
       "                                        &#x27;max_features&#x27;: [1.0, &#x27;sqrt&#x27;],\n",
       "                                        &#x27;min_samples_leaf&#x27;: [1, 2, 4],\n",
       "                                        &#x27;min_samples_split&#x27;: [2, 5, 10],\n",
       "                                        &#x27;n_estimators&#x27;: [200, 400, 600, 800,\n",
       "                                                         1000, 1200, 1400, 1600,\n",
       "                                                         1800, 2000]},\n",
       "                   random_state=42, scoring=&#x27;neg_mean_squared_error&#x27;,\n",
       "                   verbose=1)</pre><b>In a Jupyter environment, please rerun this cell to show the HTML representation or trust the notebook. <br />On GitHub, the HTML representation is unable to render, please try loading this page with nbviewer.org.</b></div><div class=\"sk-container\" hidden><div class=\"sk-item sk-dashed-wrapped\"><div class=\"sk-label-container\"><div class=\"sk-label sk-toggleable\"><input class=\"sk-toggleable__control sk-hidden--visually\" id=\"sk-estimator-id-12\" type=\"checkbox\" ><label for=\"sk-estimator-id-12\" class=\"sk-toggleable__label sk-toggleable__label-arrow\">RandomizedSearchCV</label><div class=\"sk-toggleable__content\"><pre>RandomizedSearchCV(cv=3,\n",
       "                   estimator=RandomForestRegressor(n_estimators=30,\n",
       "                                                   random_state=0),\n",
       "                   n_iter=20, n_jobs=1,\n",
       "                   param_distributions={&#x27;bootstrap&#x27;: [True, False],\n",
       "                                        &#x27;max_depth&#x27;: [10, 20, 30, 40, 50, 60,\n",
       "                                                      70, 80, 90, 100, 110],\n",
       "                                        &#x27;max_features&#x27;: [1.0, &#x27;sqrt&#x27;],\n",
       "                                        &#x27;min_samples_leaf&#x27;: [1, 2, 4],\n",
       "                                        &#x27;min_samples_split&#x27;: [2, 5, 10],\n",
       "                                        &#x27;n_estimators&#x27;: [200, 400, 600, 800,\n",
       "                                                         1000, 1200, 1400, 1600,\n",
       "                                                         1800, 2000]},\n",
       "                   random_state=42, scoring=&#x27;neg_mean_squared_error&#x27;,\n",
       "                   verbose=1)</pre></div></div></div><div class=\"sk-parallel\"><div class=\"sk-parallel-item\"><div class=\"sk-item\"><div class=\"sk-label-container\"><div class=\"sk-label sk-toggleable\"><input class=\"sk-toggleable__control sk-hidden--visually\" id=\"sk-estimator-id-13\" type=\"checkbox\" ><label for=\"sk-estimator-id-13\" class=\"sk-toggleable__label sk-toggleable__label-arrow\">estimator: RandomForestRegressor</label><div class=\"sk-toggleable__content\"><pre>RandomForestRegressor(n_estimators=30, random_state=0)</pre></div></div></div><div class=\"sk-serial\"><div class=\"sk-item\"><div class=\"sk-estimator sk-toggleable\"><input class=\"sk-toggleable__control sk-hidden--visually\" id=\"sk-estimator-id-14\" type=\"checkbox\" ><label for=\"sk-estimator-id-14\" class=\"sk-toggleable__label sk-toggleable__label-arrow\">RandomForestRegressor</label><div class=\"sk-toggleable__content\"><pre>RandomForestRegressor(n_estimators=30, random_state=0)</pre></div></div></div></div></div></div></div></div></div></div>"
      ],
      "text/plain": [
       "RandomizedSearchCV(cv=3,\n",
       "                   estimator=RandomForestRegressor(n_estimators=30,\n",
       "                                                   random_state=0),\n",
       "                   n_iter=20, n_jobs=1,\n",
       "                   param_distributions={'bootstrap': [True, False],\n",
       "                                        'max_depth': [10, 20, 30, 40, 50, 60,\n",
       "                                                      70, 80, 90, 100, 110],\n",
       "                                        'max_features': [1.0, 'sqrt'],\n",
       "                                        'min_samples_leaf': [1, 2, 4],\n",
       "                                        'min_samples_split': [2, 5, 10],\n",
       "                                        'n_estimators': [200, 400, 600, 800,\n",
       "                                                         1000, 1200, 1400, 1600,\n",
       "                                                         1800, 2000]},\n",
       "                   random_state=42, scoring='neg_mean_squared_error',\n",
       "                   verbose=1)"
      ]
     },
     "execution_count": 52,
     "metadata": {},
     "output_type": "execute_result"
    }
   ],
   "source": [
    "# set up the parameter grid\n",
    "rand_param_grid = {'bootstrap': [True, False],\n",
    "                   'max_depth': [int(x) for x in np.linspace(10, 110, num = 11)],\n",
    "                   'max_features': [1.0, 'sqrt'],\n",
    "                   'min_samples_split': [2, 5, 10],\n",
    "                   'min_samples_leaf': [1, 2, 4],\n",
    "                   'n_estimators': [int(x) for x in np.linspace(200, 2000, num = 10)],\n",
    "                  }\n",
    "\n",
    "# set up randomized search\n",
    "rand_grid_search = RandomizedSearchCV(estimator= rf_regr,\n",
    "                                      param_distributions= rand_param_grid,\n",
    "                                      n_iter= 20,\n",
    "                                      n_jobs= 1,\n",
    "                                      cv= 3,\n",
    "                                      verbose = 1,\n",
    "                                      scoring= 'neg_mean_squared_error',\n",
    "                                      random_state= 42,\n",
    "                                     )\n",
    "\n",
    "# evaluate randomized grid search\n",
    "rand_grid_search.fit(X_train, y_train)"
   ]
  },
  {
   "cell_type": "code",
   "execution_count": null,
   "id": "e2cad51f-a341-4cf2-a3ee-7c619b870211",
   "metadata": {},
   "outputs": [],
   "source": [
    "RandomForestRegressor()"
   ]
  },
  {
   "cell_type": "markdown",
   "id": "d2d25473-bd6d-4b55-bfe0-c603858ff976",
   "metadata": {},
   "source": [
    "Take your best_estimator_ and see how it compares by doing cross_vals for r2, mse, and calculating rmse."
   ]
  },
  {
   "cell_type": "code",
   "execution_count": 53,
   "id": "1bf93308-f9e6-4801-8c0e-2a7c48767690",
   "metadata": {},
   "outputs": [
    {
     "name": "stdout",
     "output_type": "stream",
     "text": [
      "Best Random Forest Regressor Model:\n",
      "\n",
      "\n",
      "R2 Score: 0.9363922826448059\n",
      "MSE Score: 2120.4482341158773\n",
      "RMSE Score: 46.04832498708153\n",
      "\n",
      "\n"
     ]
    }
   ],
   "source": [
    "best_rf_model = rand_grid_search.best_estimator_\n",
    "\n",
    "brf_cv_r2 = cross_val_score(estimator= best_rf_model, X= X_train, y= y_train, scoring= 'r2')\n",
    "brf_cv_mse = cross_val_score(estimator= best_rf_model, X= X_train, y= y_train, scoring= 'neg_mean_squared_error')\n",
    "\n",
    "r2 = np.mean(brf_cv_r2)\n",
    "mse = np.mean(-brf_cv_mse)\n",
    "rmse = np.sqrt(np.mean(-brf_cv_mse))\n",
    "\n",
    "print('Best Random Forest Regressor Model:')\n",
    "print('\\n')\n",
    "print(f'R2 Score: {r2}')\n",
    "print(f'MSE Score: {mse}')\n",
    "print(f'RMSE Score: {rmse}')\n",
    "print('\\n')"
   ]
  },
  {
   "cell_type": "code",
   "execution_count": 54,
   "id": "8abfbfd2-88f7-4dca-8190-d950690a6fd9",
   "metadata": {},
   "outputs": [
    {
     "name": "stdout",
     "output_type": "stream",
     "text": [
      "Best Random Forest Regressor Model Parameters:\n",
      "{'n_estimators': 1800, 'min_samples_split': 5, 'min_samples_leaf': 1, 'max_features': 1.0, 'max_depth': 100, 'bootstrap': True}\n"
     ]
    }
   ],
   "source": [
    "print('Best Random Forest Regressor Model Parameters:')\n",
    "print(f'{rand_grid_search.best_params_}')"
   ]
  },
  {
   "cell_type": "markdown",
   "id": "df1b3af1-ed02-49a2-a3c3-1baee0e1ea6d",
   "metadata": {},
   "source": [
    "Finally, run predictions on your test set with this model, and see how your r2 score and rmse look."
   ]
  },
  {
   "cell_type": "code",
   "execution_count": 55,
   "id": "4a5b1cdc-a771-437a-a520-67495573615e",
   "metadata": {},
   "outputs": [],
   "source": [
    "# make predictions\n",
    "best_rf_preds = best_rf_model.predict(X_test)"
   ]
  },
  {
   "cell_type": "code",
   "execution_count": 56,
   "id": "8c7da470-4d3f-4ad3-b42b-db09050386eb",
   "metadata": {},
   "outputs": [
    {
     "data": {
      "text/plain": [
       "42.34822021629196"
      ]
     },
     "execution_count": 56,
     "metadata": {},
     "output_type": "execute_result"
    }
   ],
   "source": [
    "# calculate RMSE on test set\n",
    "np.sqrt(mean_squared_error(y_test, best_rf_preds))"
   ]
  },
  {
   "cell_type": "markdown",
   "id": "c0bd00bd-a481-4741-b765-9d6e7a81af20",
   "metadata": {},
   "source": [
    "The RMSE is lower on the test set than on the training set."
   ]
  },
  {
   "cell_type": "code",
   "execution_count": null,
   "id": "62ab2151-5eff-40a5-9379-169e61356aac",
   "metadata": {},
   "outputs": [],
   "source": []
  }
 ],
 "metadata": {
  "kernelspec": {
   "display_name": "Python 3 (ipykernel)",
   "language": "python",
   "name": "python3"
  },
  "language_info": {
   "codemirror_mode": {
    "name": "ipython",
    "version": 3
   },
   "file_extension": ".py",
   "mimetype": "text/x-python",
   "name": "python",
   "nbconvert_exporter": "python",
   "pygments_lexer": "ipython3",
   "version": "3.10.11"
  }
 },
 "nbformat": 4,
 "nbformat_minor": 5
}
